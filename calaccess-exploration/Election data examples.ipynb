{
 "cells": [
  {
   "cell_type": "markdown",
   "metadata": {},
   "source": [
    "# Election data examples\n",
    "\n",
    "By Ben Welsh\n",
    "\n",
    "Examples of working with the California elections data published by the California Civic Data Coalition."
   ]
  },
  {
   "cell_type": "code",
   "execution_count": 160,
   "metadata": {
    "collapsed": true
   },
   "outputs": [],
   "source": [
    "import pandas as pd"
   ]
  },
  {
   "cell_type": "code",
   "execution_count": 161,
   "metadata": {},
   "outputs": [],
   "source": [
    "%matplotlib inline"
   ]
  },
  {
   "cell_type": "markdown",
   "metadata": {},
   "source": [
    "### Read in data from the Coalition's API"
   ]
  },
  {
   "cell_type": "markdown",
   "metadata": {},
   "source": [
    "First [candidates](https://calaccess.californiacivicdata.org/documentation/processed-files/candidates/)"
   ]
  },
  {
   "cell_type": "code",
   "execution_count": 162,
   "metadata": {
    "collapsed": true
   },
   "outputs": [],
   "source": [
    "candidates = pd.read_csv(\"https://calaccess.download/latest/Candidates.csv\")"
   ]
  },
  {
   "cell_type": "code",
   "execution_count": 163,
   "metadata": {},
   "outputs": [
    {
     "data": {
      "text/html": [
       "<div>\n",
       "<style>\n",
       "    .dataframe thead tr:only-child th {\n",
       "        text-align: right;\n",
       "    }\n",
       "\n",
       "    .dataframe thead th {\n",
       "        text-align: left;\n",
       "    }\n",
       "\n",
       "    .dataframe tbody tr th {\n",
       "        vertical-align: top;\n",
       "    }\n",
       "</style>\n",
       "<table border=\"1\" class=\"dataframe\">\n",
       "  <thead>\n",
       "    <tr style=\"text-align: right;\">\n",
       "      <th></th>\n",
       "      <th>name</th>\n",
       "      <th>party_name</th>\n",
       "      <th>election_name</th>\n",
       "      <th>election_date</th>\n",
       "      <th>office</th>\n",
       "      <th>is_incumbent</th>\n",
       "      <th>special_election</th>\n",
       "      <th>created_at</th>\n",
       "      <th>updated_at</th>\n",
       "      <th>ocd_person_id</th>\n",
       "      <th>ocd_candidacy_id</th>\n",
       "      <th>ocd_election_id</th>\n",
       "      <th>ocd_post_id</th>\n",
       "      <th>ocd_contest_id</th>\n",
       "      <th>ocd_party_id</th>\n",
       "      <th>latest_calaccess_filer_id</th>\n",
       "      <th>calaccess_filer_id_count</th>\n",
       "      <th>latest_form501_filing_id</th>\n",
       "      <th>form501_filing_count</th>\n",
       "    </tr>\n",
       "  </thead>\n",
       "  <tbody>\n",
       "    <tr>\n",
       "      <th>0</th>\n",
       "      <td>KAMALA D. HARRIS</td>\n",
       "      <td>DEMOCRATIC</td>\n",
       "      <td>2026 PRIMARY</td>\n",
       "      <td>2026-06-02</td>\n",
       "      <td>Governor</td>\n",
       "      <td>NaN</td>\n",
       "      <td>f</td>\n",
       "      <td>2017-10-30 23:54:23.795175+00</td>\n",
       "      <td>2017-10-30 23:54:23.824374+00</td>\n",
       "      <td>ocd-person/717b9339-bcaa-437d-8e36-b8417ce02325</td>\n",
       "      <td>ocd-candidacy/320f9fb9-1f0a-44b1-84c0-a07fa54f...</td>\n",
       "      <td>ocd-election/b0d7be16-6f9e-4c5e-a537-c32167bbdbf8</td>\n",
       "      <td>ocd-post/b63d25d2-aff0-4afb-9dd1-e99474c8eb13</td>\n",
       "      <td>ocd-contest/d33b6822-b3b9-4ed5-97db-19c3f16718aa</td>\n",
       "      <td>ocd-organization/169e9416-915b-4462-94cf-82e11...</td>\n",
       "      <td>1313503</td>\n",
       "      <td>1</td>\n",
       "      <td>2149075.0</td>\n",
       "      <td>1.0</td>\n",
       "    </tr>\n",
       "    <tr>\n",
       "      <th>1</th>\n",
       "      <td>RAJIV DALAL</td>\n",
       "      <td>DEMOCRATIC</td>\n",
       "      <td>2026 PRIMARY</td>\n",
       "      <td>2026-06-02</td>\n",
       "      <td>Lieutenant Governor</td>\n",
       "      <td>NaN</td>\n",
       "      <td>f</td>\n",
       "      <td>2017-10-30 23:53:58.104137+00</td>\n",
       "      <td>2017-10-30 23:53:58.136437+00</td>\n",
       "      <td>ocd-person/b3a7a574-0b7c-4f1c-9c08-c68aabeef412</td>\n",
       "      <td>ocd-candidacy/7fac375c-011f-4bcf-b3f1-749eee7b...</td>\n",
       "      <td>ocd-election/b0d7be16-6f9e-4c5e-a537-c32167bbdbf8</td>\n",
       "      <td>ocd-post/3497cad1-e09e-4731-97c7-338b76746800</td>\n",
       "      <td>ocd-contest/5ca2421a-6acd-4d5a-924e-0fbb8e7387ab</td>\n",
       "      <td>ocd-organization/169e9416-915b-4462-94cf-82e11...</td>\n",
       "      <td>1376272</td>\n",
       "      <td>1</td>\n",
       "      <td>2053509.0</td>\n",
       "      <td>1.0</td>\n",
       "    </tr>\n",
       "    <tr>\n",
       "      <th>2</th>\n",
       "      <td>JIMMY GOMEZ</td>\n",
       "      <td>DEMOCRATIC</td>\n",
       "      <td>2026 PRIMARY</td>\n",
       "      <td>2026-06-02</td>\n",
       "      <td>Lieutenant Governor</td>\n",
       "      <td>NaN</td>\n",
       "      <td>f</td>\n",
       "      <td>2017-10-30 23:54:25.942073+00</td>\n",
       "      <td>2017-10-30 23:54:25.973413+00</td>\n",
       "      <td>ocd-person/f446bd3c-d19b-435c-9fa1-fe2165dfcd52</td>\n",
       "      <td>ocd-candidacy/14e643a7-aaa5-4243-917c-10238cf2...</td>\n",
       "      <td>ocd-election/b0d7be16-6f9e-4c5e-a537-c32167bbdbf8</td>\n",
       "      <td>ocd-post/3497cad1-e09e-4731-97c7-338b76746800</td>\n",
       "      <td>ocd-contest/5ca2421a-6acd-4d5a-924e-0fbb8e7387ab</td>\n",
       "      <td>ocd-organization/169e9416-915b-4462-94cf-82e11...</td>\n",
       "      <td>1334135</td>\n",
       "      <td>1</td>\n",
       "      <td>2181321.0</td>\n",
       "      <td>1.0</td>\n",
       "    </tr>\n",
       "    <tr>\n",
       "      <th>3</th>\n",
       "      <td>JOHN A. PEREZ</td>\n",
       "      <td>DEMOCRATIC</td>\n",
       "      <td>2022 PRIMARY</td>\n",
       "      <td>2022-06-07</td>\n",
       "      <td>Lieutenant Governor</td>\n",
       "      <td>NaN</td>\n",
       "      <td>f</td>\n",
       "      <td>2017-10-30 23:53:47.749057+00</td>\n",
       "      <td>2017-10-30 23:53:47.780872+00</td>\n",
       "      <td>ocd-person/5da11996-26f5-4b60-a6ff-95d760badbb4</td>\n",
       "      <td>ocd-candidacy/7d57e357-db8d-4bb0-8c2d-0dd1265e...</td>\n",
       "      <td>ocd-election/f69bfdc3-72b0-4125-8dcf-40a56f55cc1d</td>\n",
       "      <td>ocd-post/3497cad1-e09e-4731-97c7-338b76746800</td>\n",
       "      <td>ocd-contest/fc547f9a-7b67-46d7-8083-7f9070da27a6</td>\n",
       "      <td>ocd-organization/169e9416-915b-4462-94cf-82e11...</td>\n",
       "      <td>1304250</td>\n",
       "      <td>1</td>\n",
       "      <td>2181318.0</td>\n",
       "      <td>1.0</td>\n",
       "    </tr>\n",
       "    <tr>\n",
       "      <th>4</th>\n",
       "      <td>JAMES W. SILVA</td>\n",
       "      <td>REPUBLICAN</td>\n",
       "      <td>2022 PRIMARY</td>\n",
       "      <td>2022-06-07</td>\n",
       "      <td>State Senate 34</td>\n",
       "      <td>NaN</td>\n",
       "      <td>f</td>\n",
       "      <td>2017-10-25 02:26:07.003425+00</td>\n",
       "      <td>2017-10-25 02:26:07.032436+00</td>\n",
       "      <td>ocd-person/d3d6c7c8-9dd1-4844-ac46-5d1d61038b07</td>\n",
       "      <td>ocd-candidacy/330fae87-429c-44f0-a97d-12641e74...</td>\n",
       "      <td>ocd-election/f69bfdc3-72b0-4125-8dcf-40a56f55cc1d</td>\n",
       "      <td>ocd-post/2a28ec6a-80f2-4c0f-b4c5-9b99ab61b98a</td>\n",
       "      <td>ocd-contest/5d72c16f-f46f-470f-b2c4-65f428b3b1a4</td>\n",
       "      <td>ocd-organization/731c91f2-7707-4ac5-9943-4fefa...</td>\n",
       "      <td>1241308</td>\n",
       "      <td>1</td>\n",
       "      <td>2164579.0</td>\n",
       "      <td>1.0</td>\n",
       "    </tr>\n",
       "  </tbody>\n",
       "</table>\n",
       "</div>"
      ],
      "text/plain": [
       "               name  party_name election_name election_date  \\\n",
       "0  KAMALA D. HARRIS  DEMOCRATIC  2026 PRIMARY    2026-06-02   \n",
       "1       RAJIV DALAL  DEMOCRATIC  2026 PRIMARY    2026-06-02   \n",
       "2       JIMMY GOMEZ  DEMOCRATIC  2026 PRIMARY    2026-06-02   \n",
       "3     JOHN A. PEREZ  DEMOCRATIC  2022 PRIMARY    2022-06-07   \n",
       "4    JAMES W. SILVA  REPUBLICAN  2022 PRIMARY    2022-06-07   \n",
       "\n",
       "                office is_incumbent special_election  \\\n",
       "0             Governor          NaN                f   \n",
       "1  Lieutenant Governor          NaN                f   \n",
       "2  Lieutenant Governor          NaN                f   \n",
       "3  Lieutenant Governor          NaN                f   \n",
       "4      State Senate 34          NaN                f   \n",
       "\n",
       "                      created_at                     updated_at  \\\n",
       "0  2017-10-30 23:54:23.795175+00  2017-10-30 23:54:23.824374+00   \n",
       "1  2017-10-30 23:53:58.104137+00  2017-10-30 23:53:58.136437+00   \n",
       "2  2017-10-30 23:54:25.942073+00  2017-10-30 23:54:25.973413+00   \n",
       "3  2017-10-30 23:53:47.749057+00  2017-10-30 23:53:47.780872+00   \n",
       "4  2017-10-25 02:26:07.003425+00  2017-10-25 02:26:07.032436+00   \n",
       "\n",
       "                                     ocd_person_id  \\\n",
       "0  ocd-person/717b9339-bcaa-437d-8e36-b8417ce02325   \n",
       "1  ocd-person/b3a7a574-0b7c-4f1c-9c08-c68aabeef412   \n",
       "2  ocd-person/f446bd3c-d19b-435c-9fa1-fe2165dfcd52   \n",
       "3  ocd-person/5da11996-26f5-4b60-a6ff-95d760badbb4   \n",
       "4  ocd-person/d3d6c7c8-9dd1-4844-ac46-5d1d61038b07   \n",
       "\n",
       "                                    ocd_candidacy_id  \\\n",
       "0  ocd-candidacy/320f9fb9-1f0a-44b1-84c0-a07fa54f...   \n",
       "1  ocd-candidacy/7fac375c-011f-4bcf-b3f1-749eee7b...   \n",
       "2  ocd-candidacy/14e643a7-aaa5-4243-917c-10238cf2...   \n",
       "3  ocd-candidacy/7d57e357-db8d-4bb0-8c2d-0dd1265e...   \n",
       "4  ocd-candidacy/330fae87-429c-44f0-a97d-12641e74...   \n",
       "\n",
       "                                     ocd_election_id  \\\n",
       "0  ocd-election/b0d7be16-6f9e-4c5e-a537-c32167bbdbf8   \n",
       "1  ocd-election/b0d7be16-6f9e-4c5e-a537-c32167bbdbf8   \n",
       "2  ocd-election/b0d7be16-6f9e-4c5e-a537-c32167bbdbf8   \n",
       "3  ocd-election/f69bfdc3-72b0-4125-8dcf-40a56f55cc1d   \n",
       "4  ocd-election/f69bfdc3-72b0-4125-8dcf-40a56f55cc1d   \n",
       "\n",
       "                                     ocd_post_id  \\\n",
       "0  ocd-post/b63d25d2-aff0-4afb-9dd1-e99474c8eb13   \n",
       "1  ocd-post/3497cad1-e09e-4731-97c7-338b76746800   \n",
       "2  ocd-post/3497cad1-e09e-4731-97c7-338b76746800   \n",
       "3  ocd-post/3497cad1-e09e-4731-97c7-338b76746800   \n",
       "4  ocd-post/2a28ec6a-80f2-4c0f-b4c5-9b99ab61b98a   \n",
       "\n",
       "                                     ocd_contest_id  \\\n",
       "0  ocd-contest/d33b6822-b3b9-4ed5-97db-19c3f16718aa   \n",
       "1  ocd-contest/5ca2421a-6acd-4d5a-924e-0fbb8e7387ab   \n",
       "2  ocd-contest/5ca2421a-6acd-4d5a-924e-0fbb8e7387ab   \n",
       "3  ocd-contest/fc547f9a-7b67-46d7-8083-7f9070da27a6   \n",
       "4  ocd-contest/5d72c16f-f46f-470f-b2c4-65f428b3b1a4   \n",
       "\n",
       "                                        ocd_party_id  \\\n",
       "0  ocd-organization/169e9416-915b-4462-94cf-82e11...   \n",
       "1  ocd-organization/169e9416-915b-4462-94cf-82e11...   \n",
       "2  ocd-organization/169e9416-915b-4462-94cf-82e11...   \n",
       "3  ocd-organization/169e9416-915b-4462-94cf-82e11...   \n",
       "4  ocd-organization/731c91f2-7707-4ac5-9943-4fefa...   \n",
       "\n",
       "  latest_calaccess_filer_id  calaccess_filer_id_count  \\\n",
       "0                   1313503                         1   \n",
       "1                   1376272                         1   \n",
       "2                   1334135                         1   \n",
       "3                   1304250                         1   \n",
       "4                   1241308                         1   \n",
       "\n",
       "   latest_form501_filing_id  form501_filing_count  \n",
       "0                 2149075.0                   1.0  \n",
       "1                 2053509.0                   1.0  \n",
       "2                 2181321.0                   1.0  \n",
       "3                 2181318.0                   1.0  \n",
       "4                 2164579.0                   1.0  "
      ]
     },
     "execution_count": 163,
     "metadata": {},
     "output_type": "execute_result"
    }
   ],
   "source": [
    "candidates.head()"
   ]
  },
  {
   "cell_type": "markdown",
   "metadata": {},
   "source": [
    "### How many candidates?"
   ]
  },
  {
   "cell_type": "code",
   "execution_count": 166,
   "metadata": {},
   "outputs": [
    {
     "data": {
      "text/plain": [
       "7162"
      ]
     },
     "execution_count": 166,
     "metadata": {},
     "output_type": "execute_result"
    }
   ],
   "source": [
    "len(candidates)"
   ]
  },
  {
   "cell_type": "markdown",
   "metadata": {},
   "source": [
    "### How has that changed over time?"
   ]
  },
  {
   "cell_type": "code",
   "execution_count": 167,
   "metadata": {},
   "outputs": [],
   "source": [
    "candidates.election_date = pd.to_datetime(candidates.election_date)"
   ]
  },
  {
   "cell_type": "code",
   "execution_count": 168,
   "metadata": {},
   "outputs": [],
   "source": [
    "def get_cycle(dt):\n",
    "    if dt.year % 2 == 0:\n",
    "        return dt.year\n",
    "    else:\n",
    "        return dt.year +1"
   ]
  },
  {
   "cell_type": "code",
   "execution_count": 169,
   "metadata": {},
   "outputs": [],
   "source": [
    "candidates['election_year'] = candidates.election_date.apply(get_cycle)"
   ]
  },
  {
   "cell_type": "code",
   "execution_count": 170,
   "metadata": {},
   "outputs": [],
   "source": [
    "by_year = candidates.groupby(\"election_year\").size().reset_index()"
   ]
  },
  {
   "cell_type": "code",
   "execution_count": 171,
   "metadata": {},
   "outputs": [
    {
     "data": {
      "text/plain": [
       "<matplotlib.axes._subplots.AxesSubplot at 0x7f62d7d606d0>"
      ]
     },
     "execution_count": 171,
     "metadata": {},
     "output_type": "execute_result"
    },
    {
     "data": {
      "image/png": "[encoded data removed]",
      "text/plain": [
       "<matplotlib.figure.Figure at 0x7f62d7ef2890>"
      ]
     },
     "metadata": {},
     "output_type": "display_data"
    }
   ],
   "source": [
    "by_year.set_index(\"election_year\").plot.bar(figsize=(20, 10))"
   ]
  },
  {
   "cell_type": "markdown",
   "metadata": {},
   "source": [
    "### Wow. That's going down. How about the different parties?"
   ]
  },
  {
   "cell_type": "code",
   "execution_count": 172,
   "metadata": {
    "collapsed": true
   },
   "outputs": [],
   "source": [
    "by_party = candidates.groupby([\"party_name\", \"election_year\"]).size().reset_index()"
   ]
  },
  {
   "cell_type": "code",
   "execution_count": 173,
   "metadata": {},
   "outputs": [],
   "source": [
    "party_crosstab = by_party.set_index([\"election_year\", \"party_name\"]).unstack(1).reset_index().fillna(0)"
   ]
  },
  {
   "cell_type": "code",
   "execution_count": 174,
   "metadata": {
    "collapsed": true
   },
   "outputs": [],
   "source": [
    "party_crosstab = party_crosstab.reset_index()\n",
    "party_crosstab.columns = party_crosstab.columns.droplevel(0)\n",
    "party_crosstab = party_crosstab.rename_axis(None, axis=1)\n",
    "party_crosstab = party_crosstab.set_index(\"\")"
   ]
  },
  {
   "cell_type": "code",
   "execution_count": 189,
   "metadata": {},
   "outputs": [
    {
     "data": {
      "text/plain": [
       "array([<matplotlib.axes._subplots.AxesSubplot object at 0x7f62d4b8fd10>,\n",
       "       <matplotlib.axes._subplots.AxesSubplot object at 0x7f62d44eb750>,\n",
       "       <matplotlib.axes._subplots.AxesSubplot object at 0x7f62d4472290>,\n",
       "       <matplotlib.axes._subplots.AxesSubplot object at 0x7f62d43d17d0>,\n",
       "       <matplotlib.axes._subplots.AxesSubplot object at 0x7f62d4352450>,\n",
       "       <matplotlib.axes._subplots.AxesSubplot object at 0x7f62d43f3190>,\n",
       "       <matplotlib.axes._subplots.AxesSubplot object at 0x7f62d42b7e90>,\n",
       "       <matplotlib.axes._subplots.AxesSubplot object at 0x7f62d423da10>,\n",
       "       <matplotlib.axes._subplots.AxesSubplot object at 0x7f62d41a0f90>,\n",
       "       <matplotlib.axes._subplots.AxesSubplot object at 0x7f62d4125c10>,\n",
       "       <matplotlib.axes._subplots.AxesSubplot object at 0x7f62d441c990>], dtype=object)"
      ]
     },
     "execution_count": 189,
     "metadata": {},
     "output_type": "execute_result"
    },
    {
     "data": {
      "image/png": "[encoded data removed]",
      "text/plain": [
       "<matplotlib.figure.Figure at 0x7f62d4c0f650>"
      ]
     },
     "metadata": {},
     "output_type": "display_data"
    }
   ],
   "source": [
    "party_crosstab.plot.bar(\n",
    "    subplots=True,\n",
    "    figsize=(20, 30),\n",
    "    legend=False,\n",
    "    sharey=True,\n",
    "    ylim=(0, 500)\n",
    ")"
   ]
  },
  {
   "cell_type": "markdown",
   "metadata": {},
   "source": [
    "### How do the two major parties compare to the third parties?"
   ]
  },
  {
   "cell_type": "code",
   "execution_count": 176,
   "metadata": {
    "collapsed": true
   },
   "outputs": [],
   "source": [
    "candidates['party_type'] = candidates.party_name.apply(lambda x: x if x in ['DEMOCRATIC', 'REPUBLICAN'] else 'THIRD')"
   ]
  },
  {
   "cell_type": "code",
   "execution_count": 177,
   "metadata": {
    "collapsed": true
   },
   "outputs": [],
   "source": [
    "by_party_type = candidates.groupby([\"party_type\", \"election_year\"]).size().reset_index()"
   ]
  },
  {
   "cell_type": "code",
   "execution_count": 178,
   "metadata": {},
   "outputs": [],
   "source": [
    "party_type_crosstab = by_party_type.set_index(\n",
    "    [\"election_year\", \"party_type\"]\n",
    ").unstack(1).reset_index().fillna(0)"
   ]
  },
  {
   "cell_type": "code",
   "execution_count": 179,
   "metadata": {},
   "outputs": [],
   "source": [
    "party_type_crosstab = party_type_crosstab.reset_index()\n",
    "party_type_crosstab.columns = ['INDEX', 'YEAR', 'DEMOCRATIC', 'REPUBLICAN', 'THIRD']\n",
    "party_type_crosstab = party_type_crosstab.rename_axis(None, axis=1)\n",
    "party_type_crosstab.drop(\"INDEX\", axis=1, inplace=True)"
   ]
  },
  {
   "cell_type": "code",
   "execution_count": 186,
   "metadata": {},
   "outputs": [
    {
     "data": {
      "text/plain": [
       "array([<matplotlib.axes._subplots.AxesSubplot object at 0x7f62d64e5810>,\n",
       "       <matplotlib.axes._subplots.AxesSubplot object at 0x7f62d626c4d0>,\n",
       "       <matplotlib.axes._subplots.AxesSubplot object at 0x7f62d61ed790>,\n",
       "       <matplotlib.axes._subplots.AxesSubplot object at 0x7f62d614f9d0>], dtype=object)"
      ]
     },
     "execution_count": 186,
     "metadata": {},
     "output_type": "execute_result"
    },
    {
     "data": {
      "image/png": "[encoded data removed]",
      "text/plain": [
       "<matplotlib.figure.Figure at 0x7f62d6505750>"
      ]
     },
     "metadata": {},
     "output_type": "display_data"
    }
   ],
   "source": [
    "party_type_crosstab.set_index(\"YEAR\").plot.bar(\n",
    "    subplots=True,\n",
    "    figsize=(20, 15),\n",
    "    legend=False,\n",
    "    sharey=True,\n",
    "    ylim=(0, 500)\n",
    ")"
   ]
  },
  {
   "cell_type": "code",
   "execution_count": 181,
   "metadata": {},
   "outputs": [
    {
     "data": {
      "text/html": [
       "<div>\n",
       "<style>\n",
       "    .dataframe thead tr:only-child th {\n",
       "        text-align: right;\n",
       "    }\n",
       "\n",
       "    .dataframe thead th {\n",
       "        text-align: left;\n",
       "    }\n",
       "\n",
       "    .dataframe tbody tr th {\n",
       "        vertical-align: top;\n",
       "    }\n",
       "</style>\n",
       "<table border=\"1\" class=\"dataframe\">\n",
       "  <thead>\n",
       "    <tr style=\"text-align: right;\">\n",
       "      <th></th>\n",
       "      <th>YEAR</th>\n",
       "      <th>DEMOCRATIC</th>\n",
       "      <th>REPUBLICAN</th>\n",
       "      <th>THIRD</th>\n",
       "    </tr>\n",
       "  </thead>\n",
       "  <tbody>\n",
       "    <tr>\n",
       "      <th>0</th>\n",
       "      <td>2000</td>\n",
       "      <td>253.0</td>\n",
       "      <td>259.0</td>\n",
       "      <td>201.0</td>\n",
       "    </tr>\n",
       "    <tr>\n",
       "      <th>1</th>\n",
       "      <td>2002</td>\n",
       "      <td>337.0</td>\n",
       "      <td>319.0</td>\n",
       "      <td>178.0</td>\n",
       "    </tr>\n",
       "    <tr>\n",
       "      <th>2</th>\n",
       "      <td>2004</td>\n",
       "      <td>347.0</td>\n",
       "      <td>320.0</td>\n",
       "      <td>224.0</td>\n",
       "    </tr>\n",
       "    <tr>\n",
       "      <th>3</th>\n",
       "      <td>2006</td>\n",
       "      <td>378.0</td>\n",
       "      <td>319.0</td>\n",
       "      <td>169.0</td>\n",
       "    </tr>\n",
       "    <tr>\n",
       "      <th>4</th>\n",
       "      <td>2008</td>\n",
       "      <td>249.0</td>\n",
       "      <td>223.0</td>\n",
       "      <td>57.0</td>\n",
       "    </tr>\n",
       "    <tr>\n",
       "      <th>5</th>\n",
       "      <td>2010</td>\n",
       "      <td>394.0</td>\n",
       "      <td>368.0</td>\n",
       "      <td>197.0</td>\n",
       "    </tr>\n",
       "    <tr>\n",
       "      <th>6</th>\n",
       "      <td>2012</td>\n",
       "      <td>342.0</td>\n",
       "      <td>271.0</td>\n",
       "      <td>45.0</td>\n",
       "    </tr>\n",
       "    <tr>\n",
       "      <th>7</th>\n",
       "      <td>2014</td>\n",
       "      <td>417.0</td>\n",
       "      <td>306.0</td>\n",
       "      <td>61.0</td>\n",
       "    </tr>\n",
       "    <tr>\n",
       "      <th>8</th>\n",
       "      <td>2016</td>\n",
       "      <td>312.0</td>\n",
       "      <td>249.0</td>\n",
       "      <td>27.0</td>\n",
       "    </tr>\n",
       "    <tr>\n",
       "      <th>9</th>\n",
       "      <td>2018</td>\n",
       "      <td>181.0</td>\n",
       "      <td>85.0</td>\n",
       "      <td>46.0</td>\n",
       "    </tr>\n",
       "    <tr>\n",
       "      <th>10</th>\n",
       "      <td>2020</td>\n",
       "      <td>17.0</td>\n",
       "      <td>6.0</td>\n",
       "      <td>0.0</td>\n",
       "    </tr>\n",
       "    <tr>\n",
       "      <th>11</th>\n",
       "      <td>2022</td>\n",
       "      <td>1.0</td>\n",
       "      <td>1.0</td>\n",
       "      <td>0.0</td>\n",
       "    </tr>\n",
       "    <tr>\n",
       "      <th>12</th>\n",
       "      <td>2026</td>\n",
       "      <td>3.0</td>\n",
       "      <td>0.0</td>\n",
       "      <td>0.0</td>\n",
       "    </tr>\n",
       "  </tbody>\n",
       "</table>\n",
       "</div>"
      ],
      "text/plain": [
       "    YEAR  DEMOCRATIC  REPUBLICAN  THIRD\n",
       "0   2000       253.0       259.0  201.0\n",
       "1   2002       337.0       319.0  178.0\n",
       "2   2004       347.0       320.0  224.0\n",
       "3   2006       378.0       319.0  169.0\n",
       "4   2008       249.0       223.0   57.0\n",
       "5   2010       394.0       368.0  197.0\n",
       "6   2012       342.0       271.0   45.0\n",
       "7   2014       417.0       306.0   61.0\n",
       "8   2016       312.0       249.0   27.0\n",
       "9   2018       181.0        85.0   46.0\n",
       "10  2020        17.0         6.0    0.0\n",
       "11  2022         1.0         1.0    0.0\n",
       "12  2026         3.0         0.0    0.0"
      ]
     },
     "execution_count": 181,
     "metadata": {},
     "output_type": "execute_result"
    }
   ],
   "source": [
    "party_type_crosstab"
   ]
  },
  {
   "cell_type": "markdown",
   "metadata": {},
   "source": [
    "### How has the gap between the GOP and the Dems changed?"
   ]
  },
  {
   "cell_type": "code",
   "execution_count": 182,
   "metadata": {
    "collapsed": true
   },
   "outputs": [],
   "source": [
    "party_type_crosstab['DEM_VS_GOP'] = party_type_crosstab['DEMOCRATIC'] - party_type_crosstab['REPUBLICAN']"
   ]
  },
  {
   "cell_type": "code",
   "execution_count": 183,
   "metadata": {},
   "outputs": [
    {
     "data": {
      "text/html": [
       "<div>\n",
       "<style>\n",
       "    .dataframe thead tr:only-child th {\n",
       "        text-align: right;\n",
       "    }\n",
       "\n",
       "    .dataframe thead th {\n",
       "        text-align: left;\n",
       "    }\n",
       "\n",
       "    .dataframe tbody tr th {\n",
       "        vertical-align: top;\n",
       "    }\n",
       "</style>\n",
       "<table border=\"1\" class=\"dataframe\">\n",
       "  <thead>\n",
       "    <tr style=\"text-align: right;\">\n",
       "      <th></th>\n",
       "      <th>YEAR</th>\n",
       "      <th>DEMOCRATIC</th>\n",
       "      <th>REPUBLICAN</th>\n",
       "      <th>THIRD</th>\n",
       "      <th>DEM_VS_GOP</th>\n",
       "    </tr>\n",
       "  </thead>\n",
       "  <tbody>\n",
       "    <tr>\n",
       "      <th>0</th>\n",
       "      <td>2000</td>\n",
       "      <td>253.0</td>\n",
       "      <td>259.0</td>\n",
       "      <td>201.0</td>\n",
       "      <td>-6.0</td>\n",
       "    </tr>\n",
       "    <tr>\n",
       "      <th>1</th>\n",
       "      <td>2002</td>\n",
       "      <td>337.0</td>\n",
       "      <td>319.0</td>\n",
       "      <td>178.0</td>\n",
       "      <td>18.0</td>\n",
       "    </tr>\n",
       "    <tr>\n",
       "      <th>2</th>\n",
       "      <td>2004</td>\n",
       "      <td>347.0</td>\n",
       "      <td>320.0</td>\n",
       "      <td>224.0</td>\n",
       "      <td>27.0</td>\n",
       "    </tr>\n",
       "    <tr>\n",
       "      <th>3</th>\n",
       "      <td>2006</td>\n",
       "      <td>378.0</td>\n",
       "      <td>319.0</td>\n",
       "      <td>169.0</td>\n",
       "      <td>59.0</td>\n",
       "    </tr>\n",
       "    <tr>\n",
       "      <th>4</th>\n",
       "      <td>2008</td>\n",
       "      <td>249.0</td>\n",
       "      <td>223.0</td>\n",
       "      <td>57.0</td>\n",
       "      <td>26.0</td>\n",
       "    </tr>\n",
       "    <tr>\n",
       "      <th>5</th>\n",
       "      <td>2010</td>\n",
       "      <td>394.0</td>\n",
       "      <td>368.0</td>\n",
       "      <td>197.0</td>\n",
       "      <td>26.0</td>\n",
       "    </tr>\n",
       "    <tr>\n",
       "      <th>6</th>\n",
       "      <td>2012</td>\n",
       "      <td>342.0</td>\n",
       "      <td>271.0</td>\n",
       "      <td>45.0</td>\n",
       "      <td>71.0</td>\n",
       "    </tr>\n",
       "    <tr>\n",
       "      <th>7</th>\n",
       "      <td>2014</td>\n",
       "      <td>417.0</td>\n",
       "      <td>306.0</td>\n",
       "      <td>61.0</td>\n",
       "      <td>111.0</td>\n",
       "    </tr>\n",
       "    <tr>\n",
       "      <th>8</th>\n",
       "      <td>2016</td>\n",
       "      <td>312.0</td>\n",
       "      <td>249.0</td>\n",
       "      <td>27.0</td>\n",
       "      <td>63.0</td>\n",
       "    </tr>\n",
       "    <tr>\n",
       "      <th>9</th>\n",
       "      <td>2018</td>\n",
       "      <td>181.0</td>\n",
       "      <td>85.0</td>\n",
       "      <td>46.0</td>\n",
       "      <td>96.0</td>\n",
       "    </tr>\n",
       "    <tr>\n",
       "      <th>10</th>\n",
       "      <td>2020</td>\n",
       "      <td>17.0</td>\n",
       "      <td>6.0</td>\n",
       "      <td>0.0</td>\n",
       "      <td>11.0</td>\n",
       "    </tr>\n",
       "    <tr>\n",
       "      <th>11</th>\n",
       "      <td>2022</td>\n",
       "      <td>1.0</td>\n",
       "      <td>1.0</td>\n",
       "      <td>0.0</td>\n",
       "      <td>0.0</td>\n",
       "    </tr>\n",
       "    <tr>\n",
       "      <th>12</th>\n",
       "      <td>2026</td>\n",
       "      <td>3.0</td>\n",
       "      <td>0.0</td>\n",
       "      <td>0.0</td>\n",
       "      <td>3.0</td>\n",
       "    </tr>\n",
       "  </tbody>\n",
       "</table>\n",
       "</div>"
      ],
      "text/plain": [
       "    YEAR  DEMOCRATIC  REPUBLICAN  THIRD  DEM_VS_GOP\n",
       "0   2000       253.0       259.0  201.0        -6.0\n",
       "1   2002       337.0       319.0  178.0        18.0\n",
       "2   2004       347.0       320.0  224.0        27.0\n",
       "3   2006       378.0       319.0  169.0        59.0\n",
       "4   2008       249.0       223.0   57.0        26.0\n",
       "5   2010       394.0       368.0  197.0        26.0\n",
       "6   2012       342.0       271.0   45.0        71.0\n",
       "7   2014       417.0       306.0   61.0       111.0\n",
       "8   2016       312.0       249.0   27.0        63.0\n",
       "9   2018       181.0        85.0   46.0        96.0\n",
       "10  2020        17.0         6.0    0.0        11.0\n",
       "11  2022         1.0         1.0    0.0         0.0\n",
       "12  2026         3.0         0.0    0.0         3.0"
      ]
     },
     "execution_count": 183,
     "metadata": {},
     "output_type": "execute_result"
    }
   ],
   "source": [
    "party_type_crosstab"
   ]
  }
 ],
 "metadata": {
  "kernelspec": {
   "display_name": "Python 2",
   "language": "python",
   "name": "python2"
  },
  "language_info": {
   "codemirror_mode": {
    "name": "ipython",
    "version": 2
   },
   "file_extension": ".py",
   "mimetype": "text/x-python",
   "name": "python",
   "nbconvert_exporter": "python",
   "pygments_lexer": "ipython2",
   "version": "2.7.12"
  }
 },
 "nbformat": 4,
 "nbformat_minor": 2
}
