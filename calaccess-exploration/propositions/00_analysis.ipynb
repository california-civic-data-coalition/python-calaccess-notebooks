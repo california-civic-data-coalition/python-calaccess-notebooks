{
 "cells": [
  {
   "cell_type": "markdown",
   "metadata": {
    "deletable": true,
    "editable": true
   },
   "source": [
    "# Propositions analysis\n",
    "\n",
    "By Ben Welsh"
   ]
  },
  {
   "cell_type": "code",
   "execution_count": 1,
   "metadata": {
    "collapsed": false,
    "deletable": true,
    "editable": true
   },
   "outputs": [],
   "source": [
    "%%capture\n",
    "%run ./01_props.ipynb\n",
    "%run ./02_committees.ipynb\n",
    "%run ./03_filings.ipynb\n",
    "%run ./04_transfers.ipynb\n",
    "%run ./05_refunds.ipynb\n",
    "%run ./06_contributions.ipynb\n",
    "%run ./07_excel.ipynb"
   ]
  }
 ],
 "metadata": {
  "kernelspec": {
   "display_name": "Python 2",
   "language": "python",
   "name": "python2"
  },
  "language_info": {
   "codemirror_mode": {
    "name": "ipython",
    "version": 2
   },
   "file_extension": ".py",
   "mimetype": "text/x-python",
   "name": "python",
   "nbconvert_exporter": "python",
   "pygments_lexer": "ipython2",
   "version": "2.7.12+"
  }
 },
 "nbformat": 4,
 "nbformat_minor": 2
}
