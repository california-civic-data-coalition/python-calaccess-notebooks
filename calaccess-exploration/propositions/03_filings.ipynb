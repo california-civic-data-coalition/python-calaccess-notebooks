{
 "cells": [
  {
   "cell_type": "markdown",
   "metadata": {
    "deletable": true,
    "editable": true
   },
   "source": [
    "# Filings\n",
    "\n",
    "Extract filings made by ballot measure committees"
   ]
  },
  {
   "cell_type": "code",
   "execution_count": 1,
   "metadata": {
    "collapsed": true,
    "deletable": true,
    "editable": true
   },
   "outputs": [],
   "source": [
    "import os\n",
    "import settings\n",
    "import datetime\n",
    "import pandas as pd"
   ]
  },
  {
   "cell_type": "markdown",
   "metadata": {
    "deletable": true,
    "editable": true
   },
   "source": [
    "### Pul in all distinct committees"
   ]
  },
  {
   "cell_type": "code",
   "execution_count": 2,
   "metadata": {
    "collapsed": true,
    "deletable": true,
    "editable": true
   },
   "outputs": [],
   "source": [
    "committees = settings.open_csv(\"committees.csv\")"
   ]
  },
  {
   "cell_type": "code",
   "execution_count": 3,
   "metadata": {
    "collapsed": false,
    "deletable": true,
    "editable": true
   },
   "outputs": [
    {
     "data": {
      "text/html": [
       "<div>\n",
       "<table border=\"1\" class=\"dataframe\">\n",
       "  <thead>\n",
       "    <tr style=\"text-align: right;\">\n",
       "      <th></th>\n",
       "      <th>calaccess_committee_id</th>\n",
       "      <th>committee_name</th>\n",
       "      <th>prop_count</th>\n",
       "    </tr>\n",
       "  </thead>\n",
       "  <tbody>\n",
       "    <tr>\n",
       "      <th>0</th>\n",
       "      <td>1219956</td>\n",
       "      <td>CONCERNED CITIZENS AGAINST PROPOSITION 22</td>\n",
       "      <td>1</td>\n",
       "    </tr>\n",
       "    <tr>\n",
       "      <th>1</th>\n",
       "      <td>1220380</td>\n",
       "      <td>COMMUNITY COLLEGE FACILITY COALITION ISSUES CO...</td>\n",
       "      <td>1</td>\n",
       "    </tr>\n",
       "    <tr>\n",
       "      <th>2</th>\n",
       "      <td>1220380</td>\n",
       "      <td>COMMUNITY COLLEGE FACILITY COALITION ISSUES CO...</td>\n",
       "      <td>1</td>\n",
       "    </tr>\n",
       "    <tr>\n",
       "      <th>3</th>\n",
       "      <td>1220380</td>\n",
       "      <td>COMMUNITY COLLEGE FACILITY COALITION ISSUES CO...</td>\n",
       "      <td>1</td>\n",
       "    </tr>\n",
       "    <tr>\n",
       "      <th>4</th>\n",
       "      <td>1220380</td>\n",
       "      <td>COMMUNITY COLLEGE FACILITY COALITION ISSUES CO...</td>\n",
       "      <td>1</td>\n",
       "    </tr>\n",
       "  </tbody>\n",
       "</table>\n",
       "</div>"
      ],
      "text/plain": [
       "   calaccess_committee_id                                     committee_name  \\\n",
       "0                 1219956          CONCERNED CITIZENS AGAINST PROPOSITION 22   \n",
       "1                 1220380  COMMUNITY COLLEGE FACILITY COALITION ISSUES CO...   \n",
       "2                 1220380  COMMUNITY COLLEGE FACILITY COALITION ISSUES CO...   \n",
       "3                 1220380  COMMUNITY COLLEGE FACILITY COALITION ISSUES CO...   \n",
       "4                 1220380  COMMUNITY COLLEGE FACILITY COALITION ISSUES CO...   \n",
       "\n",
       "   prop_count  \n",
       "0           1  \n",
       "1           1  \n",
       "2           1  \n",
       "3           1  \n",
       "4           1  "
      ]
     },
     "execution_count": 3,
     "metadata": {},
     "output_type": "execute_result"
    }
   ],
   "source": [
    "committees.head()"
   ]
  },
  {
   "cell_type": "markdown",
   "metadata": {
    "deletable": true,
    "editable": true
   },
   "source": [
    "### Pull in all quarterly filings "
   ]
  },
  {
   "cell_type": "code",
   "execution_count": 4,
   "metadata": {
    "collapsed": true,
    "deletable": true,
    "editable": true
   },
   "outputs": [],
   "source": [
    "form_460_filings = pd.read_sql_table(\"calaccess_processed_form460filing\", settings.db_connection)"
   ]
  },
  {
   "cell_type": "code",
   "execution_count": 5,
   "metadata": {
    "collapsed": false,
    "deletable": true,
    "editable": true
   },
   "outputs": [
    {
     "data": {
      "text/html": [
       "<div>\n",
       "<table border=\"1\" class=\"dataframe\">\n",
       "  <thead>\n",
       "    <tr style=\"text-align: right;\">\n",
       "      <th></th>\n",
       "      <th>date_filed</th>\n",
       "      <th>filer_id</th>\n",
       "      <th>filer_lastname</th>\n",
       "      <th>filer_firstname</th>\n",
       "      <th>election_date</th>\n",
       "      <th>from_date</th>\n",
       "      <th>thru_date</th>\n",
       "      <th>monetary_contributions</th>\n",
       "      <th>loans_received</th>\n",
       "      <th>subtotal_cash_contributions</th>\n",
       "      <th>...</th>\n",
       "      <th>begin_cash_balance</th>\n",
       "      <th>cash_receipts</th>\n",
       "      <th>miscellaneous_cash_increases</th>\n",
       "      <th>cash_payments</th>\n",
       "      <th>ending_cash_balance</th>\n",
       "      <th>loan_guarantees_received</th>\n",
       "      <th>cash_equivalents</th>\n",
       "      <th>outstanding_debts</th>\n",
       "      <th>filing_id</th>\n",
       "      <th>amendment_count</th>\n",
       "    </tr>\n",
       "  </thead>\n",
       "  <tbody>\n",
       "    <tr>\n",
       "      <th>0</th>\n",
       "      <td>2000-01-26</td>\n",
       "      <td>1069401</td>\n",
       "      <td>BURTON FOR STATE SENATE 2000</td>\n",
       "      <td></td>\n",
       "      <td>2000-03-07</td>\n",
       "      <td>2000-01-01</td>\n",
       "      <td>2000-01-22</td>\n",
       "      <td>57600.0</td>\n",
       "      <td>0.0</td>\n",
       "      <td>57600.0</td>\n",
       "      <td>...</td>\n",
       "      <td>1595669.0</td>\n",
       "      <td>57600.0</td>\n",
       "      <td>0.0</td>\n",
       "      <td>9075.0</td>\n",
       "      <td>1644194.0</td>\n",
       "      <td>0.0</td>\n",
       "      <td>0.0</td>\n",
       "      <td>0.0</td>\n",
       "      <td>577732</td>\n",
       "      <td>0</td>\n",
       "    </tr>\n",
       "    <tr>\n",
       "      <th>1</th>\n",
       "      <td>2000-01-26</td>\n",
       "      <td>1077363</td>\n",
       "      <td>MARILYN LYON FOR SENATE</td>\n",
       "      <td></td>\n",
       "      <td>2000-03-07</td>\n",
       "      <td>2000-01-01</td>\n",
       "      <td>2000-01-22</td>\n",
       "      <td>975.0</td>\n",
       "      <td>0.0</td>\n",
       "      <td>975.0</td>\n",
       "      <td>...</td>\n",
       "      <td>161101.0</td>\n",
       "      <td>975.0</td>\n",
       "      <td>0.0</td>\n",
       "      <td>48091.0</td>\n",
       "      <td>113986.0</td>\n",
       "      <td>0.0</td>\n",
       "      <td>0.0</td>\n",
       "      <td>10000.0</td>\n",
       "      <td>577733</td>\n",
       "      <td>0</td>\n",
       "    </tr>\n",
       "    <tr>\n",
       "      <th>2</th>\n",
       "      <td>2000-01-26</td>\n",
       "      <td>1070497</td>\n",
       "      <td>SVORINICH OFFICEHOLDER ACCOUNT II</td>\n",
       "      <td></td>\n",
       "      <td>2000-03-07</td>\n",
       "      <td>2000-01-01</td>\n",
       "      <td>2000-01-22</td>\n",
       "      <td>0.0</td>\n",
       "      <td>0.0</td>\n",
       "      <td>0.0</td>\n",
       "      <td>...</td>\n",
       "      <td>3493.0</td>\n",
       "      <td>0.0</td>\n",
       "      <td>0.0</td>\n",
       "      <td>0.0</td>\n",
       "      <td>3493.0</td>\n",
       "      <td>0.0</td>\n",
       "      <td>0.0</td>\n",
       "      <td>0.0</td>\n",
       "      <td>577754</td>\n",
       "      <td>0</td>\n",
       "    </tr>\n",
       "    <tr>\n",
       "      <th>3</th>\n",
       "      <td>2000-01-26</td>\n",
       "      <td>1076525</td>\n",
       "      <td>JOHN HISSERICH FOR STATE ASSEMBLY</td>\n",
       "      <td></td>\n",
       "      <td>2000-03-07</td>\n",
       "      <td>2000-01-01</td>\n",
       "      <td>2000-01-22</td>\n",
       "      <td>7425.0</td>\n",
       "      <td>0.0</td>\n",
       "      <td>7425.0</td>\n",
       "      <td>...</td>\n",
       "      <td>43726.0</td>\n",
       "      <td>7425.0</td>\n",
       "      <td>0.0</td>\n",
       "      <td>24066.0</td>\n",
       "      <td>27085.0</td>\n",
       "      <td>0.0</td>\n",
       "      <td>0.0</td>\n",
       "      <td>56500.0</td>\n",
       "      <td>577841</td>\n",
       "      <td>1</td>\n",
       "    </tr>\n",
       "    <tr>\n",
       "      <th>4</th>\n",
       "      <td>2000-01-27</td>\n",
       "      <td>1038947</td>\n",
       "      <td>CALIFORNIA FACULTY ASSOCIATION POLITICAL ACTIO...</td>\n",
       "      <td></td>\n",
       "      <td>2000-03-07</td>\n",
       "      <td>2000-01-01</td>\n",
       "      <td>2000-01-22</td>\n",
       "      <td>0.0</td>\n",
       "      <td>0.0</td>\n",
       "      <td>0.0</td>\n",
       "      <td>...</td>\n",
       "      <td>75106.0</td>\n",
       "      <td>0.0</td>\n",
       "      <td>0.0</td>\n",
       "      <td>12751.0</td>\n",
       "      <td>62356.0</td>\n",
       "      <td>0.0</td>\n",
       "      <td>0.0</td>\n",
       "      <td>0.0</td>\n",
       "      <td>577947</td>\n",
       "      <td>0</td>\n",
       "    </tr>\n",
       "  </tbody>\n",
       "</table>\n",
       "<p>5 rows × 28 columns</p>\n",
       "</div>"
      ],
      "text/plain": [
       "  date_filed  filer_id                                     filer_lastname  \\\n",
       "0 2000-01-26   1069401                       BURTON FOR STATE SENATE 2000   \n",
       "1 2000-01-26   1077363                            MARILYN LYON FOR SENATE   \n",
       "2 2000-01-26   1070497                  SVORINICH OFFICEHOLDER ACCOUNT II   \n",
       "3 2000-01-26   1076525                  JOHN HISSERICH FOR STATE ASSEMBLY   \n",
       "4 2000-01-27   1038947  CALIFORNIA FACULTY ASSOCIATION POLITICAL ACTIO...   \n",
       "\n",
       "  filer_firstname election_date  from_date  thru_date  monetary_contributions  \\\n",
       "0                    2000-03-07 2000-01-01 2000-01-22                 57600.0   \n",
       "1                    2000-03-07 2000-01-01 2000-01-22                   975.0   \n",
       "2                    2000-03-07 2000-01-01 2000-01-22                     0.0   \n",
       "3                    2000-03-07 2000-01-01 2000-01-22                  7425.0   \n",
       "4                    2000-03-07 2000-01-01 2000-01-22                     0.0   \n",
       "\n",
       "   loans_received  subtotal_cash_contributions       ...         \\\n",
       "0             0.0                      57600.0       ...          \n",
       "1             0.0                        975.0       ...          \n",
       "2             0.0                          0.0       ...          \n",
       "3             0.0                       7425.0       ...          \n",
       "4             0.0                          0.0       ...          \n",
       "\n",
       "   begin_cash_balance  cash_receipts  miscellaneous_cash_increases  \\\n",
       "0           1595669.0        57600.0                           0.0   \n",
       "1            161101.0          975.0                           0.0   \n",
       "2              3493.0            0.0                           0.0   \n",
       "3             43726.0         7425.0                           0.0   \n",
       "4             75106.0            0.0                           0.0   \n",
       "\n",
       "   cash_payments  ending_cash_balance  loan_guarantees_received  \\\n",
       "0         9075.0            1644194.0                       0.0   \n",
       "1        48091.0             113986.0                       0.0   \n",
       "2            0.0               3493.0                       0.0   \n",
       "3        24066.0              27085.0                       0.0   \n",
       "4        12751.0              62356.0                       0.0   \n",
       "\n",
       "   cash_equivalents  outstanding_debts  filing_id  amendment_count  \n",
       "0               0.0                0.0     577732                0  \n",
       "1               0.0            10000.0     577733                0  \n",
       "2               0.0                0.0     577754                0  \n",
       "3               0.0            56500.0     577841                1  \n",
       "4               0.0                0.0     577947                0  \n",
       "\n",
       "[5 rows x 28 columns]"
      ]
     },
     "execution_count": 5,
     "metadata": {},
     "output_type": "execute_result"
    }
   ],
   "source": [
    "form_460_filings.head()"
   ]
  },
  {
   "cell_type": "code",
   "execution_count": 6,
   "metadata": {
    "collapsed": true,
    "deletable": true,
    "editable": true
   },
   "outputs": [],
   "source": [
    "prop_filings = pd.merge(\n",
    "    form_460_filings,\n",
    "    committees,\n",
    "    how=\"inner\",\n",
    "    left_on=\"filer_id\",\n",
    "    right_on=\"calaccess_committee_id\"\n",
    ")"
   ]
  },
  {
   "cell_type": "code",
   "execution_count": 7,
   "metadata": {
    "collapsed": true,
    "deletable": true,
    "editable": true
   },
   "outputs": [],
   "source": [
    "trimmed_filings = prop_filings[[\n",
    "    'calaccess_committee_id',\n",
    "    'committee_name',\n",
    "    'filing_id',\n",
    "    'date_filed',\n",
    "    'from_date', \n",
    "    'thru_date',\n",
    "    'total_contributions',\n",
    "    'total_expenditures_made',\n",
    "]].sort_values([\n",
    "    'committee_name',\n",
    "    'thru_date'\n",
    "]).rename(columns={\n",
    "    \"filing_id\": \"calaccess_filing_id\",\n",
    "})"
   ]
  },
  {
   "cell_type": "code",
   "execution_count": 8,
   "metadata": {
    "collapsed": false,
    "deletable": true,
    "editable": true
   },
   "outputs": [
    {
     "data": {
      "text/plain": [
       "3832355230.0"
      ]
     },
     "execution_count": 8,
     "metadata": {},
     "output_type": "execute_result"
    }
   ],
   "source": [
    "trimmed_filings.total_expenditures_made.sum()"
   ]
  },
  {
   "cell_type": "code",
   "execution_count": 9,
   "metadata": {
    "collapsed": true,
    "deletable": true,
    "editable": true
   },
   "outputs": [],
   "source": [
    "trimmed_filings.to_csv(\n",
    "    os.path.join(settings.data_dir, 'filings.csv'),\n",
    "    index=False\n",
    ")"
   ]
  },
  {
   "cell_type": "markdown",
   "metadata": {
    "deletable": true,
    "editable": true
   },
   "source": [
    "## 2016 committees"
   ]
  },
  {
   "cell_type": "code",
   "execution_count": 10,
   "metadata": {
    "collapsed": true,
    "deletable": true,
    "editable": true
   },
   "outputs": [],
   "source": [
    "recent_committees = pd.read_csv(\n",
    "    os.path.join(settings.data_dir, \"committees-2016.csv\")\n",
    ")"
   ]
  },
  {
   "cell_type": "code",
   "execution_count": 11,
   "metadata": {
    "collapsed": true,
    "deletable": true,
    "editable": true
   },
   "outputs": [],
   "source": [
    "recent_prop_filings = pd.merge(\n",
    "    form_460_filings,\n",
    "    recent_committees,\n",
    "    how=\"inner\",\n",
    "    left_on=\"filer_id\",\n",
    "    right_on=\"calaccess_committee_id\"\n",
    ")"
   ]
  },
  {
   "cell_type": "code",
   "execution_count": 12,
   "metadata": {
    "collapsed": false
   },
   "outputs": [
    {
     "name": "stdout",
     "output_type": "stream",
     "text": [
      "<class 'pandas.core.frame.DataFrame'>\n",
      "Int64Index: 531 entries, 0 to 530\n",
      "Data columns (total 31 columns):\n",
      "date_filed                      531 non-null datetime64[ns]\n",
      "filer_id                        531 non-null int64\n",
      "filer_lastname                  531 non-null object\n",
      "filer_firstname                 531 non-null object\n",
      "election_date                   191 non-null datetime64[ns]\n",
      "from_date                       531 non-null datetime64[ns]\n",
      "thru_date                       531 non-null datetime64[ns]\n",
      "monetary_contributions          531 non-null float64\n",
      "loans_received                  531 non-null float64\n",
      "subtotal_cash_contributions     531 non-null float64\n",
      "nonmonetary_contributions       531 non-null float64\n",
      "total_contributions             531 non-null float64\n",
      "payments_made                   531 non-null float64\n",
      "loans_made                      531 non-null float64\n",
      "subtotal_cash_payments          531 non-null float64\n",
      "unpaid_bills                    531 non-null float64\n",
      "nonmonetary_adjustment          531 non-null float64\n",
      "total_expenditures_made         531 non-null float64\n",
      "begin_cash_balance              531 non-null float64\n",
      "cash_receipts                   531 non-null float64\n",
      "miscellaneous_cash_increases    531 non-null float64\n",
      "cash_payments                   531 non-null float64\n",
      "ending_cash_balance             531 non-null float64\n",
      "loan_guarantees_received        531 non-null float64\n",
      "cash_equivalents                531 non-null float64\n",
      "outstanding_debts               531 non-null float64\n",
      "filing_id                       531 non-null int64\n",
      "amendment_count                 531 non-null int64\n",
      "calaccess_committee_id          531 non-null int64\n",
      "committee_name                  531 non-null object\n",
      "prop_count                      531 non-null int64\n",
      "dtypes: datetime64[ns](4), float64(19), int64(5), object(3)\n",
      "memory usage: 132.8+ KB\n"
     ]
    }
   ],
   "source": [
    "recent_prop_filings.info()"
   ]
  },
  {
   "cell_type": "code",
   "execution_count": 13,
   "metadata": {
    "collapsed": true,
    "deletable": true,
    "editable": true
   },
   "outputs": [],
   "source": [
    "recent_trimmed_filings = recent_prop_filings[[\n",
    "    'calaccess_committee_id',\n",
    "    'committee_name',\n",
    "    'filing_id',\n",
    "    'date_filed',\n",
    "    'from_date', \n",
    "    'thru_date',\n",
    "    'payments_made',\n",
    "    'loans_made',\n",
    "    'unpaid_bills',\n",
    "    'nonmonetary_adjustment',\n",
    "    'subtotal_cash_payments',\n",
    "    'total_expenditures_made',\n",
    "]].sort_values([\n",
    "    'committee_name',\n",
    "    'thru_date'\n",
    "]).rename(columns={\n",
    "    \"filing_id\": \"calaccess_filing_id\",\n",
    "})"
   ]
  },
  {
   "cell_type": "code",
   "execution_count": 14,
   "metadata": {
    "collapsed": true,
    "deletable": true,
    "editable": true
   },
   "outputs": [],
   "source": [
    "recent_trimmed_filings = recent_trimmed_filings[recent_trimmed_filings.from_date >= datetime.date(2015, 1, 1)]"
   ]
  },
  {
   "cell_type": "code",
   "execution_count": 15,
   "metadata": {
    "collapsed": false,
    "deletable": true,
    "editable": true
   },
   "outputs": [
    {
     "data": {
      "text/plain": [
       "527580010.0"
      ]
     },
     "execution_count": 15,
     "metadata": {},
     "output_type": "execute_result"
    }
   ],
   "source": [
    "recent_trimmed_filings.total_expenditures_made.sum()"
   ]
  },
  {
   "cell_type": "code",
   "execution_count": 16,
   "metadata": {
    "collapsed": true,
    "deletable": true,
    "editable": true
   },
   "outputs": [],
   "source": [
    "recent_trimmed_filings.to_csv(\n",
    "    os.path.join(settings.data_dir, 'filings-2016.csv'),\n",
    "    index=False\n",
    ")"
   ]
  }
 ],
 "metadata": {
  "kernelspec": {
   "display_name": "Python 2",
   "language": "python",
   "name": "python2"
  },
  "language_info": {
   "codemirror_mode": {
    "name": "ipython",
    "version": 2
   },
   "file_extension": ".py",
   "mimetype": "text/x-python",
   "name": "python",
   "nbconvert_exporter": "python",
   "pygments_lexer": "ipython2",
   "version": "2.7.12+"
  }
 },
 "nbformat": 4,
 "nbformat_minor": 2
}
