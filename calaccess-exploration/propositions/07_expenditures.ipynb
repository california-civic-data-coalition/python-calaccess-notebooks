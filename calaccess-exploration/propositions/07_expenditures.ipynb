{
 "cells": [
  {
   "cell_type": "markdown",
   "metadata": {},
   "source": [
    "# Expenditures\n",
    "\n",
    "Total up the expenditures by each committee"
   ]
  },
  {
   "cell_type": "code",
   "execution_count": 4,
   "metadata": {},
   "outputs": [],
   "source": [
    "import os\n",
    "import settings\n",
    "import pandas as pd"
   ]
  },
  {
   "cell_type": "code",
   "execution_count": 46,
   "metadata": {},
   "outputs": [],
   "source": [
    "committees = pd.read_csv(os.path.join(settings.data_dir, 'committees-2016.csv'))"
   ]
  },
  {
   "cell_type": "code",
   "execution_count": 71,
   "metadata": {},
   "outputs": [],
   "source": [
    "positions = pd.read_csv(os.path.join(settings.data_dir, 'committees-and-props-2016.csv'))[\n",
    "    ['calaccess_prop_id', 'prop_name', 'calaccess_committee_id', 'committee_position']\n",
    "]"
   ]
  },
  {
   "cell_type": "code",
   "execution_count": 48,
   "metadata": {},
   "outputs": [],
   "source": [
    "filings = pd.read_csv(os.path.join(settings.data_dir, \"filings-2016.csv\"))"
   ]
  },
  {
   "cell_type": "code",
   "execution_count": 61,
   "metadata": {},
   "outputs": [],
   "source": [
    "merged = committees.merge(\n",
    "    filings,\n",
    "    how=\"inner\",\n",
    "    on=\"calaccess_committee_id\"\n",
    ")"
   ]
  },
  {
   "cell_type": "code",
   "execution_count": 62,
   "metadata": {},
   "outputs": [
    {
     "name": "stdout",
     "output_type": "stream",
     "text": [
      "<class 'pandas.core.frame.DataFrame'>\n",
      "Int64Index: 370 entries, 0 to 369\n",
      "Data columns (total 14 columns):\n",
      "calaccess_committee_id     370 non-null int64\n",
      "committee_name_x           370 non-null object\n",
      "prop_count                 370 non-null int64\n",
      "committee_name_y           370 non-null object\n",
      "calaccess_filing_id        370 non-null int64\n",
      "date_filed                 370 non-null object\n",
      "from_date                  370 non-null object\n",
      "thru_date                  370 non-null object\n",
      "payments_made              370 non-null float64\n",
      "loans_made                 370 non-null float64\n",
      "unpaid_bills               370 non-null float64\n",
      "nonmonetary_adjustment     370 non-null float64\n",
      "subtotal_cash_payments     370 non-null float64\n",
      "total_expenditures_made    370 non-null float64\n",
      "dtypes: float64(6), int64(3), object(5)\n",
      "memory usage: 43.4+ KB\n"
     ]
    }
   ],
   "source": [
    "merged.info()"
   ]
  },
  {
   "cell_type": "code",
   "execution_count": 63,
   "metadata": {},
   "outputs": [],
   "source": [
    "ctotals = merged.groupby([\n",
    "    'calaccess_committee_id',\n",
    "    'committee_name_x'\n",
    "]).total_expenditures_made.sum().reset_index()"
   ]
  },
  {
   "cell_type": "code",
   "execution_count": 68,
   "metadata": {},
   "outputs": [],
   "source": [
    "ctotals.rename(columns={\"committee_name_x\": \"committee_name\"}, inplace=True)"
   ]
  },
  {
   "cell_type": "code",
   "execution_count": 73,
   "metadata": {},
   "outputs": [],
   "source": [
    "c2p = ctotals.merge(positions, on=\"calaccess_committee_id\")"
   ]
  },
  {
   "cell_type": "code",
   "execution_count": 75,
   "metadata": {},
   "outputs": [],
   "source": [
    "c2ptotals = c2p.groupby([\n",
    "    'prop_name',\n",
    "    'calaccess_committee_id',\n",
    "    'committee_name',\n",
    "    'committee_position'\n",
    "]).total_expenditures_made.sum().reset_index()"
   ]
  },
  {
   "cell_type": "code",
   "execution_count": 78,
   "metadata": {},
   "outputs": [],
   "source": [
    "c2ptotals = c2ptotals.sort_values(\"total_expenditures_made\", ascending=False).sort_values(\"committee_name\")"
   ]
  },
  {
   "cell_type": "code",
   "execution_count": 79,
   "metadata": {},
   "outputs": [],
   "source": [
    "c2ptotals.to_csv(os.path.join(settings.data_dir, 'committee-expenditures-2016.csv'), index=False)"
   ]
  },
  {
   "cell_type": "code",
   "execution_count": 80,
   "metadata": {},
   "outputs": [],
   "source": [
    "ptotals = c2ptotals.groupby(['prop_name', 'committee_position']).total_expenditures_made.sum().reset_index()"
   ]
  },
  {
   "cell_type": "code",
   "execution_count": 81,
   "metadata": {},
   "outputs": [],
   "source": [
    "ptotals.to_csv(os.path.join(settings.data_dir, 'proposition-expenditures-2016.csv'), index=False)"
   ]
  }
 ],
 "metadata": {
  "kernelspec": {
   "display_name": "Python 2",
   "language": "python",
   "name": "python2"
  },
  "language_info": {
   "codemirror_mode": {
    "name": "ipython",
    "version": 2
   },
   "file_extension": ".py",
   "mimetype": "text/x-python",
   "name": "python",
   "nbconvert_exporter": "python",
   "pygments_lexer": "ipython2",
   "version": "2.7.12"
  }
 },
 "nbformat": 4,
 "nbformat_minor": 2
}
