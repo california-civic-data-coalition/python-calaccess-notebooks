{
 "cells": [
  {
   "cell_type": "markdown",
   "metadata": {
    "deletable": true,
    "editable": true
   },
   "source": [
    "# Propositions\n",
    "\n",
    "Extract ballot measures from the database and their one-to-many relationship with elections"
   ]
  },
  {
   "cell_type": "code",
   "execution_count": 1,
   "metadata": {
    "collapsed": true,
    "deletable": true,
    "editable": true
   },
   "outputs": [],
   "source": [
    "import os\n",
    "import settings\n",
    "import pandas as pd"
   ]
  },
  {
   "cell_type": "markdown",
   "metadata": {
    "deletable": true,
    "editable": true
   },
   "source": [
    "### Extract all elections"
   ]
  },
  {
   "cell_type": "code",
   "execution_count": 2,
   "metadata": {
    "collapsed": true,
    "deletable": true,
    "editable": true
   },
   "outputs": [],
   "source": [
    "elections_sql = \"\"\"\n",
    "SELECT *\n",
    "FROM \"calaccess_processed_election\"\n",
    "INNER JOIN \"calaccess_processed_event\"\n",
    "ON (\"calaccess_processed_election\".\"event_ptr_id\" = \"calaccess_processed_event\".\"id\")\n",
    "ORDER BY \"calaccess_processed_event\".\"start_time\";\n",
    "\"\"\""
   ]
  },
  {
   "cell_type": "code",
   "execution_count": 3,
   "metadata": {
    "collapsed": false,
    "deletable": true,
    "editable": true
   },
   "outputs": [],
   "source": [
    "elections = pd.read_sql_query(elections_sql, settings.db_connection, parse_dates=[\"start_time\",])"
   ]
  },
  {
   "cell_type": "code",
   "execution_count": 4,
   "metadata": {
    "collapsed": false,
    "deletable": true,
    "editable": true
   },
   "outputs": [
    {
     "data": {
      "text/html": [
       "<div>\n",
       "<table border=\"1\" class=\"dataframe\">\n",
       "  <thead>\n",
       "    <tr style=\"text-align: right;\">\n",
       "      <th></th>\n",
       "      <th>event_ptr_id</th>\n",
       "      <th>state</th>\n",
       "      <th>is_statewide</th>\n",
       "      <th>administrative_org_id</th>\n",
       "      <th>created_at</th>\n",
       "      <th>updated_at</th>\n",
       "      <th>extras</th>\n",
       "      <th>id</th>\n",
       "      <th>name</th>\n",
       "      <th>description</th>\n",
       "      <th>classification</th>\n",
       "      <th>start_time</th>\n",
       "      <th>timezone</th>\n",
       "      <th>end_time</th>\n",
       "      <th>all_day</th>\n",
       "    </tr>\n",
       "  </thead>\n",
       "  <tbody>\n",
       "    <tr>\n",
       "      <th>0</th>\n",
       "      <td>ocd-event/e9cb6a1f-203e-4305-883b-17de53940dfd</td>\n",
       "      <td>st06</td>\n",
       "      <td>True</td>\n",
       "      <td>ocd-organization/1831cced-b469-4b47-838e-abd9b...</td>\n",
       "      <td>2017-03-14 13:01:24.122613+00:00</td>\n",
       "      <td>2017-03-14 13:01:24.122635+00:00</td>\n",
       "      <td>{}</td>\n",
       "      <td>ocd-event/e9cb6a1f-203e-4305-883b-17de53940dfd</td>\n",
       "      <td>2000 PRIMARY</td>\n",
       "      <td></td>\n",
       "      <td>election</td>\n",
       "      <td>2000-03-07 00:00:00+00:00</td>\n",
       "      <td>US/Pacific</td>\n",
       "      <td>None</td>\n",
       "      <td>True</td>\n",
       "    </tr>\n",
       "    <tr>\n",
       "      <th>1</th>\n",
       "      <td>ocd-event/733b062d-75d2-4e23-8e17-838f808780be</td>\n",
       "      <td>st06</td>\n",
       "      <td>True</td>\n",
       "      <td>ocd-organization/1831cced-b469-4b47-838e-abd9b...</td>\n",
       "      <td>2017-03-14 13:01:24.161423+00:00</td>\n",
       "      <td>2017-03-14 13:01:24.161444+00:00</td>\n",
       "      <td>{}</td>\n",
       "      <td>ocd-event/733b062d-75d2-4e23-8e17-838f808780be</td>\n",
       "      <td>2000 GENERAL</td>\n",
       "      <td></td>\n",
       "      <td>election</td>\n",
       "      <td>2000-11-07 00:00:00+00:00</td>\n",
       "      <td>US/Pacific</td>\n",
       "      <td>None</td>\n",
       "      <td>True</td>\n",
       "    </tr>\n",
       "    <tr>\n",
       "      <th>2</th>\n",
       "      <td>ocd-event/710d2a25-b8ea-4617-a370-f21373c78a59</td>\n",
       "      <td>st06</td>\n",
       "      <td>False</td>\n",
       "      <td>ocd-organization/1831cced-b469-4b47-838e-abd9b...</td>\n",
       "      <td>2017-03-14 13:01:25.163340+00:00</td>\n",
       "      <td>2017-03-14 13:01:25.163361+00:00</td>\n",
       "      <td>{}</td>\n",
       "      <td>ocd-event/710d2a25-b8ea-4617-a370-f21373c78a59</td>\n",
       "      <td>2001 SPECIAL RUNOFF (ASSEMBLY 65)</td>\n",
       "      <td></td>\n",
       "      <td>election</td>\n",
       "      <td>2001-02-06 00:00:00+00:00</td>\n",
       "      <td>US/Pacific</td>\n",
       "      <td>None</td>\n",
       "      <td>True</td>\n",
       "    </tr>\n",
       "    <tr>\n",
       "      <th>3</th>\n",
       "      <td>ocd-event/583923d1-2ffb-4f2f-9e63-ac80542c5eff</td>\n",
       "      <td>st06</td>\n",
       "      <td>False</td>\n",
       "      <td>ocd-organization/1831cced-b469-4b47-838e-abd9b...</td>\n",
       "      <td>2017-03-14 13:01:25.581526+00:00</td>\n",
       "      <td>2017-03-14 13:01:25.581547+00:00</td>\n",
       "      <td>{}</td>\n",
       "      <td>ocd-event/583923d1-2ffb-4f2f-9e63-ac80542c5eff</td>\n",
       "      <td>2001 SPECIAL ELECTION (STATE SENATE 24)</td>\n",
       "      <td></td>\n",
       "      <td>election</td>\n",
       "      <td>2001-03-26 00:00:00+00:00</td>\n",
       "      <td>US/Pacific</td>\n",
       "      <td>None</td>\n",
       "      <td>True</td>\n",
       "    </tr>\n",
       "    <tr>\n",
       "      <th>4</th>\n",
       "      <td>ocd-event/11c07a43-9b8b-47c0-a9ba-599de0fc6f3a</td>\n",
       "      <td>st06</td>\n",
       "      <td>False</td>\n",
       "      <td>ocd-organization/1831cced-b469-4b47-838e-abd9b...</td>\n",
       "      <td>2017-03-14 13:01:25.136680+00:00</td>\n",
       "      <td>2017-03-14 13:01:25.136704+00:00</td>\n",
       "      <td>{}</td>\n",
       "      <td>ocd-event/11c07a43-9b8b-47c0-a9ba-599de0fc6f3a</td>\n",
       "      <td>2001 SPECIAL ELECTION (ASSEMBLY 65)</td>\n",
       "      <td></td>\n",
       "      <td>election</td>\n",
       "      <td>2001-04-03 00:00:00+00:00</td>\n",
       "      <td>US/Pacific</td>\n",
       "      <td>None</td>\n",
       "      <td>True</td>\n",
       "    </tr>\n",
       "  </tbody>\n",
       "</table>\n",
       "</div>"
      ],
      "text/plain": [
       "                                     event_ptr_id state is_statewide  \\\n",
       "0  ocd-event/e9cb6a1f-203e-4305-883b-17de53940dfd  st06         True   \n",
       "1  ocd-event/733b062d-75d2-4e23-8e17-838f808780be  st06         True   \n",
       "2  ocd-event/710d2a25-b8ea-4617-a370-f21373c78a59  st06        False   \n",
       "3  ocd-event/583923d1-2ffb-4f2f-9e63-ac80542c5eff  st06        False   \n",
       "4  ocd-event/11c07a43-9b8b-47c0-a9ba-599de0fc6f3a  st06        False   \n",
       "\n",
       "                               administrative_org_id  \\\n",
       "0  ocd-organization/1831cced-b469-4b47-838e-abd9b...   \n",
       "1  ocd-organization/1831cced-b469-4b47-838e-abd9b...   \n",
       "2  ocd-organization/1831cced-b469-4b47-838e-abd9b...   \n",
       "3  ocd-organization/1831cced-b469-4b47-838e-abd9b...   \n",
       "4  ocd-organization/1831cced-b469-4b47-838e-abd9b...   \n",
       "\n",
       "                        created_at                       updated_at extras  \\\n",
       "0 2017-03-14 13:01:24.122613+00:00 2017-03-14 13:01:24.122635+00:00     {}   \n",
       "1 2017-03-14 13:01:24.161423+00:00 2017-03-14 13:01:24.161444+00:00     {}   \n",
       "2 2017-03-14 13:01:25.163340+00:00 2017-03-14 13:01:25.163361+00:00     {}   \n",
       "3 2017-03-14 13:01:25.581526+00:00 2017-03-14 13:01:25.581547+00:00     {}   \n",
       "4 2017-03-14 13:01:25.136680+00:00 2017-03-14 13:01:25.136704+00:00     {}   \n",
       "\n",
       "                                               id  \\\n",
       "0  ocd-event/e9cb6a1f-203e-4305-883b-17de53940dfd   \n",
       "1  ocd-event/733b062d-75d2-4e23-8e17-838f808780be   \n",
       "2  ocd-event/710d2a25-b8ea-4617-a370-f21373c78a59   \n",
       "3  ocd-event/583923d1-2ffb-4f2f-9e63-ac80542c5eff   \n",
       "4  ocd-event/11c07a43-9b8b-47c0-a9ba-599de0fc6f3a   \n",
       "\n",
       "                                      name description classification  \\\n",
       "0                             2000 PRIMARY                   election   \n",
       "1                             2000 GENERAL                   election   \n",
       "2        2001 SPECIAL RUNOFF (ASSEMBLY 65)                   election   \n",
       "3  2001 SPECIAL ELECTION (STATE SENATE 24)                   election   \n",
       "4      2001 SPECIAL ELECTION (ASSEMBLY 65)                   election   \n",
       "\n",
       "                 start_time    timezone end_time all_day  \n",
       "0 2000-03-07 00:00:00+00:00  US/Pacific     None    True  \n",
       "1 2000-11-07 00:00:00+00:00  US/Pacific     None    True  \n",
       "2 2001-02-06 00:00:00+00:00  US/Pacific     None    True  \n",
       "3 2001-03-26 00:00:00+00:00  US/Pacific     None    True  \n",
       "4 2001-04-03 00:00:00+00:00  US/Pacific     None    True  "
      ]
     },
     "execution_count": 4,
     "metadata": {},
     "output_type": "execute_result"
    }
   ],
   "source": [
    "elections.head()"
   ]
  },
  {
   "cell_type": "code",
   "execution_count": 5,
   "metadata": {
    "collapsed": true,
    "deletable": true,
    "editable": true
   },
   "outputs": [],
   "source": [
    "trimmed_elections = elections[['id', 'name', 'start_time']]"
   ]
  },
  {
   "cell_type": "code",
   "execution_count": 6,
   "metadata": {
    "collapsed": true,
    "deletable": true,
    "editable": true
   },
   "outputs": [],
   "source": [
    "trimmed_elections.to_csv(os.path.join(settings.data_dir, \"elections.csv\"), index=False)"
   ]
  },
  {
   "cell_type": "markdown",
   "metadata": {
    "deletable": true,
    "editable": true
   },
   "source": [
    "### Extract all propositions"
   ]
  },
  {
   "cell_type": "code",
   "execution_count": 7,
   "metadata": {
    "collapsed": true,
    "deletable": true,
    "editable": true
   },
   "outputs": [],
   "source": [
    "prop_sql = \"\"\"\n",
    "SELECT *\n",
    "FROM calaccess_processed_ballotmeasurecontest as b\n",
    "INNER JOIN calaccess_processed_contestbase as c\n",
    "ON b.contestbase_ptr_id = c.id\n",
    "\"\"\""
   ]
  },
  {
   "cell_type": "code",
   "execution_count": 8,
   "metadata": {
    "collapsed": true,
    "deletable": true,
    "editable": true
   },
   "outputs": [],
   "source": [
    "props = pd.read_sql_query(prop_sql, settings.db_connection)"
   ]
  },
  {
   "cell_type": "markdown",
   "metadata": {
    "deletable": true,
    "editable": true
   },
   "source": [
    "### Join in the other IDs from the database"
   ]
  },
  {
   "cell_type": "code",
   "execution_count": 9,
   "metadata": {
    "collapsed": true,
    "deletable": true,
    "editable": true
   },
   "outputs": [],
   "source": [
    "prop_calaccess_id = pd.read_sql_table(\"calaccess_processed_contestidentifier\", settings.db_connection)"
   ]
  },
  {
   "cell_type": "code",
   "execution_count": 10,
   "metadata": {
    "collapsed": true,
    "deletable": true,
    "editable": true
   },
   "outputs": [],
   "source": [
    "prop_local_ids = pd.read_sql_table(\"calaccess_processed_scrapedproposition\", settings.db_connection)"
   ]
  },
  {
   "cell_type": "code",
   "execution_count": 11,
   "metadata": {
    "collapsed": true,
    "deletable": true,
    "editable": true
   },
   "outputs": [],
   "source": [
    "prop_ids = prop_calaccess_id.merge(prop_local_ids, left_on=\"identifier\", right_on=\"scraped_id\")[['id_y', 'scraped_id', 'contest_id']].rename(\n",
    "    columns={\n",
    "        \"id_y\": \"ccdc_prop_id\",\n",
    "        \"scraped_id\": \"calaccess_prop_id\",\n",
    "        \"contest_id\": \"ocd_prop_id\"\n",
    "    },\n",
    ")"
   ]
  },
  {
   "cell_type": "code",
   "execution_count": 12,
   "metadata": {
    "collapsed": true,
    "deletable": true,
    "editable": true
   },
   "outputs": [],
   "source": [
    "props = props.merge(prop_ids, left_on=\"contestbase_ptr_id\", right_on=\"ocd_prop_id\")"
   ]
  },
  {
   "cell_type": "markdown",
   "metadata": {
    "deletable": true,
    "editable": true
   },
   "source": [
    "### Clean up fields and join to elections"
   ]
  },
  {
   "cell_type": "code",
   "execution_count": 13,
   "metadata": {
    "collapsed": true,
    "deletable": true,
    "editable": true
   },
   "outputs": [],
   "source": [
    "trimmed_props = props[[\n",
    "    'election_id',\n",
    "    'ocd_prop_id',\n",
    "    'calaccess_prop_id',\n",
    "    'ccdc_prop_id',\n",
    "    'name',\n",
    "]]"
   ]
  },
  {
   "cell_type": "code",
   "execution_count": 14,
   "metadata": {
    "collapsed": true,
    "deletable": true,
    "editable": true
   },
   "outputs": [],
   "source": [
    "merged_props = pd.merge(\n",
    "    trimmed_elections,\n",
    "    trimmed_props,\n",
    "    how=\"inner\",\n",
    "    left_on=\"id\",\n",
    "    right_on=\"election_id\",\n",
    "    suffixes=[\"_elections\", \"_props\"]\n",
    ")"
   ]
  },
  {
   "cell_type": "code",
   "execution_count": 15,
   "metadata": {
    "collapsed": true,
    "deletable": true,
    "editable": true
   },
   "outputs": [],
   "source": [
    "merged_props.rename(columns={\n",
    "    \"name_elections\": \"election_name\",\n",
    "    \"start_time\": \"election_date\",\n",
    "    \"name_props\": \"prop_name\"\n",
    "}, inplace=True)"
   ]
  },
  {
   "cell_type": "code",
   "execution_count": 16,
   "metadata": {
    "collapsed": true,
    "deletable": true,
    "editable": true
   },
   "outputs": [],
   "source": [
    "merged_props.drop(\"id\", axis=1, inplace=True)"
   ]
  },
  {
   "cell_type": "code",
   "execution_count": 17,
   "metadata": {
    "collapsed": true,
    "deletable": true,
    "editable": true
   },
   "outputs": [],
   "source": [
    "merged_props.to_csv(os.path.join(settings.data_dir, \"props.csv\"), index=False)"
   ]
  },
  {
   "cell_type": "markdown",
   "metadata": {
    "deletable": true,
    "editable": true
   },
   "source": [
    "### Filter down to props from the most recent election"
   ]
  },
  {
   "cell_type": "code",
   "execution_count": 18,
   "metadata": {
    "collapsed": true,
    "deletable": true,
    "editable": true
   },
   "outputs": [],
   "source": [
    "recent_props = merged_props[merged_props.election_name == \"2016 GENERAL\"]"
   ]
  },
  {
   "cell_type": "code",
   "execution_count": 19,
   "metadata": {
    "collapsed": false,
    "deletable": true,
    "editable": true
   },
   "outputs": [
    {
     "data": {
      "text/html": [
       "<div>\n",
       "<table border=\"1\" class=\"dataframe\">\n",
       "  <thead>\n",
       "    <tr style=\"text-align: right;\">\n",
       "      <th></th>\n",
       "      <th>election_name</th>\n",
       "      <th>election_date</th>\n",
       "      <th>election_id</th>\n",
       "      <th>ocd_prop_id</th>\n",
       "      <th>calaccess_prop_id</th>\n",
       "      <th>ccdc_prop_id</th>\n",
       "      <th>prop_name</th>\n",
       "    </tr>\n",
       "  </thead>\n",
       "  <tbody>\n",
       "    <tr>\n",
       "      <th>151</th>\n",
       "      <td>2016 GENERAL</td>\n",
       "      <td>2016-11-08 00:00:00+00:00</td>\n",
       "      <td>ocd-event/9c8198bc-a05f-44b9-9352-ea04800c55aa</td>\n",
       "      <td>ocd-contest/08324a50-6e16-4a9a-8f66-ea1fa4dea70d</td>\n",
       "      <td>1376258</td>\n",
       "      <td>70</td>\n",
       "      <td>PROPOSITION 051 - SCHOOL BONDS. FUNDING FOR K-...</td>\n",
       "    </tr>\n",
       "    <tr>\n",
       "      <th>152</th>\n",
       "      <td>2016 GENERAL</td>\n",
       "      <td>2016-11-08 00:00:00+00:00</td>\n",
       "      <td>ocd-event/9c8198bc-a05f-44b9-9352-ea04800c55aa</td>\n",
       "      <td>ocd-contest/2d4de540-adcb-4c2e-a58b-13f43f60fff1</td>\n",
       "      <td>1362198</td>\n",
       "      <td>71</td>\n",
       "      <td>PROPOSITION 052 - STATE FEES ON HOSPITALS. FED...</td>\n",
       "    </tr>\n",
       "    <tr>\n",
       "      <th>153</th>\n",
       "      <td>2016 GENERAL</td>\n",
       "      <td>2016-11-08 00:00:00+00:00</td>\n",
       "      <td>ocd-event/9c8198bc-a05f-44b9-9352-ea04800c55aa</td>\n",
       "      <td>ocd-contest/687d67df-238e-4424-89d5-7445dcd43aee</td>\n",
       "      <td>1376142</td>\n",
       "      <td>72</td>\n",
       "      <td>PROPOSITION 053 - REVENUE BONDS. STATEWIDE VOT...</td>\n",
       "    </tr>\n",
       "    <tr>\n",
       "      <th>154</th>\n",
       "      <td>2016 GENERAL</td>\n",
       "      <td>2016-11-08 00:00:00+00:00</td>\n",
       "      <td>ocd-event/9c8198bc-a05f-44b9-9352-ea04800c55aa</td>\n",
       "      <td>ocd-contest/ea81f6ce-4b1c-42b9-9455-9edceafe9561</td>\n",
       "      <td>1381642</td>\n",
       "      <td>73</td>\n",
       "      <td>PROPOSITION 054 - LEGISLATURE. LEGISLATION AND...</td>\n",
       "    </tr>\n",
       "    <tr>\n",
       "      <th>155</th>\n",
       "      <td>2016 GENERAL</td>\n",
       "      <td>2016-11-08 00:00:00+00:00</td>\n",
       "      <td>ocd-event/9c8198bc-a05f-44b9-9352-ea04800c55aa</td>\n",
       "      <td>ocd-contest/5961b189-8414-45ba-9253-eac65069e5d7</td>\n",
       "      <td>1382647</td>\n",
       "      <td>74</td>\n",
       "      <td>PROPOSITION 055 - TAX EXTENSION TO FUND EDUCAT...</td>\n",
       "    </tr>\n",
       "    <tr>\n",
       "      <th>156</th>\n",
       "      <td>2016 GENERAL</td>\n",
       "      <td>2016-11-08 00:00:00+00:00</td>\n",
       "      <td>ocd-event/9c8198bc-a05f-44b9-9352-ea04800c55aa</td>\n",
       "      <td>ocd-contest/7ae8b4a5-2c36-413d-9ca5-72ce3f1e289d</td>\n",
       "      <td>1381640</td>\n",
       "      <td>75</td>\n",
       "      <td>PROPOSITION 056 - CIGARETTE TAX TO FUND HEALTH...</td>\n",
       "    </tr>\n",
       "    <tr>\n",
       "      <th>157</th>\n",
       "      <td>2016 GENERAL</td>\n",
       "      <td>2016-11-08 00:00:00+00:00</td>\n",
       "      <td>ocd-event/9c8198bc-a05f-44b9-9352-ea04800c55aa</td>\n",
       "      <td>ocd-contest/8c8a3fef-6fea-4031-910f-9fbd01ba1f4d</td>\n",
       "      <td>1383319</td>\n",
       "      <td>76</td>\n",
       "      <td>PROPOSITION 057 - CRIMINAL SENTENCES. JUVENILE...</td>\n",
       "    </tr>\n",
       "    <tr>\n",
       "      <th>158</th>\n",
       "      <td>2016 GENERAL</td>\n",
       "      <td>2016-11-08 00:00:00+00:00</td>\n",
       "      <td>ocd-event/9c8198bc-a05f-44b9-9352-ea04800c55aa</td>\n",
       "      <td>ocd-contest/3db22e03-360e-45b0-bc57-d8d798dfb510</td>\n",
       "      <td>1382395</td>\n",
       "      <td>77</td>\n",
       "      <td>PROPOSITION 058 - SB 1174 (CHAPTER 753, STATUT...</td>\n",
       "    </tr>\n",
       "    <tr>\n",
       "      <th>159</th>\n",
       "      <td>2016 GENERAL</td>\n",
       "      <td>2016-11-08 00:00:00+00:00</td>\n",
       "      <td>ocd-event/9c8198bc-a05f-44b9-9352-ea04800c55aa</td>\n",
       "      <td>ocd-contest/8a690633-cba0-4838-beae-8a27e058cc15</td>\n",
       "      <td>1386783</td>\n",
       "      <td>78</td>\n",
       "      <td>PROPOSITION 059- SB 254 (CHAPTER 20, STATUTES ...</td>\n",
       "    </tr>\n",
       "    <tr>\n",
       "      <th>160</th>\n",
       "      <td>2016 GENERAL</td>\n",
       "      <td>2016-11-08 00:00:00+00:00</td>\n",
       "      <td>ocd-event/9c8198bc-a05f-44b9-9352-ea04800c55aa</td>\n",
       "      <td>ocd-contest/1df18bd0-02a0-4d5e-96bd-6c80ff64d6f9</td>\n",
       "      <td>1376195</td>\n",
       "      <td>79</td>\n",
       "      <td>PROPOSITION 060- ADULT FILMS. CONDOMS. HEALTH ...</td>\n",
       "    </tr>\n",
       "    <tr>\n",
       "      <th>161</th>\n",
       "      <td>2016 GENERAL</td>\n",
       "      <td>2016-11-08 00:00:00+00:00</td>\n",
       "      <td>ocd-event/9c8198bc-a05f-44b9-9352-ea04800c55aa</td>\n",
       "      <td>ocd-contest/5e7acbdb-1965-414e-b18a-7f348635344e</td>\n",
       "      <td>1377343</td>\n",
       "      <td>80</td>\n",
       "      <td>PROPOSITION 061- STATE PRESCRIPTION DRUG PURCH...</td>\n",
       "    </tr>\n",
       "    <tr>\n",
       "      <th>162</th>\n",
       "      <td>2016 GENERAL</td>\n",
       "      <td>2016-11-08 00:00:00+00:00</td>\n",
       "      <td>ocd-event/9c8198bc-a05f-44b9-9352-ea04800c55aa</td>\n",
       "      <td>ocd-contest/c79212ca-2a51-459c-8ef1-2bc29c46bf39</td>\n",
       "      <td>1381268</td>\n",
       "      <td>81</td>\n",
       "      <td>PROPOSITION 062- DEATH PENALTY. INITIATIVE STA...</td>\n",
       "    </tr>\n",
       "    <tr>\n",
       "      <th>163</th>\n",
       "      <td>2016 GENERAL</td>\n",
       "      <td>2016-11-08 00:00:00+00:00</td>\n",
       "      <td>ocd-event/9c8198bc-a05f-44b9-9352-ea04800c55aa</td>\n",
       "      <td>ocd-contest/6516fe7d-c7fb-4315-8f1d-31027eff464f</td>\n",
       "      <td>1381803</td>\n",
       "      <td>82</td>\n",
       "      <td>PROPOSITION 063- FIREARMS. AMMUNITION SALES. I...</td>\n",
       "    </tr>\n",
       "    <tr>\n",
       "      <th>164</th>\n",
       "      <td>2016 GENERAL</td>\n",
       "      <td>2016-11-08 00:00:00+00:00</td>\n",
       "      <td>ocd-event/9c8198bc-a05f-44b9-9352-ea04800c55aa</td>\n",
       "      <td>ocd-contest/2a015401-92bc-47f6-bcf9-100ef333b05e</td>\n",
       "      <td>1381868</td>\n",
       "      <td>83</td>\n",
       "      <td>PROPOSITION 064- MARIJUANA LEGALIZATION. INITI...</td>\n",
       "    </tr>\n",
       "    <tr>\n",
       "      <th>165</th>\n",
       "      <td>2016 GENERAL</td>\n",
       "      <td>2016-11-08 00:00:00+00:00</td>\n",
       "      <td>ocd-event/9c8198bc-a05f-44b9-9352-ea04800c55aa</td>\n",
       "      <td>ocd-contest/9da3389c-cb25-4a94-a659-f1a09f3a9de6</td>\n",
       "      <td>1381520</td>\n",
       "      <td>84</td>\n",
       "      <td>PROPOSITION 065- CARRY-OUT BAGS. CHARGES. INIT...</td>\n",
       "    </tr>\n",
       "    <tr>\n",
       "      <th>166</th>\n",
       "      <td>2016 GENERAL</td>\n",
       "      <td>2016-11-08 00:00:00+00:00</td>\n",
       "      <td>ocd-event/9c8198bc-a05f-44b9-9352-ea04800c55aa</td>\n",
       "      <td>ocd-contest/60ef9a20-9963-45f1-a170-e9e5b35a3295</td>\n",
       "      <td>1381724</td>\n",
       "      <td>85</td>\n",
       "      <td>PROPOSITION 066- DEATH PENALTY. PROCEDURES. IN...</td>\n",
       "    </tr>\n",
       "    <tr>\n",
       "      <th>167</th>\n",
       "      <td>2016 GENERAL</td>\n",
       "      <td>2016-11-08 00:00:00+00:00</td>\n",
       "      <td>ocd-event/9c8198bc-a05f-44b9-9352-ea04800c55aa</td>\n",
       "      <td>ocd-contest/50193a28-c6b0-4105-b1b6-a82ee0805402</td>\n",
       "      <td>1372638</td>\n",
       "      <td>86</td>\n",
       "      <td>PROPOSITION 067- REFERENDUM TO OVERTURN BAN ON...</td>\n",
       "    </tr>\n",
       "  </tbody>\n",
       "</table>\n",
       "</div>"
      ],
      "text/plain": [
       "    election_name             election_date  \\\n",
       "151  2016 GENERAL 2016-11-08 00:00:00+00:00   \n",
       "152  2016 GENERAL 2016-11-08 00:00:00+00:00   \n",
       "153  2016 GENERAL 2016-11-08 00:00:00+00:00   \n",
       "154  2016 GENERAL 2016-11-08 00:00:00+00:00   \n",
       "155  2016 GENERAL 2016-11-08 00:00:00+00:00   \n",
       "156  2016 GENERAL 2016-11-08 00:00:00+00:00   \n",
       "157  2016 GENERAL 2016-11-08 00:00:00+00:00   \n",
       "158  2016 GENERAL 2016-11-08 00:00:00+00:00   \n",
       "159  2016 GENERAL 2016-11-08 00:00:00+00:00   \n",
       "160  2016 GENERAL 2016-11-08 00:00:00+00:00   \n",
       "161  2016 GENERAL 2016-11-08 00:00:00+00:00   \n",
       "162  2016 GENERAL 2016-11-08 00:00:00+00:00   \n",
       "163  2016 GENERAL 2016-11-08 00:00:00+00:00   \n",
       "164  2016 GENERAL 2016-11-08 00:00:00+00:00   \n",
       "165  2016 GENERAL 2016-11-08 00:00:00+00:00   \n",
       "166  2016 GENERAL 2016-11-08 00:00:00+00:00   \n",
       "167  2016 GENERAL 2016-11-08 00:00:00+00:00   \n",
       "\n",
       "                                        election_id  \\\n",
       "151  ocd-event/9c8198bc-a05f-44b9-9352-ea04800c55aa   \n",
       "152  ocd-event/9c8198bc-a05f-44b9-9352-ea04800c55aa   \n",
       "153  ocd-event/9c8198bc-a05f-44b9-9352-ea04800c55aa   \n",
       "154  ocd-event/9c8198bc-a05f-44b9-9352-ea04800c55aa   \n",
       "155  ocd-event/9c8198bc-a05f-44b9-9352-ea04800c55aa   \n",
       "156  ocd-event/9c8198bc-a05f-44b9-9352-ea04800c55aa   \n",
       "157  ocd-event/9c8198bc-a05f-44b9-9352-ea04800c55aa   \n",
       "158  ocd-event/9c8198bc-a05f-44b9-9352-ea04800c55aa   \n",
       "159  ocd-event/9c8198bc-a05f-44b9-9352-ea04800c55aa   \n",
       "160  ocd-event/9c8198bc-a05f-44b9-9352-ea04800c55aa   \n",
       "161  ocd-event/9c8198bc-a05f-44b9-9352-ea04800c55aa   \n",
       "162  ocd-event/9c8198bc-a05f-44b9-9352-ea04800c55aa   \n",
       "163  ocd-event/9c8198bc-a05f-44b9-9352-ea04800c55aa   \n",
       "164  ocd-event/9c8198bc-a05f-44b9-9352-ea04800c55aa   \n",
       "165  ocd-event/9c8198bc-a05f-44b9-9352-ea04800c55aa   \n",
       "166  ocd-event/9c8198bc-a05f-44b9-9352-ea04800c55aa   \n",
       "167  ocd-event/9c8198bc-a05f-44b9-9352-ea04800c55aa   \n",
       "\n",
       "                                          ocd_prop_id calaccess_prop_id  \\\n",
       "151  ocd-contest/08324a50-6e16-4a9a-8f66-ea1fa4dea70d           1376258   \n",
       "152  ocd-contest/2d4de540-adcb-4c2e-a58b-13f43f60fff1           1362198   \n",
       "153  ocd-contest/687d67df-238e-4424-89d5-7445dcd43aee           1376142   \n",
       "154  ocd-contest/ea81f6ce-4b1c-42b9-9455-9edceafe9561           1381642   \n",
       "155  ocd-contest/5961b189-8414-45ba-9253-eac65069e5d7           1382647   \n",
       "156  ocd-contest/7ae8b4a5-2c36-413d-9ca5-72ce3f1e289d           1381640   \n",
       "157  ocd-contest/8c8a3fef-6fea-4031-910f-9fbd01ba1f4d           1383319   \n",
       "158  ocd-contest/3db22e03-360e-45b0-bc57-d8d798dfb510           1382395   \n",
       "159  ocd-contest/8a690633-cba0-4838-beae-8a27e058cc15           1386783   \n",
       "160  ocd-contest/1df18bd0-02a0-4d5e-96bd-6c80ff64d6f9           1376195   \n",
       "161  ocd-contest/5e7acbdb-1965-414e-b18a-7f348635344e           1377343   \n",
       "162  ocd-contest/c79212ca-2a51-459c-8ef1-2bc29c46bf39           1381268   \n",
       "163  ocd-contest/6516fe7d-c7fb-4315-8f1d-31027eff464f           1381803   \n",
       "164  ocd-contest/2a015401-92bc-47f6-bcf9-100ef333b05e           1381868   \n",
       "165  ocd-contest/9da3389c-cb25-4a94-a659-f1a09f3a9de6           1381520   \n",
       "166  ocd-contest/60ef9a20-9963-45f1-a170-e9e5b35a3295           1381724   \n",
       "167  ocd-contest/50193a28-c6b0-4105-b1b6-a82ee0805402           1372638   \n",
       "\n",
       "     ccdc_prop_id                                          prop_name  \n",
       "151            70  PROPOSITION 051 - SCHOOL BONDS. FUNDING FOR K-...  \n",
       "152            71  PROPOSITION 052 - STATE FEES ON HOSPITALS. FED...  \n",
       "153            72  PROPOSITION 053 - REVENUE BONDS. STATEWIDE VOT...  \n",
       "154            73  PROPOSITION 054 - LEGISLATURE. LEGISLATION AND...  \n",
       "155            74  PROPOSITION 055 - TAX EXTENSION TO FUND EDUCAT...  \n",
       "156            75  PROPOSITION 056 - CIGARETTE TAX TO FUND HEALTH...  \n",
       "157            76  PROPOSITION 057 - CRIMINAL SENTENCES. JUVENILE...  \n",
       "158            77  PROPOSITION 058 - SB 1174 (CHAPTER 753, STATUT...  \n",
       "159            78  PROPOSITION 059- SB 254 (CHAPTER 20, STATUTES ...  \n",
       "160            79  PROPOSITION 060- ADULT FILMS. CONDOMS. HEALTH ...  \n",
       "161            80  PROPOSITION 061- STATE PRESCRIPTION DRUG PURCH...  \n",
       "162            81  PROPOSITION 062- DEATH PENALTY. INITIATIVE STA...  \n",
       "163            82  PROPOSITION 063- FIREARMS. AMMUNITION SALES. I...  \n",
       "164            83  PROPOSITION 064- MARIJUANA LEGALIZATION. INITI...  \n",
       "165            84  PROPOSITION 065- CARRY-OUT BAGS. CHARGES. INIT...  \n",
       "166            85  PROPOSITION 066- DEATH PENALTY. PROCEDURES. IN...  \n",
       "167            86  PROPOSITION 067- REFERENDUM TO OVERTURN BAN ON...  "
      ]
     },
     "execution_count": 19,
     "metadata": {},
     "output_type": "execute_result"
    }
   ],
   "source": [
    "recent_props"
   ]
  },
  {
   "cell_type": "code",
   "execution_count": 20,
   "metadata": {
    "collapsed": false,
    "deletable": true,
    "editable": true
   },
   "outputs": [
    {
     "name": "stderr",
     "output_type": "stream",
     "text": [
      "/home/ben/.virtualenvs/california-2018-fundraising-analysis/lib/python2.7/site-packages/ipykernel/__main__.py:5: SettingWithCopyWarning: \n",
      "A value is trying to be set on a copy of a slice from a DataFrame\n",
      "\n",
      "See the caveats in the documentation: http://pandas.pydata.org/pandas-docs/stable/indexing.html#indexing-view-versus-copy\n"
     ]
    }
   ],
   "source": [
    "recent_props.drop([\n",
    "    'election_name',\n",
    "    'election_date',\n",
    "    'election_id'\n",
    "], axis=1, inplace=True)"
   ]
  },
  {
   "cell_type": "code",
   "execution_count": 21,
   "metadata": {
    "collapsed": true,
    "deletable": true,
    "editable": true
   },
   "outputs": [],
   "source": [
    "recent_props.to_csv(os.path.join(settings.data_dir, \"props-2016.csv\"), index=False)"
   ]
  }
 ],
 "metadata": {
  "kernelspec": {
   "display_name": "Python 2",
   "language": "python",
   "name": "python2"
  },
  "language_info": {
   "codemirror_mode": {
    "name": "ipython",
    "version": 2
   },
   "file_extension": ".py",
   "mimetype": "text/x-python",
   "name": "python",
   "nbconvert_exporter": "python",
   "pygments_lexer": "ipython2",
   "version": "2.7.12+"
  }
 },
 "nbformat": 4,
 "nbformat_minor": 2
}
