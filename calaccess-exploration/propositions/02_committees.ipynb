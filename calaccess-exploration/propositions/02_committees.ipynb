{
 "cells": [
  {
   "cell_type": "markdown",
   "metadata": {
    "deletable": true,
    "editable": true
   },
   "source": [
    "# Committees\n",
    "\n",
    "Extract ballot measure committees from the database, as well as their many-to-one links to propositions"
   ]
  },
  {
   "cell_type": "code",
   "execution_count": 1,
   "metadata": {
    "collapsed": true,
    "deletable": true,
    "editable": true
   },
   "outputs": [],
   "source": [
    "import os\n",
    "import settings\n",
    "import pandas as pd"
   ]
  },
  {
   "cell_type": "markdown",
   "metadata": {
    "deletable": true,
    "editable": true
   },
   "source": [
    "### Pull in all ballot measures"
   ]
  },
  {
   "cell_type": "code",
   "execution_count": 2,
   "metadata": {
    "collapsed": true,
    "deletable": true,
    "editable": true
   },
   "outputs": [],
   "source": [
    "props = pd.read_csv(os.path.join(settings.data_dir, \"props.csv\"))"
   ]
  },
  {
   "cell_type": "code",
   "execution_count": 3,
   "metadata": {
    "collapsed": false,
    "deletable": true,
    "editable": true
   },
   "outputs": [
    {
     "data": {
      "text/html": [
       "<div>\n",
       "<table border=\"1\" class=\"dataframe\">\n",
       "  <thead>\n",
       "    <tr style=\"text-align: right;\">\n",
       "      <th></th>\n",
       "      <th>election_name</th>\n",
       "      <th>election_date</th>\n",
       "      <th>election_id</th>\n",
       "      <th>ocd_prop_id</th>\n",
       "      <th>calaccess_prop_id</th>\n",
       "      <th>ccdc_prop_id</th>\n",
       "      <th>prop_name</th>\n",
       "    </tr>\n",
       "  </thead>\n",
       "  <tbody>\n",
       "    <tr>\n",
       "      <th>0</th>\n",
       "      <td>2000 PRIMARY</td>\n",
       "      <td>2000-03-07 00:00:00+00:00</td>\n",
       "      <td>ocd-event/e9cb6a1f-203e-4305-883b-17de53940dfd</td>\n",
       "      <td>ocd-contest/ae6d712e-8136-44be-848b-450ae39ccf7a</td>\n",
       "      <td>1007678</td>\n",
       "      <td>1</td>\n",
       "      <td>PROP 12 - 2000 AB 18 (CHAPTER 461, 1999). VILL...</td>\n",
       "    </tr>\n",
       "    <tr>\n",
       "      <th>1</th>\n",
       "      <td>2000 PRIMARY</td>\n",
       "      <td>2000-03-07 00:00:00+00:00</td>\n",
       "      <td>ocd-event/e9cb6a1f-203e-4305-883b-17de53940dfd</td>\n",
       "      <td>ocd-contest/81ab5b3d-4f0f-4c17-a3f8-154976b69c2c</td>\n",
       "      <td>1007679</td>\n",
       "      <td>2</td>\n",
       "      <td>PROP 13 - 2000 AB 1584 (CHAPTER 725, 1999). MA...</td>\n",
       "    </tr>\n",
       "    <tr>\n",
       "      <th>2</th>\n",
       "      <td>2000 PRIMARY</td>\n",
       "      <td>2000-03-07 00:00:00+00:00</td>\n",
       "      <td>ocd-event/e9cb6a1f-203e-4305-883b-17de53940dfd</td>\n",
       "      <td>ocd-contest/efd74f8d-f31c-442a-a943-24c58a0855c8</td>\n",
       "      <td>1007680</td>\n",
       "      <td>3</td>\n",
       "      <td>PROP 14 - 2000 SB 3 (CHAPTER 726, 1999). RAINE...</td>\n",
       "    </tr>\n",
       "    <tr>\n",
       "      <th>3</th>\n",
       "      <td>2000 PRIMARY</td>\n",
       "      <td>2000-03-07 00:00:00+00:00</td>\n",
       "      <td>ocd-event/e9cb6a1f-203e-4305-883b-17de53940dfd</td>\n",
       "      <td>ocd-contest/bd63d155-f275-438b-aef7-b8d85b713e92</td>\n",
       "      <td>1007681</td>\n",
       "      <td>4</td>\n",
       "      <td>PROP 15 - 2000 AB 1391 (CHAPTER 727, 1999). HE...</td>\n",
       "    </tr>\n",
       "    <tr>\n",
       "      <th>4</th>\n",
       "      <td>2000 PRIMARY</td>\n",
       "      <td>2000-03-07 00:00:00+00:00</td>\n",
       "      <td>ocd-event/e9cb6a1f-203e-4305-883b-17de53940dfd</td>\n",
       "      <td>ocd-contest/eb91a569-bacc-4a57-9739-4da0d2ec2e67</td>\n",
       "      <td>1007682</td>\n",
       "      <td>5</td>\n",
       "      <td>PROP 16 - 2000 SB 630 (CHAPTER 728, 1999). DUN...</td>\n",
       "    </tr>\n",
       "  </tbody>\n",
       "</table>\n",
       "</div>"
      ],
      "text/plain": [
       "  election_name              election_date  \\\n",
       "0  2000 PRIMARY  2000-03-07 00:00:00+00:00   \n",
       "1  2000 PRIMARY  2000-03-07 00:00:00+00:00   \n",
       "2  2000 PRIMARY  2000-03-07 00:00:00+00:00   \n",
       "3  2000 PRIMARY  2000-03-07 00:00:00+00:00   \n",
       "4  2000 PRIMARY  2000-03-07 00:00:00+00:00   \n",
       "\n",
       "                                      election_id  \\\n",
       "0  ocd-event/e9cb6a1f-203e-4305-883b-17de53940dfd   \n",
       "1  ocd-event/e9cb6a1f-203e-4305-883b-17de53940dfd   \n",
       "2  ocd-event/e9cb6a1f-203e-4305-883b-17de53940dfd   \n",
       "3  ocd-event/e9cb6a1f-203e-4305-883b-17de53940dfd   \n",
       "4  ocd-event/e9cb6a1f-203e-4305-883b-17de53940dfd   \n",
       "\n",
       "                                        ocd_prop_id  calaccess_prop_id  \\\n",
       "0  ocd-contest/ae6d712e-8136-44be-848b-450ae39ccf7a            1007678   \n",
       "1  ocd-contest/81ab5b3d-4f0f-4c17-a3f8-154976b69c2c            1007679   \n",
       "2  ocd-contest/efd74f8d-f31c-442a-a943-24c58a0855c8            1007680   \n",
       "3  ocd-contest/bd63d155-f275-438b-aef7-b8d85b713e92            1007681   \n",
       "4  ocd-contest/eb91a569-bacc-4a57-9739-4da0d2ec2e67            1007682   \n",
       "\n",
       "   ccdc_prop_id                                          prop_name  \n",
       "0             1  PROP 12 - 2000 AB 18 (CHAPTER 461, 1999). VILL...  \n",
       "1             2  PROP 13 - 2000 AB 1584 (CHAPTER 725, 1999). MA...  \n",
       "2             3  PROP 14 - 2000 SB 3 (CHAPTER 726, 1999). RAINE...  \n",
       "3             4  PROP 15 - 2000 AB 1391 (CHAPTER 727, 1999). HE...  \n",
       "4             5  PROP 16 - 2000 SB 630 (CHAPTER 728, 1999). DUN...  "
      ]
     },
     "execution_count": 3,
     "metadata": {},
     "output_type": "execute_result"
    }
   ],
   "source": [
    "props.sort_values(\"ccdc_prop_id\").head()"
   ]
  },
  {
   "cell_type": "markdown",
   "metadata": {
    "deletable": true,
    "editable": true
   },
   "source": [
    "### Pull in all ballot-measure committees"
   ]
  },
  {
   "cell_type": "code",
   "execution_count": 4,
   "metadata": {
    "collapsed": true,
    "deletable": true,
    "editable": true
   },
   "outputs": [],
   "source": [
    "committees = pd.read_sql_table(\"calaccess_processed_scrapedpropositioncommittee\", settings.db_connection)"
   ]
  },
  {
   "cell_type": "code",
   "execution_count": 5,
   "metadata": {
    "collapsed": true,
    "deletable": true,
    "editable": true
   },
   "outputs": [],
   "source": [
    "trimmed_committees = committees[[\n",
    "    'id',\n",
    "    'scraped_id',\n",
    "    'proposition_id',\n",
    "    'name',\n",
    "    'position'\n",
    "]].rename(columns={\n",
    "    \"id\": \"ccdc_committee_id\",\n",
    "    \"scraped_id\": \"calaccess_committee_id\",\n",
    "    \"proposition_id\": \"ccdc_prop_id\",\n",
    "    \"name\": \"committee_name\",\n",
    "    \"position\": \"committee_position\"\n",
    "})"
   ]
  },
  {
   "cell_type": "code",
   "execution_count": 6,
   "metadata": {
    "collapsed": false,
    "deletable": true,
    "editable": true
   },
   "outputs": [
    {
     "data": {
      "text/html": [
       "<div>\n",
       "<table border=\"1\" class=\"dataframe\">\n",
       "  <thead>\n",
       "    <tr style=\"text-align: right;\">\n",
       "      <th></th>\n",
       "      <th>ccdc_committee_id</th>\n",
       "      <th>calaccess_committee_id</th>\n",
       "      <th>ccdc_prop_id</th>\n",
       "      <th>committee_name</th>\n",
       "      <th>committee_position</th>\n",
       "    </tr>\n",
       "  </thead>\n",
       "  <tbody>\n",
       "    <tr>\n",
       "      <th>0</th>\n",
       "      <td>1</td>\n",
       "      <td>970866</td>\n",
       "      <td>1</td>\n",
       "      <td>NATURE CONSERVANCY ACTION FUND OF CALIFORNIA, THE</td>\n",
       "      <td>SUPPORT</td>\n",
       "    </tr>\n",
       "    <tr>\n",
       "      <th>1</th>\n",
       "      <td>2</td>\n",
       "      <td>991829</td>\n",
       "      <td>1</td>\n",
       "      <td>CALIFORNIANS FOR SAFE NEIGHBORHOOD PARKS &amp; CLE...</td>\n",
       "      <td>SUPPORT</td>\n",
       "    </tr>\n",
       "    <tr>\n",
       "      <th>2</th>\n",
       "      <td>3</td>\n",
       "      <td>991921</td>\n",
       "      <td>1</td>\n",
       "      <td>YES ON 12 AND 13, A PROJECT OF THE PLANNING AN...</td>\n",
       "      <td>SUPPORT</td>\n",
       "    </tr>\n",
       "    <tr>\n",
       "      <th>3</th>\n",
       "      <td>4</td>\n",
       "      <td>992051</td>\n",
       "      <td>1</td>\n",
       "      <td>CALIFORNIANS FOR SAFE PARKS-YES ON PROPOSITION 12</td>\n",
       "      <td>SUPPORT</td>\n",
       "    </tr>\n",
       "    <tr>\n",
       "      <th>4</th>\n",
       "      <td>5</td>\n",
       "      <td>992422</td>\n",
       "      <td>1</td>\n",
       "      <td>SIERRA CLUB CALIFORNIA, YES ON PROPOSITION 12 ...</td>\n",
       "      <td>SUPPORT</td>\n",
       "    </tr>\n",
       "  </tbody>\n",
       "</table>\n",
       "</div>"
      ],
      "text/plain": [
       "   ccdc_committee_id calaccess_committee_id  ccdc_prop_id  \\\n",
       "0                  1                 970866             1   \n",
       "1                  2                 991829             1   \n",
       "2                  3                 991921             1   \n",
       "3                  4                 992051             1   \n",
       "4                  5                 992422             1   \n",
       "\n",
       "                                      committee_name committee_position  \n",
       "0  NATURE CONSERVANCY ACTION FUND OF CALIFORNIA, THE            SUPPORT  \n",
       "1  CALIFORNIANS FOR SAFE NEIGHBORHOOD PARKS & CLE...            SUPPORT  \n",
       "2  YES ON 12 AND 13, A PROJECT OF THE PLANNING AN...            SUPPORT  \n",
       "3  CALIFORNIANS FOR SAFE PARKS-YES ON PROPOSITION 12            SUPPORT  \n",
       "4  SIERRA CLUB CALIFORNIA, YES ON PROPOSITION 12 ...            SUPPORT  "
      ]
     },
     "execution_count": 6,
     "metadata": {},
     "output_type": "execute_result"
    }
   ],
   "source": [
    "trimmed_committees.head()"
   ]
  },
  {
   "cell_type": "markdown",
   "metadata": {
    "deletable": true,
    "editable": true
   },
   "source": [
    "### Merge them together"
   ]
  },
  {
   "cell_type": "code",
   "execution_count": 7,
   "metadata": {
    "collapsed": true,
    "deletable": true,
    "editable": true
   },
   "outputs": [],
   "source": [
    "merged = pd.merge(props, trimmed_committees, how=\"inner\", on=\"ccdc_prop_id\")"
   ]
  },
  {
   "cell_type": "code",
   "execution_count": 8,
   "metadata": {
    "collapsed": false,
    "deletable": true,
    "editable": true
   },
   "outputs": [
    {
     "data": {
      "text/html": [
       "<div>\n",
       "<table border=\"1\" class=\"dataframe\">\n",
       "  <thead>\n",
       "    <tr style=\"text-align: right;\">\n",
       "      <th></th>\n",
       "      <th>election_name</th>\n",
       "      <th>election_date</th>\n",
       "      <th>election_id</th>\n",
       "      <th>ocd_prop_id</th>\n",
       "      <th>calaccess_prop_id</th>\n",
       "      <th>ccdc_prop_id</th>\n",
       "      <th>prop_name</th>\n",
       "      <th>ccdc_committee_id</th>\n",
       "      <th>calaccess_committee_id</th>\n",
       "      <th>committee_name</th>\n",
       "      <th>committee_position</th>\n",
       "    </tr>\n",
       "  </thead>\n",
       "  <tbody>\n",
       "    <tr>\n",
       "      <th>0</th>\n",
       "      <td>2000 PRIMARY</td>\n",
       "      <td>2000-03-07 00:00:00+00:00</td>\n",
       "      <td>ocd-event/e9cb6a1f-203e-4305-883b-17de53940dfd</td>\n",
       "      <td>ocd-contest/ae6d712e-8136-44be-848b-450ae39ccf7a</td>\n",
       "      <td>1007678</td>\n",
       "      <td>1</td>\n",
       "      <td>PROP 12 - 2000 AB 18 (CHAPTER 461, 1999). VILL...</td>\n",
       "      <td>1</td>\n",
       "      <td>970866</td>\n",
       "      <td>NATURE CONSERVANCY ACTION FUND OF CALIFORNIA, THE</td>\n",
       "      <td>SUPPORT</td>\n",
       "    </tr>\n",
       "    <tr>\n",
       "      <th>1</th>\n",
       "      <td>2000 PRIMARY</td>\n",
       "      <td>2000-03-07 00:00:00+00:00</td>\n",
       "      <td>ocd-event/e9cb6a1f-203e-4305-883b-17de53940dfd</td>\n",
       "      <td>ocd-contest/ae6d712e-8136-44be-848b-450ae39ccf7a</td>\n",
       "      <td>1007678</td>\n",
       "      <td>1</td>\n",
       "      <td>PROP 12 - 2000 AB 18 (CHAPTER 461, 1999). VILL...</td>\n",
       "      <td>2</td>\n",
       "      <td>991829</td>\n",
       "      <td>CALIFORNIANS FOR SAFE NEIGHBORHOOD PARKS &amp; CLE...</td>\n",
       "      <td>SUPPORT</td>\n",
       "    </tr>\n",
       "    <tr>\n",
       "      <th>2</th>\n",
       "      <td>2000 PRIMARY</td>\n",
       "      <td>2000-03-07 00:00:00+00:00</td>\n",
       "      <td>ocd-event/e9cb6a1f-203e-4305-883b-17de53940dfd</td>\n",
       "      <td>ocd-contest/ae6d712e-8136-44be-848b-450ae39ccf7a</td>\n",
       "      <td>1007678</td>\n",
       "      <td>1</td>\n",
       "      <td>PROP 12 - 2000 AB 18 (CHAPTER 461, 1999). VILL...</td>\n",
       "      <td>3</td>\n",
       "      <td>991921</td>\n",
       "      <td>YES ON 12 AND 13, A PROJECT OF THE PLANNING AN...</td>\n",
       "      <td>SUPPORT</td>\n",
       "    </tr>\n",
       "    <tr>\n",
       "      <th>3</th>\n",
       "      <td>2000 PRIMARY</td>\n",
       "      <td>2000-03-07 00:00:00+00:00</td>\n",
       "      <td>ocd-event/e9cb6a1f-203e-4305-883b-17de53940dfd</td>\n",
       "      <td>ocd-contest/ae6d712e-8136-44be-848b-450ae39ccf7a</td>\n",
       "      <td>1007678</td>\n",
       "      <td>1</td>\n",
       "      <td>PROP 12 - 2000 AB 18 (CHAPTER 461, 1999). VILL...</td>\n",
       "      <td>4</td>\n",
       "      <td>992051</td>\n",
       "      <td>CALIFORNIANS FOR SAFE PARKS-YES ON PROPOSITION 12</td>\n",
       "      <td>SUPPORT</td>\n",
       "    </tr>\n",
       "    <tr>\n",
       "      <th>4</th>\n",
       "      <td>2000 PRIMARY</td>\n",
       "      <td>2000-03-07 00:00:00+00:00</td>\n",
       "      <td>ocd-event/e9cb6a1f-203e-4305-883b-17de53940dfd</td>\n",
       "      <td>ocd-contest/ae6d712e-8136-44be-848b-450ae39ccf7a</td>\n",
       "      <td>1007678</td>\n",
       "      <td>1</td>\n",
       "      <td>PROP 12 - 2000 AB 18 (CHAPTER 461, 1999). VILL...</td>\n",
       "      <td>5</td>\n",
       "      <td>992422</td>\n",
       "      <td>SIERRA CLUB CALIFORNIA, YES ON PROPOSITION 12 ...</td>\n",
       "      <td>SUPPORT</td>\n",
       "    </tr>\n",
       "  </tbody>\n",
       "</table>\n",
       "</div>"
      ],
      "text/plain": [
       "  election_name              election_date  \\\n",
       "0  2000 PRIMARY  2000-03-07 00:00:00+00:00   \n",
       "1  2000 PRIMARY  2000-03-07 00:00:00+00:00   \n",
       "2  2000 PRIMARY  2000-03-07 00:00:00+00:00   \n",
       "3  2000 PRIMARY  2000-03-07 00:00:00+00:00   \n",
       "4  2000 PRIMARY  2000-03-07 00:00:00+00:00   \n",
       "\n",
       "                                      election_id  \\\n",
       "0  ocd-event/e9cb6a1f-203e-4305-883b-17de53940dfd   \n",
       "1  ocd-event/e9cb6a1f-203e-4305-883b-17de53940dfd   \n",
       "2  ocd-event/e9cb6a1f-203e-4305-883b-17de53940dfd   \n",
       "3  ocd-event/e9cb6a1f-203e-4305-883b-17de53940dfd   \n",
       "4  ocd-event/e9cb6a1f-203e-4305-883b-17de53940dfd   \n",
       "\n",
       "                                        ocd_prop_id  calaccess_prop_id  \\\n",
       "0  ocd-contest/ae6d712e-8136-44be-848b-450ae39ccf7a            1007678   \n",
       "1  ocd-contest/ae6d712e-8136-44be-848b-450ae39ccf7a            1007678   \n",
       "2  ocd-contest/ae6d712e-8136-44be-848b-450ae39ccf7a            1007678   \n",
       "3  ocd-contest/ae6d712e-8136-44be-848b-450ae39ccf7a            1007678   \n",
       "4  ocd-contest/ae6d712e-8136-44be-848b-450ae39ccf7a            1007678   \n",
       "\n",
       "   ccdc_prop_id                                          prop_name  \\\n",
       "0             1  PROP 12 - 2000 AB 18 (CHAPTER 461, 1999). VILL...   \n",
       "1             1  PROP 12 - 2000 AB 18 (CHAPTER 461, 1999). VILL...   \n",
       "2             1  PROP 12 - 2000 AB 18 (CHAPTER 461, 1999). VILL...   \n",
       "3             1  PROP 12 - 2000 AB 18 (CHAPTER 461, 1999). VILL...   \n",
       "4             1  PROP 12 - 2000 AB 18 (CHAPTER 461, 1999). VILL...   \n",
       "\n",
       "   ccdc_committee_id calaccess_committee_id  \\\n",
       "0                  1                 970866   \n",
       "1                  2                 991829   \n",
       "2                  3                 991921   \n",
       "3                  4                 992051   \n",
       "4                  5                 992422   \n",
       "\n",
       "                                      committee_name committee_position  \n",
       "0  NATURE CONSERVANCY ACTION FUND OF CALIFORNIA, THE            SUPPORT  \n",
       "1  CALIFORNIANS FOR SAFE NEIGHBORHOOD PARKS & CLE...            SUPPORT  \n",
       "2  YES ON 12 AND 13, A PROJECT OF THE PLANNING AN...            SUPPORT  \n",
       "3  CALIFORNIANS FOR SAFE PARKS-YES ON PROPOSITION 12            SUPPORT  \n",
       "4  SIERRA CLUB CALIFORNIA, YES ON PROPOSITION 12 ...            SUPPORT  "
      ]
     },
     "execution_count": 8,
     "metadata": {},
     "output_type": "execute_result"
    }
   ],
   "source": [
    "merged.head()"
   ]
  },
  {
   "cell_type": "code",
   "execution_count": 9,
   "metadata": {
    "collapsed": true,
    "deletable": true,
    "editable": true
   },
   "outputs": [],
   "source": [
    "merged.to_csv(os.path.join(settings.data_dir, 'committees-and-props.csv'), index=False)"
   ]
  },
  {
   "cell_type": "code",
   "execution_count": 10,
   "metadata": {
    "collapsed": true,
    "deletable": true,
    "editable": true
   },
   "outputs": [],
   "source": [
    "distinct_committees = merged.groupby([\n",
    "    'calaccess_committee_id',\n",
    "    'committee_name'\n",
    "]).size().reset_index()"
   ]
  },
  {
   "cell_type": "code",
   "execution_count": 11,
   "metadata": {
    "collapsed": true,
    "deletable": true,
    "editable": true
   },
   "outputs": [],
   "source": [
    "distinct_committees.rename(columns={0: \"prop_count\"}, inplace=True)"
   ]
  },
  {
   "cell_type": "code",
   "execution_count": 12,
   "metadata": {
    "collapsed": true,
    "deletable": true,
    "editable": true
   },
   "outputs": [],
   "source": [
    "distinct_committees.to_csv(\n",
    "    os.path.join(settings.data_dir, 'committees.csv'),\n",
    "    index=False\n",
    ")"
   ]
  },
  {
   "cell_type": "markdown",
   "metadata": {
    "deletable": true,
    "editable": true
   },
   "source": [
    "### Filter down to the most recent election"
   ]
  },
  {
   "cell_type": "code",
   "execution_count": 13,
   "metadata": {
    "collapsed": true,
    "deletable": true,
    "editable": true
   },
   "outputs": [],
   "source": [
    "recent_props = pd.read_csv(os.path.join(settings.data_dir, \"props-2016.csv\"))"
   ]
  },
  {
   "cell_type": "code",
   "execution_count": 14,
   "metadata": {
    "collapsed": true,
    "deletable": true,
    "editable": true
   },
   "outputs": [],
   "source": [
    "recent_merged = pd.merge(\n",
    "    recent_props,\n",
    "    trimmed_committees,\n",
    "    how=\"inner\",\n",
    "    on=\"ccdc_prop_id\"\n",
    ")"
   ]
  },
  {
   "cell_type": "code",
   "execution_count": 15,
   "metadata": {
    "collapsed": false,
    "deletable": true,
    "editable": true
   },
   "outputs": [
    {
     "data": {
      "text/html": [
       "<div>\n",
       "<table border=\"1\" class=\"dataframe\">\n",
       "  <thead>\n",
       "    <tr style=\"text-align: right;\">\n",
       "      <th></th>\n",
       "      <th>ocd_prop_id</th>\n",
       "      <th>calaccess_prop_id</th>\n",
       "      <th>ccdc_prop_id</th>\n",
       "      <th>prop_name</th>\n",
       "      <th>ccdc_committee_id</th>\n",
       "      <th>calaccess_committee_id</th>\n",
       "      <th>committee_name</th>\n",
       "      <th>committee_position</th>\n",
       "    </tr>\n",
       "  </thead>\n",
       "  <tbody>\n",
       "    <tr>\n",
       "      <th>0</th>\n",
       "      <td>ocd-contest/08324a50-6e16-4a9a-8f66-ea1fa4dea70d</td>\n",
       "      <td>1376258</td>\n",
       "      <td>70</td>\n",
       "      <td>PROPOSITION 051 - SCHOOL BONDS. FUNDING FOR K-...</td>\n",
       "      <td>382</td>\n",
       "      <td>1374469</td>\n",
       "      <td>YES ON PROPOSITION 51 - CALIFORNIANS FOR QUALI...</td>\n",
       "      <td>SUPPORT</td>\n",
       "    </tr>\n",
       "    <tr>\n",
       "      <th>1</th>\n",
       "      <td>ocd-contest/08324a50-6e16-4a9a-8f66-ea1fa4dea70d</td>\n",
       "      <td>1376258</td>\n",
       "      <td>70</td>\n",
       "      <td>PROPOSITION 051 - SCHOOL BONDS. FUNDING FOR K-...</td>\n",
       "      <td>383</td>\n",
       "      <td>1220380</td>\n",
       "      <td>COMMUNITY COLLEGE FACILITY COALITION ISSUES CO...</td>\n",
       "      <td>SUPPORT</td>\n",
       "    </tr>\n",
       "    <tr>\n",
       "      <th>2</th>\n",
       "      <td>ocd-contest/08324a50-6e16-4a9a-8f66-ea1fa4dea70d</td>\n",
       "      <td>1376258</td>\n",
       "      <td>70</td>\n",
       "      <td>PROPOSITION 051 - SCHOOL BONDS. FUNDING FOR K-...</td>\n",
       "      <td>384</td>\n",
       "      <td>1282321</td>\n",
       "      <td>TORLAKSON'S INVEST IN CALIFORNIA A BALLOT MEAS...</td>\n",
       "      <td>SUPPORT</td>\n",
       "    </tr>\n",
       "    <tr>\n",
       "      <th>3</th>\n",
       "      <td>ocd-contest/08324a50-6e16-4a9a-8f66-ea1fa4dea70d</td>\n",
       "      <td>1376258</td>\n",
       "      <td>70</td>\n",
       "      <td>PROPOSITION 051 - SCHOOL BONDS. FUNDING FOR K-...</td>\n",
       "      <td>385</td>\n",
       "      <td>1382843</td>\n",
       "      <td>CALIFORNIA TAXPAYERS AND EDUCATORS OPPOSED TO ...</td>\n",
       "      <td>OPPOSE</td>\n",
       "    </tr>\n",
       "    <tr>\n",
       "      <th>4</th>\n",
       "      <td>ocd-contest/2d4de540-adcb-4c2e-a58b-13f43f60fff1</td>\n",
       "      <td>1362198</td>\n",
       "      <td>71</td>\n",
       "      <td>PROPOSITION 052 - STATE FEES ON HOSPITALS. FED...</td>\n",
       "      <td>386</td>\n",
       "      <td>1362973</td>\n",
       "      <td>YES ON PROPOSITION 52 - A COALITION OF CALIFOR...</td>\n",
       "      <td>SUPPORT</td>\n",
       "    </tr>\n",
       "  </tbody>\n",
       "</table>\n",
       "</div>"
      ],
      "text/plain": [
       "                                        ocd_prop_id  calaccess_prop_id  \\\n",
       "0  ocd-contest/08324a50-6e16-4a9a-8f66-ea1fa4dea70d            1376258   \n",
       "1  ocd-contest/08324a50-6e16-4a9a-8f66-ea1fa4dea70d            1376258   \n",
       "2  ocd-contest/08324a50-6e16-4a9a-8f66-ea1fa4dea70d            1376258   \n",
       "3  ocd-contest/08324a50-6e16-4a9a-8f66-ea1fa4dea70d            1376258   \n",
       "4  ocd-contest/2d4de540-adcb-4c2e-a58b-13f43f60fff1            1362198   \n",
       "\n",
       "   ccdc_prop_id                                          prop_name  \\\n",
       "0            70  PROPOSITION 051 - SCHOOL BONDS. FUNDING FOR K-...   \n",
       "1            70  PROPOSITION 051 - SCHOOL BONDS. FUNDING FOR K-...   \n",
       "2            70  PROPOSITION 051 - SCHOOL BONDS. FUNDING FOR K-...   \n",
       "3            70  PROPOSITION 051 - SCHOOL BONDS. FUNDING FOR K-...   \n",
       "4            71  PROPOSITION 052 - STATE FEES ON HOSPITALS. FED...   \n",
       "\n",
       "   ccdc_committee_id calaccess_committee_id  \\\n",
       "0                382                1374469   \n",
       "1                383                1220380   \n",
       "2                384                1282321   \n",
       "3                385                1382843   \n",
       "4                386                1362973   \n",
       "\n",
       "                                      committee_name committee_position  \n",
       "0  YES ON PROPOSITION 51 - CALIFORNIANS FOR QUALI...            SUPPORT  \n",
       "1  COMMUNITY COLLEGE FACILITY COALITION ISSUES CO...            SUPPORT  \n",
       "2  TORLAKSON'S INVEST IN CALIFORNIA A BALLOT MEAS...            SUPPORT  \n",
       "3  CALIFORNIA TAXPAYERS AND EDUCATORS OPPOSED TO ...             OPPOSE  \n",
       "4  YES ON PROPOSITION 52 - A COALITION OF CALIFOR...            SUPPORT  "
      ]
     },
     "execution_count": 15,
     "metadata": {},
     "output_type": "execute_result"
    }
   ],
   "source": [
    "recent_merged.head()"
   ]
  },
  {
   "cell_type": "code",
   "execution_count": 16,
   "metadata": {
    "collapsed": true,
    "deletable": true,
    "editable": true
   },
   "outputs": [],
   "source": [
    "recent_merged.to_csv(\n",
    "    os.path.join(settings.data_dir, 'committees-and-props-2016.csv'),\n",
    "    index=False\n",
    ")"
   ]
  },
  {
   "cell_type": "code",
   "execution_count": 17,
   "metadata": {
    "collapsed": true,
    "deletable": true,
    "editable": true
   },
   "outputs": [],
   "source": [
    "recent_distinct_committees = recent_merged.groupby([\n",
    "    'calaccess_committee_id',\n",
    "    'committee_name'\n",
    "]).size().reset_index()"
   ]
  },
  {
   "cell_type": "code",
   "execution_count": 18,
   "metadata": {
    "collapsed": true,
    "deletable": true,
    "editable": true
   },
   "outputs": [],
   "source": [
    "recent_distinct_committees.rename(columns={0: \"prop_count\"}, inplace=True)"
   ]
  },
  {
   "cell_type": "code",
   "execution_count": 19,
   "metadata": {
    "collapsed": false,
    "deletable": true,
    "editable": true
   },
   "outputs": [
    {
     "data": {
      "text/html": [
       "<div>\n",
       "<table border=\"1\" class=\"dataframe\">\n",
       "  <thead>\n",
       "    <tr style=\"text-align: right;\">\n",
       "      <th></th>\n",
       "      <th>calaccess_committee_id</th>\n",
       "      <th>committee_name</th>\n",
       "      <th>prop_count</th>\n",
       "    </tr>\n",
       "  </thead>\n",
       "  <tbody>\n",
       "    <tr>\n",
       "      <th>0</th>\n",
       "      <td>1220380</td>\n",
       "      <td>COMMUNITY COLLEGE FACILITY COALITION ISSUES CO...</td>\n",
       "      <td>1</td>\n",
       "    </tr>\n",
       "    <tr>\n",
       "      <th>1</th>\n",
       "      <td>1282321</td>\n",
       "      <td>TORLAKSON'S INVEST IN CALIFORNIA A BALLOT MEAS...</td>\n",
       "      <td>1</td>\n",
       "    </tr>\n",
       "    <tr>\n",
       "      <th>2</th>\n",
       "      <td>1302403</td>\n",
       "      <td>CALIFORNIA CORRECTIONAL PEACE OFFICERS ASSOCIA...</td>\n",
       "      <td>2</td>\n",
       "    </tr>\n",
       "    <tr>\n",
       "      <th>3</th>\n",
       "      <td>1317554</td>\n",
       "      <td>SAN FRANCISCO POLICE OFFICERS ASSOCIATION ISSU...</td>\n",
       "      <td>2</td>\n",
       "    </tr>\n",
       "    <tr>\n",
       "      <th>4</th>\n",
       "      <td>1329332</td>\n",
       "      <td>SAVE THE BAG BAN, YES ON 67, SPONSORED BY ENVI...</td>\n",
       "      <td>1</td>\n",
       "    </tr>\n",
       "  </tbody>\n",
       "</table>\n",
       "</div>"
      ],
      "text/plain": [
       "  calaccess_committee_id                                     committee_name  \\\n",
       "0                1220380  COMMUNITY COLLEGE FACILITY COALITION ISSUES CO...   \n",
       "1                1282321  TORLAKSON'S INVEST IN CALIFORNIA A BALLOT MEAS...   \n",
       "2                1302403  CALIFORNIA CORRECTIONAL PEACE OFFICERS ASSOCIA...   \n",
       "3                1317554  SAN FRANCISCO POLICE OFFICERS ASSOCIATION ISSU...   \n",
       "4                1329332  SAVE THE BAG BAN, YES ON 67, SPONSORED BY ENVI...   \n",
       "\n",
       "   prop_count  \n",
       "0           1  \n",
       "1           1  \n",
       "2           2  \n",
       "3           2  \n",
       "4           1  "
      ]
     },
     "execution_count": 19,
     "metadata": {},
     "output_type": "execute_result"
    }
   ],
   "source": [
    "recent_distinct_committees.head()"
   ]
  },
  {
   "cell_type": "code",
   "execution_count": 20,
   "metadata": {
    "collapsed": true,
    "deletable": true,
    "editable": true
   },
   "outputs": [],
   "source": [
    "recent_distinct_committees.to_csv(\n",
    "    os.path.join(settings.data_dir, 'committees-2016.csv'),\n",
    "    index=False\n",
    ")"
   ]
  }
 ],
 "metadata": {
  "kernelspec": {
   "display_name": "Python 2",
   "language": "python",
   "name": "python2"
  },
  "language_info": {
   "codemirror_mode": {
    "name": "ipython",
    "version": 2
   },
   "file_extension": ".py",
   "mimetype": "text/x-python",
   "name": "python",
   "nbconvert_exporter": "python",
   "pygments_lexer": "ipython2",
   "version": "2.7.12"
  }
 },
 "nbformat": 4,
 "nbformat_minor": 2
}
