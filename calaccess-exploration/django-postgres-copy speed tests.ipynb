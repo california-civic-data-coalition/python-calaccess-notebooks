{
 "cells": [
  {
   "cell_type": "markdown",
   "metadata": {},
   "source": [
    "# django-postgre-copy speed tests\n",
    "\n",
    "By Ben Welsh\n",
    "\n",
    "This notebook tests the effect of dropping database constraints and indexes prior to loading a large data file.\n",
    "\n",
    "The official PostgreSQL documentation suggests it lead to significant gains.\n",
    "\n",
    "We will test this claim by dropping constraints and indexes prior to loading data from the California Civic Data Coalition via the django-postgres-copy wrapper on the database's COPY command."
   ]
  },
  {
   "cell_type": "markdown",
   "metadata": {},
   "source": [
    "### Connect California Civic Data Coalition Django project"
   ]
  },
  {
   "cell_type": "markdown",
   "metadata": {},
   "source": [
    "Import Python tools"
   ]
  },
  {
   "cell_type": "code",
   "execution_count": 1,
   "metadata": {
    "collapsed": true
   },
   "outputs": [],
   "source": [
    "import os\n",
    "import sys"
   ]
  },
  {
   "cell_type": "code",
   "execution_count": 2,
   "metadata": {
    "collapsed": true
   },
   "outputs": [],
   "source": [
    "import warnings\n",
    "warnings.simplefilter(\"ignore\")"
   ]
  },
  {
   "cell_type": "markdown",
   "metadata": {},
   "source": [
    "Add the Django settings module to the environment."
   ]
  },
  {
   "cell_type": "code",
   "execution_count": 3,
   "metadata": {},
   "outputs": [
    {
     "data": {
      "text/plain": [
       "'settings'"
      ]
     },
     "execution_count": 3,
     "metadata": {},
     "output_type": "execute_result"
    }
   ],
   "source": [
    "sys.path.insert(0, '/home/palewire/.virtualenvs/django-calaccess-raw-data/src/')\n",
    "sys.path.insert(0, '/home/palewire/.virtualenvs/django-calaccess-raw-data/lib/python2.7/')\n",
    "sys.path.insert(0, '/home/palewire/.virtualenvs/django-calaccess-raw-data/lib/python2.7/site-packages/')\n",
    "sys.path.insert(0, '/home/palewire/Code/django-calaccess-raw-data/')\n",
    "sys.path.insert(0, '/home/palewire/Code/django-calaccess-raw-data/example/')\n",
    "sys.path.insert(0, '/home/palewire/Code/django-postgres-copy/')\n",
    "os.environ.setdefault(\"DJANGO_SETTINGS_MODULE\", \"settings\")"
   ]
  },
  {
   "cell_type": "markdown",
   "metadata": {},
   "source": [
    "Verify we have the correct version of django-postgres-copy"
   ]
  },
  {
   "cell_type": "code",
   "execution_count": 4,
   "metadata": {
    "collapsed": true
   },
   "outputs": [],
   "source": [
    "import postgres_copy"
   ]
  },
  {
   "cell_type": "code",
   "execution_count": 5,
   "metadata": {},
   "outputs": [
    {
     "data": {
      "text/plain": [
       "'2.1.0'"
      ]
     },
     "execution_count": 5,
     "metadata": {},
     "output_type": "execute_result"
    }
   ],
   "source": [
    "postgres_copy.__version__"
   ]
  },
  {
   "cell_type": "markdown",
   "metadata": {},
   "source": [
    "Boot the Django project"
   ]
  },
  {
   "cell_type": "code",
   "execution_count": 6,
   "metadata": {
    "collapsed": true
   },
   "outputs": [],
   "source": [
    "%%capture\n",
    "import django\n",
    "django.setup()"
   ]
  },
  {
   "cell_type": "markdown",
   "metadata": {},
   "source": [
    "### Prep for speed tests"
   ]
  },
  {
   "cell_type": "markdown",
   "metadata": {},
   "source": [
    "Import database models"
   ]
  },
  {
   "cell_type": "code",
   "execution_count": 7,
   "metadata": {
    "collapsed": true
   },
   "outputs": [],
   "source": [
    "from calaccess_raw import models "
   ]
  },
  {
   "cell_type": "markdown",
   "metadata": {},
   "source": [
    "Prep a couple functions we'll use during loading."
   ]
  },
  {
   "cell_type": "code",
   "execution_count": 8,
   "metadata": {
    "collapsed": true
   },
   "outputs": [],
   "source": [
    "def model_mapping(model):\n",
    "     return dict(\n",
    "        (f.name, f.db_column) for f in model._meta.fields\n",
    "        if f.db_column\n",
    "    )"
   ]
  },
  {
   "cell_type": "code",
   "execution_count": 9,
   "metadata": {
    "collapsed": true
   },
   "outputs": [],
   "source": [
    "def truncate(model):\n",
    "    from django.db import connection\n",
    "    cursor = connection.cursor()\n",
    "    cursor.execute('TRUNCATE TABLE \"{}\";'.format(model._meta.db_table))"
   ]
  },
  {
   "cell_type": "code",
   "execution_count": 10,
   "metadata": {
    "collapsed": true
   },
   "outputs": [],
   "source": [
    "def speed_test(model, csv, drop=True):\n",
    "    mapping = model_mapping(model)\n",
    "    model.objects.from_csv(csv, mapping, drop_constraints=drop, drop_indexes=drop)"
   ]
  },
  {
   "cell_type": "markdown",
   "metadata": {},
   "source": [
    "### Test a small file"
   ]
  },
  {
   "cell_type": "markdown",
   "metadata": {},
   "source": [
    "Show how many rows are in the file we'll be loading"
   ]
  },
  {
   "cell_type": "code",
   "execution_count": 11,
   "metadata": {},
   "outputs": [
    {
     "name": "stdout",
     "output_type": "stream",
     "text": [
      "52025 ./cvr_registration_cd.csv\r\n"
     ]
    }
   ],
   "source": [
    "!wc -l ./cvr_registration_cd.csv"
   ]
  },
  {
   "cell_type": "markdown",
   "metadata": {},
   "source": [
    "Test how long it takes to load data when the constraints stay"
   ]
  },
  {
   "cell_type": "code",
   "execution_count": 12,
   "metadata": {},
   "outputs": [
    {
     "name": "stdout",
     "output_type": "stream",
     "text": [
      "1 loop, best of 3: 3.13 s per loop\n"
     ]
    }
   ],
   "source": [
    "%%timeit -r 3 truncate(models.CvrRegistrationCd)\n",
    "speed_test(models.CvrRegistrationCd, \"./cvr_registration_cd.csv\", drop=False)"
   ]
  },
  {
   "cell_type": "markdown",
   "metadata": {},
   "source": [
    "Test how long it takes to load data when constraints are dropped"
   ]
  },
  {
   "cell_type": "code",
   "execution_count": 13,
   "metadata": {},
   "outputs": [
    {
     "name": "stdout",
     "output_type": "stream",
     "text": [
      "1 loop, best of 3: 2.61 s per loop\n"
     ]
    }
   ],
   "source": [
    "%%timeit -r 3 truncate(models.CvrRegistrationCd)\n",
    "speed_test(models.CvrRegistrationCd, \"./cvr_registration_cd.csv\", drop=True)"
   ]
  },
  {
   "cell_type": "markdown",
   "metadata": {},
   "source": [
    "### Test a large file"
   ]
  },
  {
   "cell_type": "code",
   "execution_count": 14,
   "metadata": {},
   "outputs": [
    {
     "name": "stdout",
     "output_type": "stream",
     "text": [
      "10342161 ./rcpt_cd.csv\r\n"
     ]
    }
   ],
   "source": [
    "!wc -l ./rcpt_cd.csv"
   ]
  },
  {
   "cell_type": "code",
   "execution_count": 15,
   "metadata": {},
   "outputs": [
    {
     "name": "stdout",
     "output_type": "stream",
     "text": [
      "1 loop, best of 3: 7min 32s per loop\n"
     ]
    }
   ],
   "source": [
    "%%timeit -r 3 truncate(models.RcptCd)\n",
    "speed_test(models.RcptCd, './rcpt_cd.csv', drop=False)"
   ]
  },
  {
   "cell_type": "code",
   "execution_count": 17,
   "metadata": {},
   "outputs": [
    {
     "name": "stdout",
     "output_type": "stream",
     "text": [
      "1 loop, best of 3: 5min 34s per loop\n"
     ]
    }
   ],
   "source": [
    "%%timeit -r 3 truncate(models.RcptCd)\n",
    "speed_test(models.RcptCd, './rcpt_cd.csv', drop=True)"
   ]
  }
 ],
 "metadata": {
  "kernelspec": {
   "display_name": "Python 2",
   "language": "python",
   "name": "python2"
  },
  "language_info": {
   "codemirror_mode": {
    "name": "ipython",
    "version": 2
   },
   "file_extension": ".py",
   "mimetype": "text/x-python",
   "name": "python",
   "nbconvert_exporter": "python",
   "pygments_lexer": "ipython2",
   "version": "2.7.14"
  }
 },
 "nbformat": 4,
 "nbformat_minor": 2
}
