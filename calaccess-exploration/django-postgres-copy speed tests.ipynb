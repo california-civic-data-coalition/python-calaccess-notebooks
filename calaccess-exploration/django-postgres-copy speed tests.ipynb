{
 "cells": [
  {
   "cell_type": "markdown",
   "metadata": {},
   "source": [
    "# django-postgre-copy speed tests\n",
    "\n",
    "By Ben Welsh\n",
    "\n",
    "This notebook tests the effect of dropping database constraints and indexes prior to loading a large data file.\n",
    "\n",
    "The official PostgreSQL documentation suggests it lead to significant gains.\n",
    "\n",
    "We will test this claim by dropping constraints and indexes prior to loading data from the California Civic Data Coalition via the django-postgres-copy wrapper on the database's COPY command."
   ]
  },
  {
   "cell_type": "markdown",
   "metadata": {},
   "source": [
    "### Connect California Civic Data Coalition Django project"
   ]
  },
  {
   "cell_type": "markdown",
   "metadata": {},
   "source": [
    "Import Python tools"
   ]
  },
  {
   "cell_type": "code",
   "execution_count": 98,
   "metadata": {
    "collapsed": true
   },
   "outputs": [],
   "source": [
    "import os\n",
    "import sys\n",
    "import csv\n",
    "import calculate\n",
    "import scipy as sp\n",
    "import pandas as pd\n",
    "import scipy.optimize\n",
    "from pprint import pprint\n",
    "import matplotlib as mpl\n",
    "from matplotlib import rcParams\n",
    "rcParams['font.family'] = 'monospace'\n",
    "import matplotlib.pyplot as plt\n",
    "import matplotlib.ticker as mtick\n",
    "import matplotlib.patches as patches"
   ]
  },
  {
   "cell_type": "code",
   "execution_count": 2,
   "metadata": {
    "collapsed": true
   },
   "outputs": [],
   "source": [
    "import warnings\n",
    "warnings.simplefilter(\"ignore\")"
   ]
  },
  {
   "cell_type": "code",
   "execution_count": 3,
   "metadata": {
    "collapsed": true
   },
   "outputs": [],
   "source": [
    "import logging\n",
    "logger = logging.getLogger('postgres_copy')\n",
    "logger.addHandler(logging.NullHandler())\n",
    "logger.propagate = False"
   ]
  },
  {
   "cell_type": "code",
   "execution_count": 38,
   "metadata": {
    "collapsed": true
   },
   "outputs": [],
   "source": [
    "mpl.style.use('seaborn-paper')"
   ]
  },
  {
   "cell_type": "code",
   "execution_count": 4,
   "metadata": {
    "collapsed": true
   },
   "outputs": [],
   "source": [
    "%matplotlib inline"
   ]
  },
  {
   "cell_type": "markdown",
   "metadata": {},
   "source": [
    "Add the Django settings module to the environment."
   ]
  },
  {
   "cell_type": "code",
   "execution_count": 4,
   "metadata": {},
   "outputs": [
    {
     "data": {
      "text/plain": [
       "'settings'"
      ]
     },
     "execution_count": 4,
     "metadata": {},
     "output_type": "execute_result"
    }
   ],
   "source": [
    "sys.path.insert(0, '/home/palewire/.virtualenvs/django-calaccess-raw-data/src/')\n",
    "sys.path.insert(0, '/home/palewire/.virtualenvs/django-calaccess-raw-data/lib/python2.7/')\n",
    "sys.path.insert(0, '/home/palewire/.virtualenvs/django-calaccess-raw-data/lib/python2.7/site-packages/')\n",
    "sys.path.insert(0, '/home/palewire/Code/django-calaccess-raw-data/')\n",
    "sys.path.insert(0, '/home/palewire/Code/django-calaccess-raw-data/example/')\n",
    "sys.path.insert(0, '/home/palewire/Code/django-postgres-copy/')\n",
    "os.environ.setdefault(\"DJANGO_SETTINGS_MODULE\", \"settings\")"
   ]
  },
  {
   "cell_type": "markdown",
   "metadata": {},
   "source": [
    "Verify we have the correct version of django-postgres-copy"
   ]
  },
  {
   "cell_type": "code",
   "execution_count": 5,
   "metadata": {
    "collapsed": true
   },
   "outputs": [],
   "source": [
    "import postgres_copy"
   ]
  },
  {
   "cell_type": "code",
   "execution_count": 6,
   "metadata": {},
   "outputs": [
    {
     "data": {
      "text/plain": [
       "'2.1.0'"
      ]
     },
     "execution_count": 6,
     "metadata": {},
     "output_type": "execute_result"
    }
   ],
   "source": [
    "postgres_copy.__version__"
   ]
  },
  {
   "cell_type": "markdown",
   "metadata": {},
   "source": [
    "Boot the Django project"
   ]
  },
  {
   "cell_type": "code",
   "execution_count": 7,
   "metadata": {
    "collapsed": true
   },
   "outputs": [],
   "source": [
    "%%capture\n",
    "import django\n",
    "django.setup()"
   ]
  },
  {
   "cell_type": "markdown",
   "metadata": {},
   "source": [
    "### Prep for speed tests"
   ]
  },
  {
   "cell_type": "markdown",
   "metadata": {},
   "source": [
    "Download raw data we will test"
   ]
  },
  {
   "cell_type": "code",
   "execution_count": 8,
   "metadata": {},
   "outputs": [
    {
     "name": "stdout",
     "output_type": "stream",
     "text": [
      "  % Total    % Received % Xferd  Average Speed   Time    Time     Time  Current\n",
      "                                 Dload  Upload   Total   Spent    Left  Speed\n",
      "100  842M  100  842M    0     0  11.2M      0  0:01:15  0:01:15 --:--:-- 11.1M\n"
     ]
    }
   ],
   "source": [
    "!curl -O https://calaccess.download/latest/raw.zip"
   ]
  },
  {
   "cell_type": "code",
   "execution_count": 11,
   "metadata": {
    "collapsed": true
   },
   "outputs": [],
   "source": [
    "!rm *.csv"
   ]
  },
  {
   "cell_type": "code",
   "execution_count": 12,
   "metadata": {
    "scrolled": true
   },
   "outputs": [
    {
     "name": "stdout",
     "output_type": "stream",
     "text": [
      "Archive:  raw.zip\n",
      "  inflating: lookup_codes_cd.csv     \n",
      "  inflating: filer_type_periods_cd.csv  \n",
      "  inflating: filer_ethics_class_cd.csv  \n",
      "  inflating: hdr_cd.csv              \n",
      "  inflating: cvr_campaign_disclosure_cd.csv  \n",
      "  inflating: filings_cd.csv          \n",
      "  inflating: filing_period_cd.csv    \n",
      "  inflating: lobbyist_firm2_cd.csv   \n",
      "  inflating: lobbyist_firm_employer1_cd.csv  \n",
      "  inflating: lobbyist_employer_firms2_cd.csv  \n",
      "  inflating: filer_filings_cd.csv    \n",
      "  inflating: lccm_cd.csv             \n",
      "  inflating: s498_cd.csv             \n",
      "  inflating: loan_cd.csv             \n",
      "  inflating: lobbyist_firm_history_cd.csv  \n",
      "  inflating: filers_cd.csv           \n",
      "  inflating: lobbyist_employer_history_cd.csv  \n",
      "  inflating: cvr_registration_cd.csv  \n",
      "  inflating: s497_cd.csv             \n",
      "  inflating: filername_cd.csv        \n",
      "  inflating: group_types_cd.csv      \n",
      "  inflating: header_cd.csv           \n",
      "  inflating: filer_types_cd.csv      \n",
      "  inflating: filer_to_filer_type_cd.csv  \n",
      "  inflating: expn_cd.csv             \n",
      "  inflating: efs_filing_log_cd.csv   \n",
      "  inflating: f495p2_cd.csv           \n",
      "  inflating: lobbying_chg_log_cd.csv  \n",
      "  inflating: filer_interests_cd.csv  \n",
      "  inflating: image_links_cd.csv      \n",
      "  inflating: cvr_e530_cd.csv         \n",
      "  inflating: lobbyist_contributions3_cd.csv  \n",
      "  inflating: filer_links_cd.csv      \n",
      "  inflating: filer_status_types_cd.csv  \n",
      "  inflating: cvr_f470_cd.csv         \n",
      "  inflating: lpay_cd.csv             \n",
      "  inflating: received_filings_cd.csv  \n",
      "  inflating: splt_cd.csv             \n",
      "  inflating: lobbyist_contributions1_cd.csv  \n",
      "  inflating: latt_cd.csv             \n",
      "  inflating: lobbyist_firm_employer2_cd.csv  \n",
      "  inflating: lobbyist_employer2_cd.csv  \n",
      "  inflating: lobbyist_emp_lobbyist1_cd.csv  \n",
      "  inflating: lobbyist_firm_lobbyist1_cd.csv  \n",
      "  inflating: ballot_measures_cd.csv  \n",
      "  inflating: cvr2_campaign_disclosure_cd.csv  \n",
      "  inflating: f690p2_cd.csv           \n",
      "  inflating: s496_cd.csv             \n",
      "  inflating: names_cd.csv            \n",
      "  inflating: cvr_lobby_disclosure_cd.csv  \n",
      "  inflating: f501_502_cd.csv         \n",
      "  inflating: rcpt_cd.csv             \n",
      "  inflating: lexp_cd.csv             \n",
      "  inflating: filer_acronyms_cd.csv   \n",
      "  inflating: cvr3_verification_info_cd.csv  \n",
      "  inflating: lobbyist_employer1_cd.csv  \n",
      "  inflating: lobbyist_employer_firms1_cd.csv  \n",
      "  inflating: loth_cd.csv             \n",
      "  inflating: debt_cd.csv             \n",
      "  inflating: cvr_so_cd.csv           \n",
      "  inflating: lemp_cd.csv             \n",
      "  inflating: cvr2_lobby_disclosure_cd.csv  \n",
      "  inflating: text_memo_cd.csv        \n",
      "  inflating: cvr2_so_cd.csv          \n",
      "  inflating: lobbyist_contributions2_cd.csv  \n",
      "  inflating: filer_xref_cd.csv       \n",
      "  inflating: lobbyist_firm3_cd.csv   \n",
      "  inflating: lobbyist_emp_lobbyist2_cd.csv  \n",
      "  inflating: legislative_sessions_cd.csv  \n",
      "  inflating: reports_cd.csv          \n",
      "  inflating: lobbyist_firm1_cd.csv   \n",
      "  inflating: lobbyist_firm_lobbyist2_cd.csv  \n",
      "  inflating: s401_cd.csv             \n",
      "  inflating: lobby_amendments_cd.csv  \n",
      "  inflating: cvr2_registration_cd.csv  \n",
      "  inflating: smry_cd.csv             \n",
      "  inflating: filer_address_cd.csv    \n",
      "  inflating: address_cd.csv          \n",
      "  inflating: lobbyist_employer3_cd.csv  \n",
      "  inflating: acronyms_cd.csv         \n",
      "  inflating: names_cd.errors.csv     \n",
      "  inflating: lemp_cd.errors.csv      \n",
      "  inflating: expn_cd.errors.csv      \n",
      "  inflating: lccm_cd.errors.csv      \n",
      "  inflating: cvr_lobby_disclosure_cd.errors.csv  \n",
      "  inflating: cvr_campaign_disclosure_cd.errors.csv  \n",
      "  inflating: cvr2_campaign_disclosure_cd.errors.csv  \n",
      "  inflating: lexp_cd.errors.csv      \n",
      "  inflating: debt_cd.errors.csv      \n",
      "  inflating: s497_cd.errors.csv      \n",
      "  inflating: s496_cd.errors.csv      \n",
      "  inflating: s401_cd.errors.csv      \n",
      "  inflating: loan_cd.errors.csv      \n",
      "  inflating: s498_cd.errors.csv      \n",
      "  inflating: rcpt_cd.errors.csv      \n",
      "  inflating: lpay_cd.errors.csv      \n",
      "  inflating: filername_cd.errors.csv  \n",
      "  inflating: cvr_registration_cd.errors.csv  \n",
      "  inflating: cvr2_registration_cd.errors.csv  \n",
      "  inflating: text_memo_cd.errors.csv  \n"
     ]
    }
   ],
   "source": [
    "!unzip raw.zip"
   ]
  },
  {
   "cell_type": "markdown",
   "metadata": {},
   "source": [
    "Import database models"
   ]
  },
  {
   "cell_type": "code",
   "execution_count": 29,
   "metadata": {
    "collapsed": true
   },
   "outputs": [],
   "source": [
    "import calaccess_raw\n",
    "from calaccess_raw import models "
   ]
  },
  {
   "cell_type": "code",
   "execution_count": 30,
   "metadata": {
    "collapsed": true
   },
   "outputs": [],
   "source": [
    "def truncate(model):\n",
    "    from django.db import connection\n",
    "    cursor = connection.cursor()\n",
    "    cursor.execute('TRUNCATE TABLE \"{}\";'.format(model._meta.db_table))"
   ]
  },
  {
   "cell_type": "code",
   "execution_count": 37,
   "metadata": {
    "scrolled": true
   },
   "outputs": [
    {
     "name": "stdout",
     "output_type": "stream",
     "text": [
      "Testing CvrSoCd\n",
      "{'constrained_fields': 0,\n",
      " 'dont_drop': 0.849437952041626,\n",
      " 'drop': 0.8597939014434814,\n",
      " 'indexed_fields': 4,\n",
      " 'model_name': 'CvrSoCd',\n",
      " 'rows': 17229}\n",
      "Testing Cvr2SoCd\n",
      "{'constrained_fields': 0,\n",
      " 'dont_drop': 1.2699148654937744,\n",
      " 'drop': 0.9175539016723633,\n",
      " 'indexed_fields': 4,\n",
      " 'model_name': 'Cvr2SoCd',\n",
      " 'rows': 44246}\n",
      "Testing CvrCampaignDisclosureCd\n",
      "{'constrained_fields': 0,\n",
      " 'dont_drop': 22.158819913864136,\n",
      " 'drop': 17.549975872039795,\n",
      " 'indexed_fields': 4,\n",
      " 'model_name': 'CvrCampaignDisclosureCd',\n",
      " 'rows': 404280}\n",
      "Testing Cvr2CampaignDisclosureCd\n",
      "{'constrained_fields': 0,\n",
      " 'dont_drop': 3.251678943634033,\n",
      " 'drop': 2.517705202102661,\n",
      " 'indexed_fields': 4,\n",
      " 'model_name': 'Cvr2CampaignDisclosureCd',\n",
      " 'rows': 110189}\n",
      "Testing Cvr3VerificationInfoCd\n",
      "{'constrained_fields': 0,\n",
      " 'dont_drop': 5.926052093505859,\n",
      " 'drop': 3.4498190879821777,\n",
      " 'indexed_fields': 5,\n",
      " 'model_name': 'Cvr3VerificationInfoCd',\n",
      " 'rows': 252547}\n",
      "Testing DebtCd\n",
      "{'constrained_fields': 0,\n",
      " 'dont_drop': 13.292366027832031,\n",
      " 'drop': 9.297908067703247,\n",
      " 'indexed_fields': 4,\n",
      " 'model_name': 'DebtCd',\n",
      " 'rows': 465751}\n",
      "Testing ExpnCd\n",
      "{'constrained_fields': 0,\n",
      " 'dont_drop': 216.7487211227417,\n",
      " 'drop': 161.85180497169495,\n",
      " 'indexed_fields': 4,\n",
      " 'model_name': 'ExpnCd',\n",
      " 'rows': 5909782}\n",
      "Testing LoanCd\n",
      "{'constrained_fields': 0,\n",
      " 'dont_drop': 2.696699857711792,\n",
      " 'drop': 2.210232973098755,\n",
      " 'indexed_fields': 4,\n",
      " 'model_name': 'LoanCd',\n",
      " 'rows': 74212}\n",
      "Testing RcptCd\n",
      "{'constrained_fields': 0,\n",
      " 'dont_drop': 453.5514600276947,\n",
      " 'drop': 336.93066215515137,\n",
      " 'indexed_fields': 5,\n",
      " 'model_name': 'RcptCd',\n",
      " 'rows': 10353681}\n",
      "Testing S401Cd\n",
      "{'constrained_fields': 0,\n",
      " 'dont_drop': 1.2657711505889893,\n",
      " 'drop': 0.9838399887084961,\n",
      " 'indexed_fields': 4,\n",
      " 'model_name': 'S401Cd',\n",
      " 'rows': 47376}\n",
      "Testing F495P2Cd\n",
      "{'constrained_fields': 0,\n",
      " 'dont_drop': 0.06585469245910644,\n",
      " 'drop': 0.10696120262145996,\n",
      " 'indexed_fields': 4,\n",
      " 'model_name': 'F495P2Cd',\n",
      " 'rows': 973}\n",
      "Testing S496Cd\n",
      "{'constrained_fields': 0,\n",
      " 'dont_drop': 0.8889501094818115,\n",
      " 'drop': 0.6552989482879639,\n",
      " 'indexed_fields': 4,\n",
      " 'model_name': 'S496Cd',\n",
      " 'rows': 46899}\n",
      "Testing S497Cd\n",
      "{'constrained_fields': 0,\n",
      " 'dont_drop': 21.522844076156616,\n",
      " 'drop': 15.487336158752441,\n",
      " 'indexed_fields': 4,\n",
      " 'model_name': 'S497Cd',\n",
      " 'rows': 682660}\n",
      "Testing S498Cd\n",
      "{'constrained_fields': 0,\n",
      " 'dont_drop': 0.4143080711364746,\n",
      " 'drop': 0.3796050548553467,\n",
      " 'indexed_fields': 4,\n",
      " 'model_name': 'S498Cd',\n",
      " 'rows': 13158}\n",
      "Testing F501502Cd\n",
      "{'constrained_fields': 0,\n",
      " 'dont_drop': 0.7392570972442627,\n",
      " 'drop': 0.7022891044616699,\n",
      " 'indexed_fields': 4,\n",
      " 'model_name': 'F501502Cd',\n",
      " 'rows': 16266}\n",
      "Testing BallotMeasuresCd\n",
      "{'constrained_fields': 0,\n",
      " 'dont_drop': 0.025695419311523436,\n",
      " 'drop': 0.035556602478027347,\n",
      " 'indexed_fields': 1,\n",
      " 'model_name': 'BallotMeasuresCd',\n",
      " 'rows': 110}\n",
      "Testing CvrF470Cd\n",
      "No data. Skipping.\n",
      "Testing FilerTypePeriodsCd\n",
      "No data. Skipping.\n",
      "Testing LobbyistContributions1Cd\n",
      "{'constrained_fields': 0,\n",
      " 'dont_drop': 0.08885509967803955,\n",
      " 'drop': 0.09392662048339843,\n",
      " 'indexed_fields': 1,\n",
      " 'model_name': 'LobbyistContributions1Cd',\n",
      " 'rows': 6506}\n",
      "Testing LobbyistContributions2Cd\n",
      "{'constrained_fields': 0,\n",
      " 'dont_drop': 0.08355920314788819,\n",
      " 'drop': 0.0954211950302124,\n",
      " 'indexed_fields': 1,\n",
      " 'model_name': 'LobbyistContributions2Cd',\n",
      " 'rows': 6506}\n",
      "Testing LobbyistContributions3Cd\n",
      "{'constrained_fields': 0,\n",
      " 'dont_drop': 0.08618340492248536,\n",
      " 'drop': 0.09220001697540284,\n",
      " 'indexed_fields': 1,\n",
      " 'model_name': 'LobbyistContributions3Cd',\n",
      " 'rows': 6506}\n",
      "Testing LobbyistEmpLobbyist1Cd\n",
      "{'constrained_fields': 0,\n",
      " 'dont_drop': 0.033194780349731445,\n",
      " 'drop': 0.03253021240234375,\n",
      " 'indexed_fields': 0,\n",
      " 'model_name': 'LobbyistEmpLobbyist1Cd',\n",
      " 'rows': 1501}\n",
      "Testing LobbyistEmpLobbyist2Cd\n",
      "{'constrained_fields': 0,\n",
      " 'dont_drop': 0.03175840377807617,\n",
      " 'drop': 0.03241188526153564,\n",
      " 'indexed_fields': 0,\n",
      " 'model_name': 'LobbyistEmpLobbyist2Cd',\n",
      " 'rows': 1501}\n",
      "Testing LobbyistEmployer1Cd\n",
      "{'constrained_fields': 0,\n",
      " 'dont_drop': 0.05887351036071777,\n",
      " 'drop': 0.05896871089935303,\n",
      " 'indexed_fields': 0,\n",
      " 'model_name': 'LobbyistEmployer1Cd',\n",
      " 'rows': 1731}\n",
      "Testing LobbyistEmployer2Cd\n",
      "{'constrained_fields': 0,\n",
      " 'dont_drop': 0.05484740734100342,\n",
      " 'drop': 0.06264009475708007,\n",
      " 'indexed_fields': 0,\n",
      " 'model_name': 'LobbyistEmployer2Cd',\n",
      " 'rows': 1731}\n",
      "Testing LobbyistEmployer3Cd\n",
      "{'constrained_fields': 0,\n",
      " 'dont_drop': 0.0546990156173706,\n",
      " 'drop': 0.05526080131530762,\n",
      " 'indexed_fields': 0,\n",
      " 'model_name': 'LobbyistEmployer3Cd',\n",
      " 'rows': 1731}\n",
      "Testing LobbyistEmployerFirms1Cd\n",
      "{'constrained_fields': 0,\n",
      " 'dont_drop': 0.022696709632873534,\n",
      " 'drop': 0.02211160659790039,\n",
      " 'indexed_fields': 0,\n",
      " 'model_name': 'LobbyistEmployerFirms1Cd',\n",
      " 'rows': 525}\n",
      "Testing LobbyistEmployerFirms2Cd\n",
      "{'constrained_fields': 0,\n",
      " 'dont_drop': 0.022811102867126464,\n",
      " 'drop': 0.023297119140625,\n",
      " 'indexed_fields': 0,\n",
      " 'model_name': 'LobbyistEmployerFirms2Cd',\n",
      " 'rows': 525}\n",
      "Testing LobbyistEmployerHistoryCd\n",
      "No data. Skipping.\n",
      "Testing LobbyistFirm1Cd\n",
      "{'constrained_fields': 0,\n",
      " 'dont_drop': 0.026030588150024413,\n",
      " 'drop': 0.026287603378295898,\n",
      " 'indexed_fields': 0,\n",
      " 'model_name': 'LobbyistFirm1Cd',\n",
      " 'rows': 257}\n",
      "Testing LobbyistFirm2Cd\n",
      "{'constrained_fields': 0,\n",
      " 'dont_drop': 0.025400400161743164,\n",
      " 'drop': 0.026704001426696777,\n",
      " 'indexed_fields': 0,\n",
      " 'model_name': 'LobbyistFirm2Cd',\n",
      " 'rows': 257}\n",
      "Testing LobbyistFirm3Cd\n",
      "{'constrained_fields': 0,\n",
      " 'dont_drop': 0.025962686538696288,\n",
      " 'drop': 0.026451301574707032,\n",
      " 'indexed_fields': 0,\n",
      " 'model_name': 'LobbyistFirm3Cd',\n",
      " 'rows': 257}\n",
      "Testing LobbyistFirmEmployer1Cd\n",
      "{'constrained_fields': 0,\n",
      " 'dont_drop': 0.033581089973449704,\n",
      " 'drop': 0.04515650272369385,\n",
      " 'indexed_fields': 1,\n",
      " 'model_name': 'LobbyistFirmEmployer1Cd',\n",
      " 'rows': 171}\n",
      "Testing LobbyistFirmEmployer2Cd\n",
      "{'constrained_fields': 0,\n",
      " 'dont_drop': 0.032830810546875,\n",
      " 'drop': 0.04415628910064697,\n",
      " 'indexed_fields': 1,\n",
      " 'model_name': 'LobbyistFirmEmployer2Cd',\n",
      " 'rows': 171}\n",
      "Testing LobbyistFirmHistoryCd\n",
      "No data. Skipping.\n",
      "Testing LobbyistFirmLobbyist1Cd\n",
      "{'constrained_fields': 0,\n",
      " 'dont_drop': 0.024179291725158692,\n",
      " 'drop': 0.02501070499420166,\n",
      " 'indexed_fields': 0,\n",
      " 'model_name': 'LobbyistFirmLobbyist1Cd',\n",
      " 'rows': 578}\n",
      "Testing LobbyistFirmLobbyist2Cd\n",
      "{'constrained_fields': 0,\n",
      " 'dont_drop': 0.024796891212463378,\n",
      " 'drop': 0.024564695358276368,\n",
      " 'indexed_fields': 0,\n",
      " 'model_name': 'LobbyistFirmLobbyist2Cd',\n",
      " 'rows': 578}\n",
      "Testing EfsFilingLogCd\n",
      "{'constrained_fields': 0,\n",
      " 'dont_drop': 2.2857799530029297,\n",
      " 'drop': 1.6505908966064453,\n",
      " 'indexed_fields': 2,\n",
      " 'model_name': 'EfsFilingLogCd',\n",
      " 'rows': 146814}\n",
      "Testing CvrRegistrationCd\n",
      "{'constrained_fields': 0,\n",
      " 'dont_drop': 2.9372189044952393,\n",
      " 'drop': 2.4762680530548096,\n",
      " 'indexed_fields': 5,\n",
      " 'model_name': 'CvrRegistrationCd',\n",
      " 'rows': 52261}\n",
      "Testing Cvr2RegistrationCd\n",
      "{'constrained_fields': 0,\n",
      " 'dont_drop': 1.997380018234253,\n",
      " 'drop': 1.4637229442596436,\n",
      " 'indexed_fields': 4,\n",
      " 'model_name': 'Cvr2RegistrationCd',\n",
      " 'rows': 114939}\n",
      "Testing LobbyAmendmentsCd\n",
      "{'constrained_fields': 0,\n",
      " 'dont_drop': 0.42447590827941895,\n",
      " 'drop': 0.37059807777404785,\n",
      " 'indexed_fields': 4,\n",
      " 'model_name': 'LobbyAmendmentsCd',\n",
      " 'rows': 13236}\n",
      "Testing LobbyingChgLogCd\n",
      "{'constrained_fields': 0,\n",
      " 'dont_drop': 1.4048898220062256,\n",
      " 'drop': 1.3079240322113037,\n",
      " 'indexed_fields': 2,\n",
      " 'model_name': 'LobbyingChgLogCd',\n",
      " 'rows': 65525}\n",
      "Testing LempCd\n",
      "{'constrained_fields': 0,\n",
      " 'dont_drop': 10.81001591682434,\n",
      " 'drop': 7.45790696144104,\n",
      " 'indexed_fields': 5,\n",
      " 'model_name': 'LempCd',\n",
      " 'rows': 327142}\n",
      "Testing CvrLobbyDisclosureCd\n",
      "{'constrained_fields': 0,\n",
      " 'dont_drop': 17.340079069137573,\n",
      " 'drop': 12.858195066452026,\n",
      " 'indexed_fields': 5,\n",
      " 'model_name': 'CvrLobbyDisclosureCd',\n",
      " 'rows': 326623}\n",
      "Testing Cvr2LobbyDisclosureCd\n",
      "{'constrained_fields': 0,\n",
      " 'dont_drop': 2.501599073410034,\n",
      " 'drop': 1.6789438724517822,\n",
      " 'indexed_fields': 5,\n",
      " 'model_name': 'Cvr2LobbyDisclosureCd',\n",
      " 'rows': 113490}\n",
      "Testing F690P2Cd\n",
      "{'constrained_fields': 0,\n",
      " 'dont_drop': 0.5468950271606445,\n",
      " 'drop': 0.47051405906677246,\n",
      " 'indexed_fields': 5,\n",
      " 'model_name': 'F690P2Cd',\n",
      " 'rows': 21438}\n",
      "Testing LattCd\n",
      "{'constrained_fields': 0,\n",
      " 'dont_drop': 2.5466861724853516,\n",
      " 'drop': 1.6703591346740723,\n",
      " 'indexed_fields': 5,\n",
      " 'model_name': 'LattCd',\n",
      " 'rows': 92178}\n",
      "Testing LexpCd\n"
     ]
    },
    {
     "name": "stdout",
     "output_type": "stream",
     "text": [
      "{'constrained_fields': 0,\n",
      " 'dont_drop': 6.585654020309448,\n",
      " 'drop': 4.463361024856567,\n",
      " 'indexed_fields': 5,\n",
      " 'model_name': 'LexpCd',\n",
      " 'rows': 202013}\n",
      "Testing LccmCd\n",
      "{'constrained_fields': 0,\n",
      " 'dont_drop': 2.635312080383301,\n",
      " 'drop': 1.8452649116516113,\n",
      " 'indexed_fields': 5,\n",
      " 'model_name': 'LccmCd',\n",
      " 'rows': 96361}\n",
      "Testing LpayCd\n",
      "{'constrained_fields': 0,\n",
      " 'dont_drop': 16.043572902679443,\n",
      " 'drop': 10.699281930923462,\n",
      " 'indexed_fields': 5,\n",
      " 'model_name': 'LpayCd',\n",
      " 'rows': 499442}\n",
      "Testing LothCd\n",
      "{'constrained_fields': 0,\n",
      " 'dont_drop': 0.45551609992980957,\n",
      " 'drop': 0.42151689529418945,\n",
      " 'indexed_fields': 5,\n",
      " 'model_name': 'LothCd',\n",
      " 'rows': 15564}\n",
      "Testing FilernameCd\n",
      "{'constrained_fields': 0,\n",
      " 'dont_drop': 22.1668860912323,\n",
      " 'drop': 13.79504108428955,\n",
      " 'indexed_fields': 4,\n",
      " 'model_name': 'FilernameCd',\n",
      " 'rows': 787995}\n",
      "Testing FilerFilingsCd\n",
      "{'constrained_fields': 0,\n",
      " 'dont_drop': 66.93545007705688,\n",
      " 'drop': 43.47457003593445,\n",
      " 'indexed_fields': 6,\n",
      " 'model_name': 'FilerFilingsCd',\n",
      " 'rows': 2029990}\n",
      "Testing FilingsCd\n",
      "{'constrained_fields': 0,\n",
      " 'dont_drop': 12.708663940429688,\n",
      " 'drop': 9.028430938720703,\n",
      " 'indexed_fields': 2,\n",
      " 'model_name': 'FilingsCd',\n",
      " 'rows': 1880102}\n",
      "Testing HdrCd\n",
      "{'constrained_fields': 0,\n",
      " 'dont_drop': 11.81557297706604,\n",
      " 'drop': 7.8169190883636475,\n",
      " 'indexed_fields': 3,\n",
      " 'model_name': 'HdrCd',\n",
      " 'rows': 792430}\n",
      "Testing HeaderCd\n",
      "{'constrained_fields': 0,\n",
      " 'dont_drop': 0.03139500617980957,\n",
      " 'drop': 0.04959850311279297,\n",
      " 'indexed_fields': 1,\n",
      " 'model_name': 'HeaderCd',\n",
      " 'rows': 89}\n",
      "Testing SmryCd\n",
      "{'constrained_fields': 0,\n",
      " 'dont_drop': 226.64899110794067,\n",
      " 'drop': 118.8929591178894,\n",
      " 'indexed_fields': 5,\n",
      " 'model_name': 'SmryCd',\n",
      " 'rows': 9173181}\n",
      "Testing CvrE530Cd\n",
      "{'constrained_fields': 0,\n",
      " 'dont_drop': 0.06941800117492676,\n",
      " 'drop': 0.1142125129699707,\n",
      " 'indexed_fields': 4,\n",
      " 'model_name': 'CvrE530Cd',\n",
      " 'rows': 203}\n",
      "Testing SpltCd\n",
      "{'constrained_fields': 0,\n",
      " 'dont_drop': 64.97910499572754,\n",
      " 'drop': 40.85245704650879,\n",
      " 'indexed_fields': 4,\n",
      " 'model_name': 'SpltCd',\n",
      " 'rows': 3528297}\n",
      "Testing TextMemoCd\n",
      "{'constrained_fields': 0,\n",
      " 'dont_drop': 42.048442125320435,\n",
      " 'drop': 26.74587392807007,\n",
      " 'indexed_fields': 5,\n",
      " 'model_name': 'TextMemoCd',\n",
      " 'rows': 1779079}\n",
      "Testing AcronymsCd\n",
      "{'constrained_fields': 0,\n",
      " 'dont_drop': 0.026238393783569337,\n",
      " 'drop': 0.023939895629882812,\n",
      " 'indexed_fields': 0,\n",
      " 'model_name': 'AcronymsCd',\n",
      " 'rows': 890}\n",
      "Testing AddressCd\n",
      "{'constrained_fields': 0,\n",
      " 'dont_drop': 2.4154319763183594,\n",
      " 'drop': 2.331573963165283,\n",
      " 'indexed_fields': 0,\n",
      " 'model_name': 'AddressCd',\n",
      " 'rows': 356213}\n",
      "Testing FilersCd\n",
      "{'constrained_fields': 0,\n",
      " 'dont_drop': 1.5395770072937012,\n",
      " 'drop': 1.3083999156951904,\n",
      " 'indexed_fields': 1,\n",
      " 'model_name': 'FilersCd',\n",
      " 'rows': 363758}\n",
      "Testing FilerAcronymsCd\n",
      "{'constrained_fields': 0,\n",
      " 'dont_drop': 0.03329641819000244,\n",
      " 'drop': 0.04270269870758057,\n",
      " 'indexed_fields': 1,\n",
      " 'model_name': 'FilerAcronymsCd',\n",
      " 'rows': 1862}\n",
      "Testing FilerAddressCd\n",
      "{'constrained_fields': 0,\n",
      " 'dont_drop': 3.401718854904175,\n",
      " 'drop': 3.03930401802063,\n",
      " 'indexed_fields': 1,\n",
      " 'model_name': 'FilerAddressCd',\n",
      " 'rows': 431356}\n",
      "Testing FilerEthicsClassCd\n",
      "{'constrained_fields': 0,\n",
      " 'dont_drop': 0.12661988735198976,\n",
      " 'drop': 0.122257399559021,\n",
      " 'indexed_fields': 1,\n",
      " 'model_name': 'FilerEthicsClassCd',\n",
      " 'rows': 17166}\n",
      "Testing FilerInterestsCd\n",
      "{'constrained_fields': 0,\n",
      " 'dont_drop': 0.3040308952331543,\n",
      " 'drop': 0.27454400062561035,\n",
      " 'indexed_fields': 1,\n",
      " 'model_name': 'FilerInterestsCd',\n",
      " 'rows': 39691}\n",
      "Testing FilerLinksCd\n",
      "{'constrained_fields': 0,\n",
      " 'dont_drop': 3.4726741313934326,\n",
      " 'drop': 2.7454960346221924,\n",
      " 'indexed_fields': 2,\n",
      " 'model_name': 'FilerLinksCd',\n",
      " 'rows': 281675}\n",
      "Testing FilerStatusTypesCd\n",
      "{'constrained_fields': 0,\n",
      " 'dont_drop': 0.017774059772491455,\n",
      " 'drop': 0.01827371120452881,\n",
      " 'indexed_fields': 0,\n",
      " 'model_name': 'FilerStatusTypesCd',\n",
      " 'rows': 9}\n",
      "Testing FilerToFilerTypeCd\n",
      "{'constrained_fields': 0,\n",
      " 'dont_drop': 10.99035096168518,\n",
      " 'drop': 9.217068910598755,\n",
      " 'indexed_fields': 2,\n",
      " 'model_name': 'FilerToFilerTypeCd',\n",
      " 'rows': 518732}\n",
      "Testing FilerTypesCd\n",
      "{'constrained_fields': 0,\n",
      " 'dont_drop': 0.018149118423461914,\n",
      " 'drop': 0.02002476930618286,\n",
      " 'indexed_fields': 0,\n",
      " 'model_name': 'FilerTypesCd',\n",
      " 'rows': 19}\n",
      "Testing FilerXrefCd\n",
      "{'constrained_fields': 0,\n",
      " 'dont_drop': 4.349477052688599,\n",
      " 'drop': 3.035444974899292,\n",
      " 'indexed_fields': 2,\n",
      " 'model_name': 'FilerXrefCd',\n",
      " 'rows': 363724}\n",
      "Testing FilingPeriodCd\n",
      "{'constrained_fields': 0,\n",
      " 'dont_drop': 0.031567502021789554,\n",
      " 'drop': 0.03461830615997315,\n",
      " 'indexed_fields': 0,\n",
      " 'model_name': 'FilingPeriodCd',\n",
      " 'rows': 1449}\n",
      "Testing GroupTypesCd\n",
      "{'constrained_fields': 0,\n",
      " 'dont_drop': 0.017391738891601564,\n",
      " 'drop': 0.017053720951080324,\n",
      " 'indexed_fields': 0,\n",
      " 'model_name': 'GroupTypesCd',\n",
      " 'rows': 21}\n",
      "Testing ImageLinksCd\n",
      "{'constrained_fields': 0,\n",
      " 'dont_drop': 0.13019239902496338,\n",
      " 'drop': 0.13570539951324462,\n",
      " 'indexed_fields': 0,\n",
      " 'model_name': 'ImageLinksCd',\n",
      " 'rows': 17178}\n",
      "Testing LegislativeSessionsCd\n",
      "{'constrained_fields': 0,\n",
      " 'dont_drop': 0.017856690883636474,\n",
      " 'drop': 0.01890423059463501,\n",
      " 'indexed_fields': 0,\n",
      " 'model_name': 'LegislativeSessionsCd',\n",
      " 'rows': 31}\n",
      "Testing LookupCodesCd\n",
      "{'constrained_fields': 0,\n",
      " 'dont_drop': 0.026958513259887695,\n",
      " 'drop': 0.0259274959564209,\n",
      " 'indexed_fields': 0,\n",
      " 'model_name': 'LookupCodesCd',\n",
      " 'rows': 1133}\n",
      "Testing NamesCd\n",
      "{'constrained_fields': 0,\n",
      " 'dont_drop': 3.1007301807403564,\n",
      " 'drop': 3.0076100826263428,\n",
      " 'indexed_fields': 0,\n",
      " 'model_name': 'NamesCd',\n",
      " 'rows': 462722}\n",
      "Testing ReceivedFilingsCd\n",
      "{'constrained_fields': 0,\n",
      " 'dont_drop': 5.105316162109375,\n",
      " 'drop': 4.169677019119263,\n",
      " 'indexed_fields': 2,\n",
      " 'model_name': 'ReceivedFilingsCd',\n",
      " 'rows': 438757}\n",
      "Testing ReportsCd\n",
      "{'constrained_fields': 0,\n",
      " 'dont_drop': 0.017748498916625978,\n",
      " 'drop': 0.01850719451904297,\n",
      " 'indexed_fields': 0,\n",
      " 'model_name': 'ReportsCd',\n",
      " 'rows': 39}\n"
     ]
    }
   ],
   "source": [
    "# Set a blank list to store the results\n",
    "result_list = []\n",
    "\n",
    "# Loop through the models and run the tests\n",
    "for model in calaccess_raw.get_model_list():\n",
    "    print \"Testing {}\".format(model.__name__)\n",
    "\n",
    "    # Find the CSV for the model\n",
    "    csv_name = model().get_csv_name()\n",
    "    if not os.path.exists(csv_name):\n",
    "        print(\"No csv. Skipping.\")\n",
    "        continue\n",
    "    \n",
    "    # Count its rows\n",
    "    raw_rows = !wc -l $csv_name\n",
    "    rows = int(raw_rows[0].split()[0])\n",
    "    if not rows > 0:\n",
    "        print(\"No data. Skipping.\")\n",
    "        continue\n",
    "\n",
    "    # Map the CSV to the model\n",
    "    mapping = dict(\n",
    "        (f.name, f.db_column) for f in model._meta.fields\n",
    "        if f.db_column\n",
    "    )\n",
    "    \n",
    "    # Set the test function\n",
    "    f = model.objects.from_csv\n",
    "    \n",
    "    # Test it with dropped indexes\n",
    "    drop_kwargs = dict(drop_constraints=True, drop_indexes=True)\n",
    "    drop = %%timeit -r 3 -oq truncate(model); f(csv_name, mapping, **drop_kwargs)\n",
    "\n",
    "    # Test it without dropped indexes\n",
    "    dont_kwargs = dict(drop_constraints=False, drop_indexes=False)\n",
    "    dont_drop = %%timeit -r 3 -oq truncate(model); f(csv_name, mapping, **dont_kwargs)\n",
    "\n",
    "    # Return the results\n",
    "    result = {\n",
    "        'model_name': model.__name__,\n",
    "        'rows': rows,\n",
    "        'indexed_fields': len(model.objects.indexed_fields),\n",
    "        'constrained_fields': len(model.objects.constrained_fields),\n",
    "        'dont_drop': dont_drop.best,\n",
    "        'drop': drop.best\n",
    "    }\n",
    "    pprint(result)\n",
    "    result_list.append(result)"
   ]
  },
  {
   "cell_type": "code",
   "execution_count": 5,
   "metadata": {},
   "outputs": [
    {
     "ename": "NameError",
     "evalue": "name 'result_list' is not defined",
     "output_type": "error",
     "traceback": [
      "\u001b[0;31m---------------------------------------------------------------------------\u001b[0m",
      "\u001b[0;31mNameError\u001b[0m                                 Traceback (most recent call last)",
      "\u001b[0;32m<ipython-input-5-c6665dbf4ed2>\u001b[0m in \u001b[0;36m<module>\u001b[0;34m()\u001b[0m\n\u001b[1;32m      1\u001b[0m outfile = csv.DictWriter(\n\u001b[1;32m      2\u001b[0m     \u001b[0mopen\u001b[0m\u001b[0;34m(\u001b[0m\u001b[0;34m\"speed-test.csv\"\u001b[0m\u001b[0;34m,\u001b[0m \u001b[0;34m'w'\u001b[0m\u001b[0;34m)\u001b[0m\u001b[0;34m,\u001b[0m\u001b[0;34m\u001b[0m\u001b[0m\n\u001b[0;32m----> 3\u001b[0;31m     \u001b[0mresult_list\u001b[0m\u001b[0;34m[\u001b[0m\u001b[0;36m0\u001b[0m\u001b[0;34m]\u001b[0m\u001b[0;34m.\u001b[0m\u001b[0mkeys\u001b[0m\u001b[0;34m(\u001b[0m\u001b[0;34m)\u001b[0m\u001b[0;34m\u001b[0m\u001b[0m\n\u001b[0m\u001b[1;32m      4\u001b[0m )\n\u001b[1;32m      5\u001b[0m \u001b[0moutfile\u001b[0m\u001b[0;34m.\u001b[0m\u001b[0mwriteheader\u001b[0m\u001b[0;34m(\u001b[0m\u001b[0;34m)\u001b[0m\u001b[0;34m\u001b[0m\u001b[0m\n",
      "\u001b[0;31mNameError\u001b[0m: name 'result_list' is not defined"
     ]
    }
   ],
   "source": [
    "outfile = csv.DictWriter(\n",
    "    open(\"speed-test.csv\", 'w'),\n",
    "    result_list[0].keys()\n",
    ")\n",
    "outfile.writeheader()\n",
    "outfile.writerows(result_list)"
   ]
  },
  {
   "cell_type": "markdown",
   "metadata": {},
   "source": [
    "### Analyze the results"
   ]
  },
  {
   "cell_type": "code",
   "execution_count": 8,
   "metadata": {
    "collapsed": true
   },
   "outputs": [],
   "source": [
    "df = pd.read_csv(\"speed-test.csv\")"
   ]
  },
  {
   "cell_type": "markdown",
   "metadata": {},
   "source": [
    "What we loaded"
   ]
  },
  {
   "cell_type": "code",
   "execution_count": 9,
   "metadata": {},
   "outputs": [
    {
     "name": "stdout",
     "output_type": "stream",
     "text": [
      "Tables: 63\n",
      "Rows: 41,739,719\n"
     ]
    }
   ],
   "source": [
    "print \"Tables: {:,}\".format(len(df))\n",
    "print \"Rows: {:,}\".format(df.rows.sum())"
   ]
  },
  {
   "cell_type": "markdown",
   "metadata": {},
   "source": [
    "How long it took in seconds"
   ]
  },
  {
   "cell_type": "code",
   "execution_count": 10,
   "metadata": {},
   "outputs": [
    {
     "name": "stdout",
     "output_type": "stream",
     "text": [
      "Without drops: 1,269 seconds\n",
      "With drops: 871 seconds\n"
     ]
    }
   ],
   "source": [
    "print \"Without drops: {:,.0f} seconds\".format(df.dont_drop.sum())\n",
    "print \"With drops: {:,.0f} seconds\".format(df['drop'].sum())"
   ]
  },
  {
   "cell_type": "markdown",
   "metadata": {},
   "source": [
    "How long it took in minutes"
   ]
  },
  {
   "cell_type": "code",
   "execution_count": 11,
   "metadata": {},
   "outputs": [
    {
     "name": "stdout",
     "output_type": "stream",
     "text": [
      "Without drops: 21 minutes, 9 seconds\n",
      "With drops: 14 minutes, 31 seconds\n"
     ]
    }
   ],
   "source": [
    "print \"Without drops: {:.0f} minutes, {:.0f} seconds\".format(*divmod(df.dont_drop.sum(), 60))\n",
    "print \"With drops: {:.0f} minutes, {:.0f} seconds\".format(*divmod(df['drop'].sum(), 60))"
   ]
  },
  {
   "cell_type": "markdown",
   "metadata": {},
   "source": [
    "The change"
   ]
  },
  {
   "cell_type": "code",
   "execution_count": 12,
   "metadata": {},
   "outputs": [
    {
     "name": "stdout",
     "output_type": "stream",
     "text": [
      "Absolute change: 6 minutes, 38 seconds\n",
      "Percent change: -31%\n"
     ]
    }
   ],
   "source": [
    "print \"Absolute change: {:.0f} minutes, {:,.0f} seconds\".format(*divmod(df['dont_drop'].sum() - df['drop'].sum(), 60))\n",
    "print \"Percent change: {:,.0f}%\".format(((df['drop'].sum() - df.dont_drop.sum())/df['dont_drop'].sum())*100)"
   ]
  },
  {
   "cell_type": "markdown",
   "metadata": {},
   "source": [
    "Charge the changes by table size"
   ]
  },
  {
   "cell_type": "code",
   "execution_count": 13,
   "metadata": {
    "collapsed": true
   },
   "outputs": [],
   "source": [
    "df['change'] = df['dont_drop'] - df['drop']"
   ]
  },
  {
   "cell_type": "code",
   "execution_count": 14,
   "metadata": {
    "collapsed": true
   },
   "outputs": [],
   "source": [
    "df['percent_change'] = (df['drop'] - df['dont_drop']) / df['dont_drop']"
   ]
  },
  {
   "cell_type": "code",
   "execution_count": 150,
   "metadata": {},
   "outputs": [
    {
     "data": {
      "image/png": "[encoded data removed]",
      "text/plain": [
       "<matplotlib.figure.Figure at 0x7f991e7a8c50>"
      ]
     },
     "metadata": {},
     "output_type": "display_data"
    }
   ],
   "source": [
    "fig = plt.figure(figsize=(15, 10))\n",
    "ax = fig.add_subplot(1, 1, 1)\n",
    "ax.set_xlabel(\"Row count\", fontsize=14, color=\"#333333\")\n",
    "ax.set_ylabel(\"Change in load time (seconds)\", fontsize=14, color=\"#333333\")\n",
    "ax.scatter(df.rows, df.change, color=\"#ba0a35\", s=65)\n",
    "plt.xlim(-500000, plt.xlim()[1]-1000000)\n",
    "plt.tick_params(\n",
    "    axis='both',\n",
    "    which='both',\n",
    "    bottom='off',\n",
    "    top='off',\n",
    "    left=\"off\",\n",
    "    right=\"off\"\n",
    ")\n",
    "ax.spines['right'].set_visible(False)\n",
    "ax.spines['top'].set_visible(False)\n",
    "ax.get_xaxis().get_major_formatter().set_scientific(False)\n",
    "fmt = '{x:,.0f}'\n",
    "tick = mtick.StrMethodFormatter(fmt)\n",
    "ax.xaxis.set_major_formatter(tick)\n",
    "plt.show()"
   ]
  },
  {
   "cell_type": "code",
   "execution_count": 146,
   "metadata": {},
   "outputs": [
    {
     "data": {
      "image/png": "[encoded data removed]",
      "text/plain": [
       "<matplotlib.figure.Figure at 0x7f991e312890>"
      ]
     },
     "metadata": {},
     "output_type": "display_data"
    }
   ],
   "source": [
    "fig = plt.figure(figsize=(15, 10))\n",
    "ax = fig.add_subplot(1, 1, 1)\n",
    "ax.set_xlabel(\"Row count\", fontsize=14, color=\"#333333\")\n",
    "ax.set_ylabel(\"Percent change in load time\", fontsize=14, color=\"#333333\")\n",
    "ax.scatter(df.rows, df.percent_change, color=\"#ba0a35\", s=65)\n",
    "plt.xlim(-500000, plt.xlim()[1]-1000000)\n",
    "plt.axhline(0, lw=0.2, color=\"#ba0a35\")\n",
    "plt.annotate(\"FASTER\", (8000000, -0.1), fontsize=14, color=\"#333333\")\n",
    "plt.annotate(\"SLOWER\", (8000000, 0.1), fontsize=14, color=\"#333333\")\n",
    "ax.add_patch(\n",
    "    patches.Rectangle(\n",
    "        (plt.xlim()[0], 0),\n",
    "        plt.xlim()[1] + 500000,\n",
    "        plt.ylim()[0],\n",
    "        color=\"#ba0a35\",\n",
    "        alpha=0.1\n",
    "    )\n",
    ")\n",
    "plt.tick_params(\n",
    "    axis='both',\n",
    "    which='both',\n",
    "    bottom='off',\n",
    "    top='off',\n",
    "    left=\"off\",\n",
    "    right=\"off\"\n",
    ")\n",
    "ax.spines['right'].set_visible(False)\n",
    "ax.spines['top'].set_visible(False)\n",
    "ax.get_xaxis().get_major_formatter().set_scientific(False)\n",
    "fmt = '{x:,.0f}'\n",
    "tick = mtick.StrMethodFormatter(fmt)\n",
    "ax.xaxis.set_major_formatter(tick)\n",
    "plt.show()"
   ]
  }
 ],
 "metadata": {
  "kernelspec": {
   "display_name": "Python 2",
   "language": "python",
   "name": "python2"
  },
  "language_info": {
   "codemirror_mode": {
    "name": "ipython",
    "version": 2
   },
   "file_extension": ".py",
   "mimetype": "text/x-python",
   "name": "python",
   "nbconvert_exporter": "python",
   "pygments_lexer": "ipython2",
   "version": "2.7.14"
  }
 },
 "nbformat": 4,
 "nbformat_minor": 2
}
