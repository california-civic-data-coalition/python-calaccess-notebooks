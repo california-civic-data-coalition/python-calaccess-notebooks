{
 "cells": [
  {
   "cell_type": "markdown",
   "metadata": {},
   "source": [
    "# django-postgre-copy speed tests\n",
    "\n",
    "By Ben Welsh\n",
    "\n",
    "This notebook tests the effect of dropping database constraints and indexes prior to loading a large data file.\n",
    "\n",
    "The official PostgreSQL documentation suggests it lead to significant gains.\n",
    "\n",
    "We will test this claim by dropping constraints and indexes prior to loading data from the California Civic Data Coalition via the django-postgres-copy wrapper on the database's COPY command."
   ]
  },
  {
   "cell_type": "markdown",
   "metadata": {},
   "source": [
    "### Connect California Civic Data Coalition Django project"
   ]
  },
  {
   "cell_type": "markdown",
   "metadata": {},
   "source": [
    "Import Python tools"
   ]
  },
  {
   "cell_type": "code",
   "execution_count": 1,
   "metadata": {
    "collapsed": true
   },
   "outputs": [],
   "source": [
    "import os\n",
    "import sys"
   ]
  },
  {
   "cell_type": "code",
   "execution_count": 2,
   "metadata": {
    "collapsed": true
   },
   "outputs": [],
   "source": [
    "import warnings\n",
    "warnings.simplefilter(\"ignore\")"
   ]
  },
  {
   "cell_type": "markdown",
   "metadata": {},
   "source": [
    "Add the Django settings module to the environment."
   ]
  },
  {
   "cell_type": "code",
   "execution_count": 3,
   "metadata": {},
   "outputs": [
    {
     "data": {
      "text/plain": [
       "'settings'"
      ]
     },
     "execution_count": 3,
     "metadata": {},
     "output_type": "execute_result"
    }
   ],
   "source": [
    "sys.path.insert(0, '/home/palewire/.virtualenvs//django-calaccess-raw-data/src/')\n",
    "sys.path.insert(0, '/home/palewire/.virtualenvs//django-calaccess-raw-data/lib/python2.7/')\n",
    "sys.path.insert(0, '/home/palewire/.virtualenvs//django-calaccess-raw-data/lib/python2.7/site-packages/')\n",
    "sys.path.insert(0, '/home/palewire/Code/django-calaccess-raw-data/')\n",
    "sys.path.insert(0, '/home/palewire/Code/django-calaccess-raw-data/example/')\n",
    "sys.path.insert(0, '/home/palewire/Code/django-postgres-copy/')\n",
    "os.environ.setdefault(\"DJANGO_SETTINGS_MODULE\", \"settings\")"
   ]
  },
  {
   "cell_type": "markdown",
   "metadata": {},
   "source": [
    "Verify we have the correct version of django-postgres-copy"
   ]
  },
  {
   "cell_type": "code",
   "execution_count": 4,
   "metadata": {
    "collapsed": true
   },
   "outputs": [],
   "source": [
    "import postgres_copy"
   ]
  },
  {
   "cell_type": "code",
   "execution_count": 5,
   "metadata": {},
   "outputs": [
    {
     "data": {
      "text/plain": [
       "'2.0.0'"
      ]
     },
     "execution_count": 5,
     "metadata": {},
     "output_type": "execute_result"
    }
   ],
   "source": [
    "postgres_copy.__version__"
   ]
  },
  {
   "cell_type": "markdown",
   "metadata": {},
   "source": [
    "Boot the Django project"
   ]
  },
  {
   "cell_type": "code",
   "execution_count": 6,
   "metadata": {},
   "outputs": [],
   "source": [
    "%%capture\n",
    "import django\n",
    "django.setup()"
   ]
  },
  {
   "cell_type": "markdown",
   "metadata": {},
   "source": [
    "### Load data into a Coalition model without altering constraints and indexes"
   ]
  },
  {
   "cell_type": "markdown",
   "metadata": {},
   "source": [
    "Import database models"
   ]
  },
  {
   "cell_type": "code",
   "execution_count": 7,
   "metadata": {},
   "outputs": [],
   "source": [
    "from calaccess_raw import models "
   ]
  },
  {
   "cell_type": "markdown",
   "metadata": {},
   "source": [
    "Verify we can query a table and time results"
   ]
  },
  {
   "cell_type": "code",
   "execution_count": 8,
   "metadata": {},
   "outputs": [
    {
     "name": "stdout",
     "output_type": "stream",
     "text": [
      "5 loops, best of 3: 5.05 ms per loop\n"
     ]
    }
   ],
   "source": [
    "%timeit -n 5 models.CvrRegistrationCd.objects.count()"
   ]
  },
  {
   "cell_type": "markdown",
   "metadata": {},
   "source": [
    "Prep a couple functions we'll use during loading."
   ]
  },
  {
   "cell_type": "code",
   "execution_count": 9,
   "metadata": {
    "collapsed": true
   },
   "outputs": [],
   "source": [
    "def model_mapping(model):\n",
    "     return dict(\n",
    "        (f.name, f.db_column) for f in model._meta.fields\n",
    "        if f.db_column\n",
    "    )"
   ]
  },
  {
   "cell_type": "code",
   "execution_count": 14,
   "metadata": {
    "collapsed": true
   },
   "outputs": [],
   "source": [
    "def test_load(drop_constraints=True, drop_indexes=True):\n",
    "    models.CvrRegistrationCd.objects.all().delete()\n",
    "    models.CvrRegistrationCd.objects.from_csv(\n",
    "        \"./cvr_registration_cd.csv\",\n",
    "        model_mapping(models.CvrRegistrationCd),\n",
    "        drop_constraints=drop_constraints,\n",
    "        drop_indexes=drop_indexes\n",
    "    )"
   ]
  },
  {
   "cell_type": "markdown",
   "metadata": {},
   "source": [
    "Show how many rows are in the file we'll be loading"
   ]
  },
  {
   "cell_type": "code",
   "execution_count": 21,
   "metadata": {},
   "outputs": [
    {
     "name": "stdout",
     "output_type": "stream",
     "text": [
      "52025 ./cvr_registration_cd.csv\r\n"
     ]
    }
   ],
   "source": [
    "!wc -l ./cvr_registration_cd.csv"
   ]
  },
  {
   "cell_type": "markdown",
   "metadata": {},
   "source": [
    "Test how long it takes to load data when the constraints stay"
   ]
  },
  {
   "cell_type": "code",
   "execution_count": 22,
   "metadata": {},
   "outputs": [
    {
     "name": "stdout",
     "output_type": "stream",
     "text": [
      "10 loops, best of 3: 4.14 s per loop\n"
     ]
    }
   ],
   "source": [
    "%timeit -n 10 test_load(drop_constraints=False, drop_indexes=False)"
   ]
  },
  {
   "cell_type": "markdown",
   "metadata": {},
   "source": [
    "Test how long it takes to load data when constraints are dropped"
   ]
  },
  {
   "cell_type": "code",
   "execution_count": 24,
   "metadata": {},
   "outputs": [
    {
     "name": "stdout",
     "output_type": "stream",
     "text": [
      "10 loops, best of 3: 6.54 s per loop\n"
     ]
    }
   ],
   "source": [
    "%timeit -n 10 test_load(drop_constraints=True, drop_indexes=True)"
   ]
  }
 ],
 "metadata": {
  "kernelspec": {
   "display_name": "Python 2",
   "language": "python",
   "name": "python2"
  },
  "language_info": {
   "codemirror_mode": {
    "name": "ipython",
    "version": 2
   },
   "file_extension": ".py",
   "mimetype": "text/x-python",
   "name": "python",
   "nbconvert_exporter": "python",
   "pygments_lexer": "ipython2",
   "version": "2.7.12"
  }
 },
 "nbformat": 4,
 "nbformat_minor": 2
}
