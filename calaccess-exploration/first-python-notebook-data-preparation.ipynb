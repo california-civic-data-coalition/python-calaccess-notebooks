{
 "cells": [
  {
   "cell_type": "markdown",
   "metadata": {},
   "source": [
    "# \"First Python Notebook\" data preparation\n",
    "\n",
    "By Ben Welsh\n",
    "\n",
    "This notebook prepares a dataset to be used in the forthcoming class \"First Python Notebook: Scripting your way to the story.\"\n",
    "\n",
    "The course is scheduled to be taught for the first time at the [Oct. 2 2016 \"watchdog workshop\" organized by Investigative Reporters and Editors](http://ire.org/events-and-training/event/2819/2841/) at San Diego State University's school of journalism.\n",
    "\n",
    "It will focus on teaching the basic skills of Python by analyzing the contributors to Proposition 64, which asks California voters this November to decide if the growth and sale of marijuana should be legalized.\n",
    "\n",
    "The preparation effort is necessary because the raw data published at [californiacivicdata.org](http://www.californiacivicdata.org) is still difficult for beginners to navigate.\n",
    "\n",
    "The goal is to create something simple so the class can focus on using Python to interrogate the data."
   ]
  },
  {
   "cell_type": "markdown",
   "metadata": {},
   "source": [
    "### Import Python tools"
   ]
  },
  {
   "cell_type": "code",
   "execution_count": 1,
   "metadata": {
    "collapsed": true
   },
   "outputs": [],
   "source": [
    "import os\n",
    "import requests\n",
    "from datetime import datetime\n",
    "from clint.textui import progress"
   ]
  },
  {
   "cell_type": "code",
   "execution_count": 2,
   "metadata": {
    "collapsed": true
   },
   "outputs": [],
   "source": [
    "import pandas\n",
    "pandas.set_option('display.float_format', lambda x: '%.2f' % x)\n",
    "pandas.set_option('display.max_columns', None)"
   ]
  },
  {
   "cell_type": "markdown",
   "metadata": {},
   "source": [
    "### Download raw data \n",
    "\n",
    "Pull down raw CAL-ACCESS files published by the [California Civic Data Coalition's API](http://www.californiacivicdata.org/."
   ]
  },
  {
   "cell_type": "code",
   "execution_count": 3,
   "metadata": {
    "collapsed": true
   },
   "outputs": [],
   "source": [
    "def download_csv(name):\n",
    "    \"\"\"\n",
    "    Accepts the name of a calaccess.download CSV and returns its path.\n",
    "    \"\"\"\n",
    "    path = os.path.join(os.getcwd(), '{}.csv'.format(name))\n",
    "    if not os.path.exists(path):\n",
    "        url = \"http://calaccess.download/latest/{}.csv\".format(name)\n",
    "        r = requests.get(url, stream=True)\n",
    "        with open(path, 'w') as f:\n",
    "            total_length = int(r.headers.get('content-length'))\n",
    "            for chunk in progress.bar(r.iter_content(chunk_size=1024), expected_size=(total_length/1024) + 1): \n",
    "                if chunk:\n",
    "                    f.write(chunk)\n",
    "                    f.flush()\n",
    "    return path"
   ]
  },
  {
   "cell_type": "markdown",
   "metadata": {},
   "source": [
    "Itemized receipts reported by campaigns"
   ]
  },
  {
   "cell_type": "code",
   "execution_count": 4,
   "metadata": {
    "collapsed": true
   },
   "outputs": [],
   "source": [
    "rcpt_path = download_csv(\"rcpt_cd\")"
   ]
  },
  {
   "cell_type": "code",
   "execution_count": 5,
   "metadata": {
    "collapsed": true
   },
   "outputs": [],
   "source": [
    "ff_path = download_csv(\"filer_filings_cd\")"
   ]
  },
  {
   "cell_type": "markdown",
   "metadata": {},
   "source": [
    "### Hack down RCPT_CD table outside of Python\n",
    "\n",
    "The raw `RCPT_CD` table is nearly 2 gigabytes in size and too large to load into this Python notebook. Outside of this script, I split it into slices of 1,000,000 rows using the Linux command line.\n",
    "\n",
    "```bash\n",
    "$ split -l 1000000 rcpt_cd.csv rcpt_cd_part\n",
    "```\n",
    "\n",
    "I then cleaned up the file names a little and added the header row to all files using ``vim``."
   ]
  },
  {
   "cell_type": "markdown",
   "metadata": {},
   "source": [
    "### Import and trim the RCPT_CD table\n",
    "\n",
    "The source file is believed to expand in chronological order as new filings are made with the state. Since we are only interested in studying contributions to a 2016 ballot, only the three latest slices are imported and trimmed."
   ]
  },
  {
   "cell_type": "code",
   "execution_count": 6,
   "metadata": {
    "collapsed": true
   },
   "outputs": [],
   "source": [
    "def rcpt_part_to_dataframe(part_name):\n",
    "    \"\"\"\n",
    "    Import a slide of the RCPT_CD table prepared for this notebook.\n",
    "    \"\"\"\n",
    "    file_name = \"rcpt_cd_parta{}.csv\".format(part_name)\n",
    "    path = os.path.join(os.getcwd(), file_name)\n",
    "    return pandas.read_csv(path, sep=',', dtype=\"unicode\")"
   ]
  },
  {
   "cell_type": "code",
   "execution_count": 7,
   "metadata": {
    "collapsed": true
   },
   "outputs": [],
   "source": [
    "itemized_receipts_df_h = rcpt_part_to_dataframe(\"h\")"
   ]
  },
  {
   "cell_type": "code",
   "execution_count": 8,
   "metadata": {
    "collapsed": true
   },
   "outputs": [],
   "source": [
    "itemized_receipts_df_i = rcpt_part_to_dataframe(\"i\")"
   ]
  },
  {
   "cell_type": "code",
   "execution_count": 9,
   "metadata": {
    "collapsed": true
   },
   "outputs": [],
   "source": [
    "itemized_receipts_df_j = rcpt_part_to_dataframe(\"j\")"
   ]
  },
  {
   "cell_type": "markdown",
   "metadata": {},
   "source": [
    "Concatenate them together into one DataFrame."
   ]
  },
  {
   "cell_type": "code",
   "execution_count": 10,
   "metadata": {
    "collapsed": true
   },
   "outputs": [],
   "source": [
    "recent_itemized_receipts = pandas.concat([\n",
    "    itemized_receipts_df_h,\n",
    "    itemized_receipts_df_i,\n",
    "    itemized_receipts_df_j\n",
    "])"
   ]
  },
  {
   "cell_type": "markdown",
   "metadata": {},
   "source": [
    "Remove amended filings"
   ]
  },
  {
   "cell_type": "code",
   "execution_count": 11,
   "metadata": {
    "collapsed": true
   },
   "outputs": [],
   "source": [
    "def remove_amended_filings(df):\n",
    "    \"\"\"\n",
    "    Accepts a dataframe with FILING_ID and AMEND_ID files.\n",
    "    \n",
    "    Returns only the highest amendment for each unique filing id.\n",
    "    \"\"\"\n",
    "    max_amendments = df.groupby('FILING_ID')['AMEND_ID'].agg(\"max\").reset_index()\n",
    "    merged_df = pandas.merge(df, max_amendments, how='inner', on=['FILING_ID', 'AMEND_ID'])\n",
    "    print \"Removed {} amendments\".format(len(df)-len(merged_df))\n",
    "    print \"DataFrame now contains {} rows\".format(len(merged_df))\n",
    "    return merged_df"
   ]
  },
  {
   "cell_type": "code",
   "execution_count": 12,
   "metadata": {
    "collapsed": false
   },
   "outputs": [
    {
     "name": "stdout",
     "output_type": "stream",
     "text": [
      "Removed 659557 amendments\n",
      "DataFrame now contains 1960681 rows\n"
     ]
    }
   ],
   "source": [
    "real_recent_itemized_receipts = remove_amended_filings(recent_itemized_receipts)"
   ]
  },
  {
   "cell_type": "markdown",
   "metadata": {},
   "source": [
    "Filter the table down to monetary contributions reported via Schedule A."
   ]
  },
  {
   "cell_type": "code",
   "execution_count": 13,
   "metadata": {
    "collapsed": false
   },
   "outputs": [],
   "source": [
    "real_sked_a = real_recent_itemized_receipts[\n",
    "    real_recent_itemized_receipts['FORM_TYPE'] == 'A'\n",
    "]"
   ]
  },
  {
   "cell_type": "markdown",
   "metadata": {},
   "source": [
    "Reduce the number of the headers down to the ones we want to keep"
   ]
  },
  {
   "cell_type": "code",
   "execution_count": 14,
   "metadata": {
    "collapsed": true
   },
   "outputs": [],
   "source": [
    "trimmed_itemized = real_sked_a[[\n",
    "    'FILING_ID',\n",
    "    'AMEND_ID',\n",
    "    'CTRIB_NAMF',\n",
    "    'CTRIB_NAML',\n",
    "    'CTRIB_CITY',\n",
    "    'CTRIB_ST',\n",
    "    'CTRIB_ZIP4',\n",
    "    'CTRIB_EMP',\n",
    "    'CTRIB_OCC',\n",
    "    'RCPT_DATE',\n",
    "    'AMOUNT',\n",
    "]]"
   ]
  },
  {
   "cell_type": "markdown",
   "metadata": {},
   "source": [
    "Rename the ugly ones"
   ]
  },
  {
   "cell_type": "code",
   "execution_count": 15,
   "metadata": {
    "collapsed": true
   },
   "outputs": [],
   "source": [
    "clean_itemized = trimmed_itemized.rename(\n",
    "    index=str,\n",
    "    columns={\n",
    "        \"CTRIB_NAMF\": \"FIRST_NAME\",\n",
    "        \"CTRIB_NAML\": \"LAST_NAME\",\n",
    "        \"CTRIB_CITY\": \"CITY\",\n",
    "        \"CTRIB_ST\": \"STATE\",\n",
    "        \"CTRIB_ZIP4\": \"ZIPCODE\",\n",
    "        \"CTRIB_EMP\": \"EMPLOYER\",\n",
    "        \"CTRIB_OCC\": \"OCCUPATION\",\n",
    "        \"RCPT_DATE\": \"DATE\"\n",
    "    }\n",
    ")"
   ]
  },
  {
   "cell_type": "markdown",
   "metadata": {},
   "source": [
    "### Import and trim the FILER_FILINGS_CD table\n",
    "\n",
    "Download and read in the table with links between the ``RCPT_CD`` table's ``FILING_ID`` field and the ``FILER_ID`` field that identifies which committee reported the receipt."
   ]
  },
  {
   "cell_type": "code",
   "execution_count": 16,
   "metadata": {
    "collapsed": true
   },
   "outputs": [],
   "source": [
    "filer_filings_df = pandas.read_csv(ff_path, sep=',', index_col=False, dtype='unicode')"
   ]
  },
  {
   "cell_type": "markdown",
   "metadata": {},
   "source": [
    "Since this table does not indicate if the filing is an amendment, let's just reduce it to the distinct connections between filers and filings."
   ]
  },
  {
   "cell_type": "code",
   "execution_count": 17,
   "metadata": {
    "collapsed": true
   },
   "outputs": [],
   "source": [
    "filer_to_filing = filer_filings_df[['FILER_ID', 'FILING_ID']].drop_duplicates()"
   ]
  },
  {
   "cell_type": "markdown",
   "metadata": {},
   "source": [
    "### Import the shortlist of Prop. 64 committees we want to study"
   ]
  },
  {
   "cell_type": "markdown",
   "metadata": {},
   "source": [
    "California's Proposition 64 asks voters if the growth and sale marijuana should be legalized in the state. As of September 20, [California's Secretary of State reports](http://www.sos.ca.gov/campaign-lobbying/cal-access-resources/measure-contributions/marijuana-legalization-initiative-statute/) that 16 million has been raised to campaign in support the measure, and 2 million to oppose it. "
   ]
  },
  {
   "cell_type": "markdown",
   "metadata": {},
   "source": [
    "Here are the committees the state lists as supporting the measure."
   ]
  },
  {
   "cell_type": "code",
   "execution_count": 19,
   "metadata": {
    "collapsed": false
   },
   "outputs": [],
   "source": [
    "supporting_committees = pandas.DataFrame([\n",
    "    {\"COMMITTEE_ID\":\"1343793\",\"COMMITTEE_NAME\":\"Californians for Responsible Marijuana Reform, Sponsored by Drug Policy Action, Yes on Prop. 64\"},\n",
    "    {\"COMMITTEE_ID\":\"1376077\",\"COMMITTEE_NAME\":\"Californians for Sensible Reform, Sponsored by Ghost Management Group, LLC dba Weedmaps\"},\n",
    "    {\"COMMITTEE_ID\":\"1385506\",\"COMMITTEE_NAME\":\"Drug Policy Action - Non Profit 501c4, Yes on Prop. 64\"},\n",
    "    {\"COMMITTEE_ID\":\"1385745\",\"COMMITTEE_NAME\":\"Fund for Policy Reform (Nonprofit 501(C)(4))\"},\n",
    "    {\"COMMITTEE_ID\":\"1371855\",\"COMMITTEE_NAME\":\"Marijuana Policy Project of California\"},\n",
    "    {\"COMMITTEE_ID\":\"1382525\",\"COMMITTEE_NAME\":\"New Approach PAC (MPO)\"},\n",
    "    {\"COMMITTEE_ID\":\"1386560\",\"COMMITTEE_NAME\":\"The Adult Use Campaign for Proposition 64\"},\n",
    "    {\"COMMITTEE_ID\":\"1381808\",\"COMMITTEE_NAME\":\"Yes on 64, Californians to Control, Regulate and Tax Adult Use of Marijuana While Protecting Children, Sponsored by Business, Physicians, Environmental and Social-Justice Advocate Organizations\"}\n",
    "])\n",
    "supporting_committees['COMMITTEE_POSITION'] = 'SUPPORT'"
   ]
  },
  {
   "cell_type": "markdown",
   "metadata": {},
   "source": [
    "Here are the committees the state lists as opposing the measure. "
   ]
  },
  {
   "cell_type": "code",
   "execution_count": 20,
   "metadata": {
    "collapsed": false
   },
   "outputs": [],
   "source": [
    "opposing_committees = pandas.DataFrame([\n",
    "    {\"COMMITTEE_ID\":\"1382568\",\"COMMITTEE_NAME\":\"No on Prop. 64, Sponsored by California Public Safety Institute\"},\n",
    "    {\"COMMITTEE_ID\":\"1387789\",\"COMMITTEE_NAME\":\"Sam Action, Inc., a Committee Against Proposition 64 with Help from Citizens (NonProfit 501(C)(4))\"}\n",
    "])\n",
    "opposing_committees['COMMITTEE_POSITION'] = 'OPPOSE'"
   ]
  },
  {
   "cell_type": "code",
   "execution_count": 22,
   "metadata": {
    "collapsed": true
   },
   "outputs": [],
   "source": [
    "prop_64_committees = pandas.concat([supporting_committees, opposing_committees])"
   ]
  },
  {
   "cell_type": "markdown",
   "metadata": {},
   "source": [
    "### Join Prop. 64 committees to the contributions they've received"
   ]
  },
  {
   "cell_type": "code",
   "execution_count": 23,
   "metadata": {
    "collapsed": true
   },
   "outputs": [],
   "source": [
    "prop_64_filings = filer_to_filing.merge(\n",
    "    prop_64_committees,\n",
    "    how=\"inner\",\n",
    "    left_on='FILER_ID',\n",
    "    right_on=\"COMMITTEE_ID\"\n",
    ")"
   ]
  },
  {
   "cell_type": "code",
   "execution_count": 24,
   "metadata": {
    "collapsed": false
   },
   "outputs": [],
   "source": [
    "prop_64_itemized = prop_64_filings.merge(\n",
    "    clean_itemized,\n",
    "    how=\"inner\",\n",
    "    left_on=\"FILING_ID\",\n",
    "    right_on=\"FILING_ID\"\n",
    ")"
   ]
  },
  {
   "cell_type": "code",
   "execution_count": 25,
   "metadata": {
    "collapsed": false
   },
   "outputs": [
    {
     "name": "stdout",
     "output_type": "stream",
     "text": [
      "318\n"
     ]
    }
   ],
   "source": [
    "print len(prop_64_itemized)"
   ]
  },
  {
   "cell_type": "markdown",
   "metadata": {},
   "source": [
    "### Export the data to a CSV file"
   ]
  },
  {
   "cell_type": "code",
   "execution_count": 26,
   "metadata": {
    "collapsed": false
   },
   "outputs": [],
   "source": [
    "prop_64_itemized.drop('FILER_ID', axis=1, inplace=True)"
   ]
  },
  {
   "cell_type": "code",
   "execution_count": 27,
   "metadata": {
    "collapsed": false
   },
   "outputs": [],
   "source": [
    "prop_64_itemized.to_csv(\"./prop_64_contributions.csv\", index=False)"
   ]
  },
  {
   "cell_type": "markdown",
   "metadata": {},
   "source": [
    "### Upload the data to the World Wide Web\n",
    "\n",
    "I then uploaded that CSV export to Google Sheets, where it is published online [here](https://docs.google.com/spreadsheets/d/1Zsxlq01Wqu9D1qLLesjA7aGwclYTGeNsPY4Ax_jwtYI/pubhtml?gid=0&single=true).\n",
    "\n",
    "Caveats to keep in mind:\n",
    "\n",
    "- The file contains only contributions reported through June 30, 2016, when the most recent quarterly F460 filings were made. It does not include \"late\" expenditures reported via Form 497 form in the weeks leading up to the election.\n",
    "\n",
    "- It is also only monetary contributions reported via the Form 460's Schedule A. It does not include non-monetary contributions, nor does it include transfers and other cash infusions reported via Schedule I. That can add up to a significant amount of missing money. For instance, hundreds of thousands of dollars from George Soros were passed into the Drug Policy Action PAC from a previous ballot measure campaign in [this filing's](http://cal-access.sos.ca.gov/PDFGen/pdfgen.prg?filingid=1740525&amendid=0) Schedule I.\n",
    "\n",
    "- Some campaigns here, such as Drug Policy Action, have passed on their contributions to other ballot measure committees. The result is that some real dollars are reflected twice. First, when they are reported as a receipt by the initial committee. Then again when they are reported as a receipt by the second committee after the first has passed it along.\n",
    "\n",
    "- As is always the case, these receipts are only those of \"large donors\" that campaigns are required to report when they surpass 200 dollars in gifts. Donors who have given less than that amount do not appear, and the summary sheets reported by the campaigns remain the authoritative source of their total fundraising."
   ]
  }
 ],
 "metadata": {
  "kernelspec": {
   "display_name": "Python 2",
   "language": "python",
   "name": "python2"
  },
  "language_info": {
   "codemirror_mode": {
    "name": "ipython",
    "version": 2
   },
   "file_extension": ".py",
   "mimetype": "text/x-python",
   "name": "python",
   "nbconvert_exporter": "python",
   "pygments_lexer": "ipython2",
   "version": "2.7.12"
  }
 },
 "nbformat": 4,
 "nbformat_minor": 0
}
