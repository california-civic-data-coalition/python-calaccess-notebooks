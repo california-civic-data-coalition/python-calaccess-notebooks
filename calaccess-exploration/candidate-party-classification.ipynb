{
 "cells": [
  {
   "cell_type": "markdown",
   "metadata": {},
   "source": [
    "# Candidate party classification\n",
    "\n",
    "By Ben Welsh\n",
    "\n",
    "An analysis of what method is ultimately classifying scraped candidate records to a party."
   ]
  },
  {
   "cell_type": "code",
   "execution_count": 45,
   "metadata": {
    "collapsed": true
   },
   "outputs": [],
   "source": [
    "import pandas as pd"
   ]
  },
  {
   "cell_type": "code",
   "execution_count": 46,
   "metadata": {
    "collapsed": true
   },
   "outputs": [],
   "source": [
    "df = pd.read_csv(\"/home/ben/Code/django-calaccess-processed-data/example/django.log\", sep=\"|\")"
   ]
  },
  {
   "cell_type": "code",
   "execution_count": 47,
   "metadata": {},
   "outputs": [
    {
     "data": {
      "text/html": [
       "<div>\n",
       "<table border=\"1\" class=\"dataframe\">\n",
       "  <thead>\n",
       "    <tr style=\"text-align: right;\">\n",
       "      <th></th>\n",
       "      <th>DEBUG</th>\n",
       "      <th>19/Jul/2017 01:10:40</th>\n",
       "      <th>__init__</th>\n",
       "      <th>Flushing 578 Candidacy objects</th>\n",
       "    </tr>\n",
       "  </thead>\n",
       "  <tbody>\n",
       "    <tr>\n",
       "      <th>0</th>\n",
       "      <td>DEBUG</td>\n",
       "      <td>19/Jul/2017 01:10:40</td>\n",
       "      <td>__init__</td>\n",
       "      <td>Flushing 342 CandidateContest objects</td>\n",
       "    </tr>\n",
       "    <tr>\n",
       "      <th>1</th>\n",
       "      <td>DEBUG</td>\n",
       "      <td>19/Jul/2017 01:10:40</td>\n",
       "      <td>__init__</td>\n",
       "      <td>Flushing 166 BallotMeasureContest objects</td>\n",
       "    </tr>\n",
       "    <tr>\n",
       "      <th>2</th>\n",
       "      <td>DEBUG</td>\n",
       "      <td>19/Jul/2017 01:10:40</td>\n",
       "      <td>__init__</td>\n",
       "      <td>Flushing 2 RetentionContest objects</td>\n",
       "    </tr>\n",
       "    <tr>\n",
       "      <th>3</th>\n",
       "      <td>DEBUG</td>\n",
       "      <td>19/Jul/2017 01:10:40</td>\n",
       "      <td>__init__</td>\n",
       "      <td>Flushing 55 Election objects</td>\n",
       "    </tr>\n",
       "    <tr>\n",
       "      <th>4</th>\n",
       "      <td>DEBUG</td>\n",
       "      <td>19/Jul/2017 01:10:40</td>\n",
       "      <td>__init__</td>\n",
       "      <td>Flushing 2 Membership objects</td>\n",
       "    </tr>\n",
       "  </tbody>\n",
       "</table>\n",
       "</div>"
      ],
      "text/plain": [
       "   DEBUG  19/Jul/2017 01:10:40  __init__  \\\n",
       "0  DEBUG  19/Jul/2017 01:10:40  __init__   \n",
       "1  DEBUG  19/Jul/2017 01:10:40  __init__   \n",
       "2  DEBUG  19/Jul/2017 01:10:40  __init__   \n",
       "3  DEBUG  19/Jul/2017 01:10:40  __init__   \n",
       "4  DEBUG  19/Jul/2017 01:10:40  __init__   \n",
       "\n",
       "              Flushing 578 Candidacy objects  \n",
       "0      Flushing 342 CandidateContest objects  \n",
       "1  Flushing 166 BallotMeasureContest objects  \n",
       "2        Flushing 2 RetentionContest objects  \n",
       "3               Flushing 55 Election objects  \n",
       "4              Flushing 2 Membership objects  "
      ]
     },
     "execution_count": 47,
     "metadata": {},
     "output_type": "execute_result"
    }
   ],
   "source": [
    "df.head()"
   ]
  },
  {
   "cell_type": "code",
   "execution_count": 48,
   "metadata": {
    "collapsed": true
   },
   "outputs": [],
   "source": [
    "df.columns = ['level', 'time', 'logger', 'message']"
   ]
  },
  {
   "cell_type": "code",
   "execution_count": 49,
   "metadata": {},
   "outputs": [],
   "source": [
    "df = df[df.logger == 'candidates']"
   ]
  },
  {
   "cell_type": "code",
   "execution_count": 50,
   "metadata": {
    "collapsed": true
   },
   "outputs": [],
   "source": [
    "def method(message):\n",
    "    if 'based' in message:\n",
    "        return message.split(\"based on\")[-1]\n",
    "    else:\n",
    "        return message.split(\"after\")[-1]"
   ]
  },
  {
   "cell_type": "code",
   "execution_count": 51,
   "metadata": {
    "collapsed": true
   },
   "outputs": [],
   "source": [
    "df['reason'] = df.message.apply(method)"
   ]
  },
  {
   "cell_type": "code",
   "execution_count": 52,
   "metadata": {},
   "outputs": [
    {
     "data": {
      "text/plain": [
       " Form 501 party                   2192\n",
       " failing to find a match            71\n",
       " office                             19\n",
       " checking its scraped filer id       9\n",
       " Form 501 filer id                   9\n",
       " correction                          4\n",
       "Name: reason, dtype: int64"
      ]
     },
     "execution_count": 52,
     "metadata": {},
     "output_type": "execute_result"
    }
   ],
   "source": [
    "df.reason.value_counts()"
   ]
  },
  {
   "cell_type": "code",
   "execution_count": 53,
   "metadata": {},
   "outputs": [
    {
     "data": {
      "text/html": [
       "<div>\n",
       "<table border=\"1\" class=\"dataframe\">\n",
       "  <thead>\n",
       "    <tr style=\"text-align: right;\">\n",
       "      <th></th>\n",
       "      <th>level</th>\n",
       "      <th>time</th>\n",
       "      <th>logger</th>\n",
       "      <th>message</th>\n",
       "      <th>reason</th>\n",
       "    </tr>\n",
       "  </thead>\n",
       "  <tbody>\n",
       "    <tr>\n",
       "      <th>1707</th>\n",
       "      <td>DEBUG</td>\n",
       "      <td>19/Jul/2017 01:14:58</td>\n",
       "      <td>candidates</td>\n",
       "      <td>WALLS, JIMELLE L. party set to NO PARTY PREFER...</td>\n",
       "      <td>correction</td>\n",
       "    </tr>\n",
       "    <tr>\n",
       "      <th>1715</th>\n",
       "      <td>DEBUG</td>\n",
       "      <td>19/Jul/2017 01:14:59</td>\n",
       "      <td>candidates</td>\n",
       "      <td>WINSTON, ALMA MARIE party set to REPUBLICAN ba...</td>\n",
       "      <td>correction</td>\n",
       "    </tr>\n",
       "    <tr>\n",
       "      <th>1775</th>\n",
       "      <td>DEBUG</td>\n",
       "      <td>19/Jul/2017 01:15:07</td>\n",
       "      <td>candidates</td>\n",
       "      <td>WAHL, BERNT party set to NO PARTY PREFERENCE b...</td>\n",
       "      <td>correction</td>\n",
       "    </tr>\n",
       "    <tr>\n",
       "      <th>2037</th>\n",
       "      <td>DEBUG</td>\n",
       "      <td>19/Jul/2017 01:15:43</td>\n",
       "      <td>candidates</td>\n",
       "      <td>RODRIGUEZ, GREG party set to DEMOCRATIC based ...</td>\n",
       "      <td>correction</td>\n",
       "    </tr>\n",
       "  </tbody>\n",
       "</table>\n",
       "</div>"
      ],
      "text/plain": [
       "      level                  time      logger  \\\n",
       "1707  DEBUG  19/Jul/2017 01:14:58  candidates   \n",
       "1715  DEBUG  19/Jul/2017 01:14:59  candidates   \n",
       "1775  DEBUG  19/Jul/2017 01:15:07  candidates   \n",
       "2037  DEBUG  19/Jul/2017 01:15:43  candidates   \n",
       "\n",
       "                                                message       reason  \n",
       "1707  WALLS, JIMELLE L. party set to NO PARTY PREFER...   correction  \n",
       "1715  WINSTON, ALMA MARIE party set to REPUBLICAN ba...   correction  \n",
       "1775  WAHL, BERNT party set to NO PARTY PREFERENCE b...   correction  \n",
       "2037  RODRIGUEZ, GREG party set to DEMOCRATIC based ...   correction  "
      ]
     },
     "execution_count": 53,
     "metadata": {},
     "output_type": "execute_result"
    }
   ],
   "source": [
    "df[df.reason.str.contains(\"correction\")]"
   ]
  }
 ],
 "metadata": {
  "kernelspec": {
   "display_name": "Python 2",
   "language": "python",
   "name": "python2"
  },
  "language_info": {
   "codemirror_mode": {
    "name": "ipython",
    "version": 2
   },
   "file_extension": ".py",
   "mimetype": "text/x-python",
   "name": "python",
   "nbconvert_exporter": "python",
   "pygments_lexer": "ipython2",
   "version": "2.7.12"
  }
 },
 "nbformat": 4,
 "nbformat_minor": 2
}
