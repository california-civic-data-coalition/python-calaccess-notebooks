{
 "cells": [
  {
   "cell_type": "markdown",
   "metadata": {},
   "source": [
    "# Seed contributors\n",
    "\n",
    "By Ben Welsh\n",
    "\n",
    "Seeds a master list of California Civic Data Coalition participants with open-source contributors drawn from the GitHub API. Last harvested on Dec. 18, 2016, [using a Python script that interacts with GitHub's API](https://github.com/california-civic-data-coalition/django-calaccess-raw-data/blob/master/example/network-analysis/contributors.csv)."
   ]
  },
  {
   "cell_type": "code",
   "execution_count": 1,
   "metadata": {
    "collapsed": true
   },
   "outputs": [],
   "source": [
    "import pandas as pd\n",
    "import numpy as np"
   ]
  },
  {
   "cell_type": "markdown",
   "metadata": {},
   "source": [
    "## Load in the data"
   ]
  },
  {
   "cell_type": "code",
   "execution_count": 2,
   "metadata": {},
   "outputs": [],
   "source": [
    "table = pd.read_csv(\"./input/contributors.csv\")"
   ]
  },
  {
   "cell_type": "code",
   "execution_count": 3,
   "metadata": {},
   "outputs": [
    {
     "name": "stdout",
     "output_type": "stream",
     "text": [
      "<class 'pandas.core.frame.DataFrame'>\n",
      "RangeIndex: 225 entries, 0 to 224\n",
      "Data columns (total 9 columns):\n",
      "repo             225 non-null object\n",
      "login            225 non-null object\n",
      "name             175 non-null object\n",
      "email            108 non-null object\n",
      "company          115 non-null object\n",
      "location         145 non-null object\n",
      "bio              55 non-null object\n",
      "avatar_url       225 non-null object\n",
      "contributions    225 non-null int64\n",
      "dtypes: int64(1), object(8)\n",
      "memory usage: 15.9+ KB\n"
     ]
    }
   ],
   "source": [
    "table.info()"
   ]
  },
  {
   "cell_type": "markdown",
   "metadata": {},
   "source": [
    "### Clean up strings"
   ]
  },
  {
   "cell_type": "code",
   "execution_count": 4,
   "metadata": {
    "collapsed": true
   },
   "outputs": [],
   "source": [
    "table.replace(np.nan, \"\", inplace=True)"
   ]
  },
  {
   "cell_type": "code",
   "execution_count": 5,
   "metadata": {
    "collapsed": true
   },
   "outputs": [],
   "source": [
    "table.login = table.login.map(str.strip).str.lower()\n",
    "table.company = table.company.map(str.strip)\n",
    "table.location = table.location.map(str.strip)\n",
    "table.avatar_url = table.avatar_url.map(str.strip)"
   ]
  },
  {
   "cell_type": "markdown",
   "metadata": {},
   "source": [
    "### Merge in corrections"
   ]
  },
  {
   "cell_type": "code",
   "execution_count": 6,
   "metadata": {
    "collapsed": true
   },
   "outputs": [],
   "source": [
    "corrections = pd.read_csv(\"./input/contributors-corrections.csv\")"
   ]
  },
  {
   "cell_type": "code",
   "execution_count": 7,
   "metadata": {
    "collapsed": true
   },
   "outputs": [],
   "source": [
    "table = table.merge(corrections, on=\"login\", how=\"left\")"
   ]
  },
  {
   "cell_type": "code",
   "execution_count": 8,
   "metadata": {
    "collapsed": true
   },
   "outputs": [],
   "source": [
    "table.name = table.corrected_name.fillna(table.name)\n",
    "table.company = table.corrected_company.fillna(table.company)\n",
    "table.location = table.corrected_location.fillna(table.location)\n",
    "table.email = table.corrected_email.fillna(table.email)"
   ]
  },
  {
   "cell_type": "code",
   "execution_count": 9,
   "metadata": {
    "collapsed": true
   },
   "outputs": [],
   "source": [
    "table.drop('corrected_name', axis=1, inplace=True)\n",
    "table.drop('corrected_company', axis=1, inplace=True)\n",
    "table.drop('corrected_location', axis=1, inplace=True)\n",
    "table.drop('corrected_email', axis=1, inplace=True)"
   ]
  },
  {
   "cell_type": "markdown",
   "metadata": {},
   "source": [
    "### Merge some common variations"
   ]
  },
  {
   "cell_type": "code",
   "execution_count": 10,
   "metadata": {
    "collapsed": true
   },
   "outputs": [],
   "source": [
    "table.loc[table.location.isin(['Los Angeles', 'Los Angeles, California']), 'location'] = 'Los Angeles, CA'\n",
    "table.loc[table.location.isin(['Washington D.C.', 'District of Columbia', 'Washington, D.C.']), 'location'] = 'Washington, DC'\n",
    "table.loc[table.location == 'Chicago', 'location'] = 'Chicago, IL'\n",
    "table.loc[table.location == 'San Francisco', 'location'] = 'San Francisco, CA'\n",
    "table.loc[table.location == 'Palo Alto', 'location'] = 'Palo Alto, CA'\n",
    "table.loc[table.location == 'Spokane, Wash.', 'location'] = 'Spokane, WA'\n",
    "table.loc[table.location == 'Hackney, London', 'location'] = 'London, UK'\n",
    "table.loc[table.location.isin(['Brooklyn', 'Brooklyn NY', 'Brooklyn, NY', 'NYC', 'New York']), 'location'] = 'New York, NY'\n",
    "table.loc[table.location == 'Columbia, Missouri', 'location'] = 'Columbia, MO'\n",
    "table.loc[table.location == 'Tucson, Arizona', 'location'] = 'Tucson, AZ'\n",
    "table.loc[table.location == 'Toronto', 'location'] = 'Toronto, Canada'\n",
    "table.loc[table.location == 'Salt Lake City, Utah', 'location'] = 'Salt Lake City, UT'\n",
    "table.loc[table.location == 'Houston', 'location'] = 'Houston, TX'\n",
    "table.loc[table.location == 'Orange County, Calif.', 'location'] = 'Houston, TX'"
   ]
  },
  {
   "cell_type": "code",
   "execution_count": 11,
   "metadata": {
    "collapsed": true
   },
   "outputs": [],
   "source": [
    "table.company = table.company.str.replace(\"The \", \"\")\n",
    "table.loc[table.company == 'Sunnmorsposten', 'company'] = 'Sunnmørsposten'\n",
    "table.loc[table.company == 'Wall Street Journal.', 'company'] = 'Wall Street Journal'\n",
    "table.loc[table.company == 'Northwestern University Knight Lab', 'company'] = 'Northwestern'\n",
    "table.loc[table.company == 'Investigative News Network', 'company'] = 'Institute for Nonprofit News'\n",
    "table.loc[table.company == 'Stanford', 'company'] = 'Stanford University'\n",
    "table.loc[table.company == 'Missouri School of Journalism', 'company'] = 'University of Missouri'\n",
    "table.loc[table.company == 'University of Iowa School of Journalism', 'company'] = 'University of Iowa'\n",
    "table.loc[table.company == 'Knight-Mozilla fellow 2015', 'company'] = 'Mozilla OpenNews'\n",
    "table.loc[table.company == 'Knight-Mozilla Fellow', 'company'] = 'Mozilla OpenNews'"
   ]
  },
  {
   "cell_type": "markdown",
   "metadata": {},
   "source": [
    "## Output unique list"
   ]
  },
  {
   "cell_type": "code",
   "execution_count": 12,
   "metadata": {
    "collapsed": true
   },
   "outputs": [],
   "source": [
    "columns = [\n",
    "    \"login\",\n",
    "    \"name\",\n",
    "    \"email\",\n",
    "    \"company\",\n",
    "    \"location\",\n",
    "    \"bio\",\n",
    "    \"avatar_url\"\n",
    "]\n",
    "unique_contributors = table.groupby(columns, as_index=False).contributions.sum()"
   ]
  },
  {
   "cell_type": "code",
   "execution_count": 13,
   "metadata": {
    "collapsed": true
   },
   "outputs": [],
   "source": [
    "login_list = [\n",
    "    'palewire',\n",
    "    'gordonje',\n",
    "    'sahilchinoy',\n",
    "    'aboutaaron',\n",
    "    'armendariz',\n",
    "    'cephillips',\n",
    "    'jlagetz'\n",
    "]\n",
    "unique_contributors['in_coalition'] = unique_contributors.login.isin(login_list)"
   ]
  },
  {
   "cell_type": "markdown",
   "metadata": {},
   "source": [
    "### California v. everybody"
   ]
  },
  {
   "cell_type": "code",
   "execution_count": 14,
   "metadata": {
    "collapsed": true
   },
   "outputs": [],
   "source": [
    "unique_contributors['in_california'] = False\n",
    "unique_contributors.loc[unique_contributors.location.str.endswith(\", CA\"), 'in_california'] = True"
   ]
  },
  {
   "cell_type": "markdown",
   "metadata": {},
   "source": [
    "### Count the different states and countries"
   ]
  },
  {
   "cell_type": "code",
   "execution_count": 15,
   "metadata": {
    "collapsed": true
   },
   "outputs": [],
   "source": [
    "unique_contributors.loc[unique_contributors.location == '', 'in_usa'] = np.NaN\n",
    "unique_contributors.loc[unique_contributors.location.str.contains(\", \\w{2}$\"), 'in_usa'] = True\n",
    "unique_contributors.loc[unique_contributors.location.str.contains(\", \\w{3,}$\"), 'in_usa'] = False"
   ]
  },
  {
   "cell_type": "code",
   "execution_count": 20,
   "metadata": {
    "collapsed": true
   },
   "outputs": [],
   "source": [
    "def split_state(val):\n",
    "    if val == np.NaN:\n",
    "        return val\n",
    "    elif val == \"\":\n",
    "        return np.NaN\n",
    "    else:\n",
    "        try:\n",
    "            parent = val.split(\", \")[1]\n",
    "        except IndexError:\n",
    "            return val\n",
    "        if len(parent) == 2:\n",
    "            return parent\n",
    "        else:\n",
    "            return np.NaN"
   ]
  },
  {
   "cell_type": "code",
   "execution_count": 21,
   "metadata": {},
   "outputs": [],
   "source": [
    "unique_contributors['state'] = unique_contributors['location'].apply(split_state)"
   ]
  },
  {
   "cell_type": "code",
   "execution_count": 28,
   "metadata": {
    "collapsed": true
   },
   "outputs": [],
   "source": [
    "def split_country(val):\n",
    "    if val == np.NaN:\n",
    "        return val\n",
    "    elif val == \"\":\n",
    "        return np.NaN\n",
    "    else:\n",
    "        try:\n",
    "            parent = val.split(\", \")[1]\n",
    "        except IndexError:\n",
    "            return val\n",
    "        if len(parent) == 2:\n",
    "            return \"United States of America\"\n",
    "        elif len(parent) > 2:\n",
    "            return parent\n",
    "        else:\n",
    "            return np.NaN"
   ]
  },
  {
   "cell_type": "code",
   "execution_count": 29,
   "metadata": {},
   "outputs": [],
   "source": [
    "unique_contributors['country'] = unique_contributors['location'].apply(split_country)"
   ]
  },
  {
   "cell_type": "markdown",
   "metadata": {},
   "source": [
    "## Output data"
   ]
  },
  {
   "cell_type": "code",
   "execution_count": 30,
   "metadata": {
    "collapsed": true
   },
   "outputs": [],
   "source": [
    "unique_contributors.to_csv(\"./output/participants.csv\", index=False)"
   ]
  }
 ],
 "metadata": {
  "kernelspec": {
   "display_name": "Python 2",
   "language": "python",
   "name": "python2"
  },
  "language_info": {
   "codemirror_mode": {
    "name": "ipython",
    "version": 2
   },
   "file_extension": ".py",
   "mimetype": "text/x-python",
   "name": "python",
   "nbconvert_exporter": "python",
   "pygments_lexer": "ipython2",
   "version": "2.7.12"
  }
 },
 "nbformat": 4,
 "nbformat_minor": 1
}
